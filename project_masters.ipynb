{
  "cells": [
    {
      "cell_type": "markdown",
      "metadata": {
        "id": "view-in-github",
        "colab_type": "text"
      },
      "source": [
        "<a href=\"https://colab.research.google.com/github/Otsemeuno/EPL-SEASON-OUTCOME-EVALUATION/blob/main/project_masters.ipynb\" target=\"_parent\"><img src=\"https://colab.research.google.com/assets/colab-badge.svg\" alt=\"Open In Colab\"/></a>"
      ]
    },
    {
      "cell_type": "code",
      "execution_count": 1,
      "metadata": {
        "id": "AGNQS1AzLhBB"
      },
      "outputs": [],
      "source": [
        "import numpy as np \n",
        "import pandas as pd\n",
        "from google.colab import drive\n",
        "from matplotlib import pyplot as plt\n",
        "import seaborn as sns\n",
        "import matplotlib.pyplot as plt\n",
        "from sklearn.impute import KNNImputer\n"
      ]
    },
    {
      "cell_type": "code",
      "execution_count": 2,
      "metadata": {
        "colab": {
          "base_uri": "https://localhost:8080/"
        },
        "id": "EeVpUiACLonT",
        "outputId": "857b1318-6239-4886-c8de-e64ca1d1bae8"
      },
      "outputs": [
        {
          "output_type": "stream",
          "name": "stdout",
          "text": [
            "Drive already mounted at /content/drive; to attempt to forcibly remount, call drive.mount(\"/content/drive\", force_remount=True).\n"
          ]
        }
      ],
      "source": [
        "# Mount Google Drive on Kernel\n",
        "drive.mount('/content/drive')"
      ]
    },
    {
      "cell_type": "markdown",
      "metadata": {
        "id": "jArD_C6QKTzl"
      },
      "source": [
        "## Data Collection"
      ]
    },
    {
      "cell_type": "code",
      "execution_count": 3,
      "metadata": {
        "id": "ih306AFtLyMK"
      },
      "outputs": [],
      "source": [
        "#loading the dataset\n",
        "df = pd.read_excel('/content/drive/MyDrive/project_data_1.xlsx')"
      ]
    },
    {
      "cell_type": "code",
      "execution_count": 4,
      "metadata": {
        "colab": {
          "base_uri": "https://localhost:8080/",
          "height": 0
        },
        "id": "5lmDvkE-Lwqi",
        "outputId": "50412ef9-cb66-404b-d866-0ff7156be562"
      },
      "outputs": [
        {
          "output_type": "execute_result",
          "data": {
            "text/plain": [
              "                Club  Won  Draw  Loss  GF  GA  GD  Points   Position  Year  \\\n",
              "0    Manchester City   29     6     3  99  26  73       93         1  2022   \n",
              "1          Liverpool   28     8     2  94  26  68       92         2  2022   \n",
              "2            Chelsea   21    11     6  76  33  43       74         3  2022   \n",
              "3  Tottenham Hotspur   22     5    11  69  40  29       71         4  2022   \n",
              "4            Arsenal   22     3    13  61  48  13       69         5  2022   \n",
              "5  Manchester United   16    10    12  57  57   0       58         6  2022   \n",
              "6     Westham United   16     8    14  60  51   9       56         7  2022   \n",
              "7     Leicester City   14    10    14  62  59   3       52         8  2022   \n",
              "8           Brighton   12    15    11  42  44  -2       51         9  2022   \n",
              "9             Wolves   15     6    17  38  43  -5       51        10  2022   \n",
              "\n",
              "   ...  YC  RC  Passes  Shots  Tackles  Clearances  Cleansheets  Saves  PLS  \\\n",
              "0  ...  42   2   26132    713      498         368           21     62  Yes   \n",
              "1  ...  50   1   23588    729      554         499           21     83  Yes   \n",
              "2  ...  63   1   23179    592      621         616           16     84  Yes   \n",
              "3  ...  67   1   19165    491      598         758           16     98  Yes   \n",
              "4  ...  60   4   18290    589      540         636           13    100  Yes   \n",
              "5  ...  75   2   19035    508      585         673            8    128  Yes   \n",
              "6  ...  47   3   16579    449      534         755            8    116  Yes   \n",
              "7  ...  55   1   18578    435      690         727            7    135  Yes   \n",
              "8  ...  73   2   18835    489      668         684           11    104  Yes   \n",
              "9  ...  59   3   17517    402      673         771           11    125  Yes   \n",
              "\n",
              "   WIE  \n",
              "0  Yes  \n",
              "1  Yes  \n",
              "2  Yes  \n",
              "3  Yes  \n",
              "4   No  \n",
              "5  Yes  \n",
              "6  Yes  \n",
              "7  Yes  \n",
              "8   No  \n",
              "9   No  \n",
              "\n",
              "[10 rows x 36 columns]"
            ],
            "text/html": [
              "\n",
              "  <div id=\"df-054a4d73-8cfe-4456-988f-0812f5507720\">\n",
              "    <div class=\"colab-df-container\">\n",
              "      <div>\n",
              "<style scoped>\n",
              "    .dataframe tbody tr th:only-of-type {\n",
              "        vertical-align: middle;\n",
              "    }\n",
              "\n",
              "    .dataframe tbody tr th {\n",
              "        vertical-align: top;\n",
              "    }\n",
              "\n",
              "    .dataframe thead th {\n",
              "        text-align: right;\n",
              "    }\n",
              "</style>\n",
              "<table border=\"1\" class=\"dataframe\">\n",
              "  <thead>\n",
              "    <tr style=\"text-align: right;\">\n",
              "      <th></th>\n",
              "      <th>Club</th>\n",
              "      <th>Won</th>\n",
              "      <th>Draw</th>\n",
              "      <th>Loss</th>\n",
              "      <th>GF</th>\n",
              "      <th>GA</th>\n",
              "      <th>GD</th>\n",
              "      <th>Points</th>\n",
              "      <th>Position</th>\n",
              "      <th>Year</th>\n",
              "      <th>...</th>\n",
              "      <th>YC</th>\n",
              "      <th>RC</th>\n",
              "      <th>Passes</th>\n",
              "      <th>Shots</th>\n",
              "      <th>Tackles</th>\n",
              "      <th>Clearances</th>\n",
              "      <th>Cleansheets</th>\n",
              "      <th>Saves</th>\n",
              "      <th>PLS</th>\n",
              "      <th>WIE</th>\n",
              "    </tr>\n",
              "  </thead>\n",
              "  <tbody>\n",
              "    <tr>\n",
              "      <th>0</th>\n",
              "      <td>Manchester City</td>\n",
              "      <td>29</td>\n",
              "      <td>6</td>\n",
              "      <td>3</td>\n",
              "      <td>99</td>\n",
              "      <td>26</td>\n",
              "      <td>73</td>\n",
              "      <td>93</td>\n",
              "      <td>1</td>\n",
              "      <td>2022</td>\n",
              "      <td>...</td>\n",
              "      <td>42</td>\n",
              "      <td>2</td>\n",
              "      <td>26132</td>\n",
              "      <td>713</td>\n",
              "      <td>498</td>\n",
              "      <td>368</td>\n",
              "      <td>21</td>\n",
              "      <td>62</td>\n",
              "      <td>Yes</td>\n",
              "      <td>Yes</td>\n",
              "    </tr>\n",
              "    <tr>\n",
              "      <th>1</th>\n",
              "      <td>Liverpool</td>\n",
              "      <td>28</td>\n",
              "      <td>8</td>\n",
              "      <td>2</td>\n",
              "      <td>94</td>\n",
              "      <td>26</td>\n",
              "      <td>68</td>\n",
              "      <td>92</td>\n",
              "      <td>2</td>\n",
              "      <td>2022</td>\n",
              "      <td>...</td>\n",
              "      <td>50</td>\n",
              "      <td>1</td>\n",
              "      <td>23588</td>\n",
              "      <td>729</td>\n",
              "      <td>554</td>\n",
              "      <td>499</td>\n",
              "      <td>21</td>\n",
              "      <td>83</td>\n",
              "      <td>Yes</td>\n",
              "      <td>Yes</td>\n",
              "    </tr>\n",
              "    <tr>\n",
              "      <th>2</th>\n",
              "      <td>Chelsea</td>\n",
              "      <td>21</td>\n",
              "      <td>11</td>\n",
              "      <td>6</td>\n",
              "      <td>76</td>\n",
              "      <td>33</td>\n",
              "      <td>43</td>\n",
              "      <td>74</td>\n",
              "      <td>3</td>\n",
              "      <td>2022</td>\n",
              "      <td>...</td>\n",
              "      <td>63</td>\n",
              "      <td>1</td>\n",
              "      <td>23179</td>\n",
              "      <td>592</td>\n",
              "      <td>621</td>\n",
              "      <td>616</td>\n",
              "      <td>16</td>\n",
              "      <td>84</td>\n",
              "      <td>Yes</td>\n",
              "      <td>Yes</td>\n",
              "    </tr>\n",
              "    <tr>\n",
              "      <th>3</th>\n",
              "      <td>Tottenham Hotspur</td>\n",
              "      <td>22</td>\n",
              "      <td>5</td>\n",
              "      <td>11</td>\n",
              "      <td>69</td>\n",
              "      <td>40</td>\n",
              "      <td>29</td>\n",
              "      <td>71</td>\n",
              "      <td>4</td>\n",
              "      <td>2022</td>\n",
              "      <td>...</td>\n",
              "      <td>67</td>\n",
              "      <td>1</td>\n",
              "      <td>19165</td>\n",
              "      <td>491</td>\n",
              "      <td>598</td>\n",
              "      <td>758</td>\n",
              "      <td>16</td>\n",
              "      <td>98</td>\n",
              "      <td>Yes</td>\n",
              "      <td>Yes</td>\n",
              "    </tr>\n",
              "    <tr>\n",
              "      <th>4</th>\n",
              "      <td>Arsenal</td>\n",
              "      <td>22</td>\n",
              "      <td>3</td>\n",
              "      <td>13</td>\n",
              "      <td>61</td>\n",
              "      <td>48</td>\n",
              "      <td>13</td>\n",
              "      <td>69</td>\n",
              "      <td>5</td>\n",
              "      <td>2022</td>\n",
              "      <td>...</td>\n",
              "      <td>60</td>\n",
              "      <td>4</td>\n",
              "      <td>18290</td>\n",
              "      <td>589</td>\n",
              "      <td>540</td>\n",
              "      <td>636</td>\n",
              "      <td>13</td>\n",
              "      <td>100</td>\n",
              "      <td>Yes</td>\n",
              "      <td>No</td>\n",
              "    </tr>\n",
              "    <tr>\n",
              "      <th>5</th>\n",
              "      <td>Manchester United</td>\n",
              "      <td>16</td>\n",
              "      <td>10</td>\n",
              "      <td>12</td>\n",
              "      <td>57</td>\n",
              "      <td>57</td>\n",
              "      <td>0</td>\n",
              "      <td>58</td>\n",
              "      <td>6</td>\n",
              "      <td>2022</td>\n",
              "      <td>...</td>\n",
              "      <td>75</td>\n",
              "      <td>2</td>\n",
              "      <td>19035</td>\n",
              "      <td>508</td>\n",
              "      <td>585</td>\n",
              "      <td>673</td>\n",
              "      <td>8</td>\n",
              "      <td>128</td>\n",
              "      <td>Yes</td>\n",
              "      <td>Yes</td>\n",
              "    </tr>\n",
              "    <tr>\n",
              "      <th>6</th>\n",
              "      <td>Westham United</td>\n",
              "      <td>16</td>\n",
              "      <td>8</td>\n",
              "      <td>14</td>\n",
              "      <td>60</td>\n",
              "      <td>51</td>\n",
              "      <td>9</td>\n",
              "      <td>56</td>\n",
              "      <td>7</td>\n",
              "      <td>2022</td>\n",
              "      <td>...</td>\n",
              "      <td>47</td>\n",
              "      <td>3</td>\n",
              "      <td>16579</td>\n",
              "      <td>449</td>\n",
              "      <td>534</td>\n",
              "      <td>755</td>\n",
              "      <td>8</td>\n",
              "      <td>116</td>\n",
              "      <td>Yes</td>\n",
              "      <td>Yes</td>\n",
              "    </tr>\n",
              "    <tr>\n",
              "      <th>7</th>\n",
              "      <td>Leicester City</td>\n",
              "      <td>14</td>\n",
              "      <td>10</td>\n",
              "      <td>14</td>\n",
              "      <td>62</td>\n",
              "      <td>59</td>\n",
              "      <td>3</td>\n",
              "      <td>52</td>\n",
              "      <td>8</td>\n",
              "      <td>2022</td>\n",
              "      <td>...</td>\n",
              "      <td>55</td>\n",
              "      <td>1</td>\n",
              "      <td>18578</td>\n",
              "      <td>435</td>\n",
              "      <td>690</td>\n",
              "      <td>727</td>\n",
              "      <td>7</td>\n",
              "      <td>135</td>\n",
              "      <td>Yes</td>\n",
              "      <td>Yes</td>\n",
              "    </tr>\n",
              "    <tr>\n",
              "      <th>8</th>\n",
              "      <td>Brighton</td>\n",
              "      <td>12</td>\n",
              "      <td>15</td>\n",
              "      <td>11</td>\n",
              "      <td>42</td>\n",
              "      <td>44</td>\n",
              "      <td>-2</td>\n",
              "      <td>51</td>\n",
              "      <td>9</td>\n",
              "      <td>2022</td>\n",
              "      <td>...</td>\n",
              "      <td>73</td>\n",
              "      <td>2</td>\n",
              "      <td>18835</td>\n",
              "      <td>489</td>\n",
              "      <td>668</td>\n",
              "      <td>684</td>\n",
              "      <td>11</td>\n",
              "      <td>104</td>\n",
              "      <td>Yes</td>\n",
              "      <td>No</td>\n",
              "    </tr>\n",
              "    <tr>\n",
              "      <th>9</th>\n",
              "      <td>Wolves</td>\n",
              "      <td>15</td>\n",
              "      <td>6</td>\n",
              "      <td>17</td>\n",
              "      <td>38</td>\n",
              "      <td>43</td>\n",
              "      <td>-5</td>\n",
              "      <td>51</td>\n",
              "      <td>10</td>\n",
              "      <td>2022</td>\n",
              "      <td>...</td>\n",
              "      <td>59</td>\n",
              "      <td>3</td>\n",
              "      <td>17517</td>\n",
              "      <td>402</td>\n",
              "      <td>673</td>\n",
              "      <td>771</td>\n",
              "      <td>11</td>\n",
              "      <td>125</td>\n",
              "      <td>Yes</td>\n",
              "      <td>No</td>\n",
              "    </tr>\n",
              "  </tbody>\n",
              "</table>\n",
              "<p>10 rows × 36 columns</p>\n",
              "</div>\n",
              "      <button class=\"colab-df-convert\" onclick=\"convertToInteractive('df-054a4d73-8cfe-4456-988f-0812f5507720')\"\n",
              "              title=\"Convert this dataframe to an interactive table.\"\n",
              "              style=\"display:none;\">\n",
              "        \n",
              "  <svg xmlns=\"http://www.w3.org/2000/svg\" height=\"24px\"viewBox=\"0 0 24 24\"\n",
              "       width=\"24px\">\n",
              "    <path d=\"M0 0h24v24H0V0z\" fill=\"none\"/>\n",
              "    <path d=\"M18.56 5.44l.94 2.06.94-2.06 2.06-.94-2.06-.94-.94-2.06-.94 2.06-2.06.94zm-11 1L8.5 8.5l.94-2.06 2.06-.94-2.06-.94L8.5 2.5l-.94 2.06-2.06.94zm10 10l.94 2.06.94-2.06 2.06-.94-2.06-.94-.94-2.06-.94 2.06-2.06.94z\"/><path d=\"M17.41 7.96l-1.37-1.37c-.4-.4-.92-.59-1.43-.59-.52 0-1.04.2-1.43.59L10.3 9.45l-7.72 7.72c-.78.78-.78 2.05 0 2.83L4 21.41c.39.39.9.59 1.41.59.51 0 1.02-.2 1.41-.59l7.78-7.78 2.81-2.81c.8-.78.8-2.07 0-2.86zM5.41 20L4 18.59l7.72-7.72 1.47 1.35L5.41 20z\"/>\n",
              "  </svg>\n",
              "      </button>\n",
              "      \n",
              "  <style>\n",
              "    .colab-df-container {\n",
              "      display:flex;\n",
              "      flex-wrap:wrap;\n",
              "      gap: 12px;\n",
              "    }\n",
              "\n",
              "    .colab-df-convert {\n",
              "      background-color: #E8F0FE;\n",
              "      border: none;\n",
              "      border-radius: 50%;\n",
              "      cursor: pointer;\n",
              "      display: none;\n",
              "      fill: #1967D2;\n",
              "      height: 32px;\n",
              "      padding: 0 0 0 0;\n",
              "      width: 32px;\n",
              "    }\n",
              "\n",
              "    .colab-df-convert:hover {\n",
              "      background-color: #E2EBFA;\n",
              "      box-shadow: 0px 1px 2px rgba(60, 64, 67, 0.3), 0px 1px 3px 1px rgba(60, 64, 67, 0.15);\n",
              "      fill: #174EA6;\n",
              "    }\n",
              "\n",
              "    [theme=dark] .colab-df-convert {\n",
              "      background-color: #3B4455;\n",
              "      fill: #D2E3FC;\n",
              "    }\n",
              "\n",
              "    [theme=dark] .colab-df-convert:hover {\n",
              "      background-color: #434B5C;\n",
              "      box-shadow: 0px 1px 3px 1px rgba(0, 0, 0, 0.15);\n",
              "      filter: drop-shadow(0px 1px 2px rgba(0, 0, 0, 0.3));\n",
              "      fill: #FFFFFF;\n",
              "    }\n",
              "  </style>\n",
              "\n",
              "      <script>\n",
              "        const buttonEl =\n",
              "          document.querySelector('#df-054a4d73-8cfe-4456-988f-0812f5507720 button.colab-df-convert');\n",
              "        buttonEl.style.display =\n",
              "          google.colab.kernel.accessAllowed ? 'block' : 'none';\n",
              "\n",
              "        async function convertToInteractive(key) {\n",
              "          const element = document.querySelector('#df-054a4d73-8cfe-4456-988f-0812f5507720');\n",
              "          const dataTable =\n",
              "            await google.colab.kernel.invokeFunction('convertToInteractive',\n",
              "                                                     [key], {});\n",
              "          if (!dataTable) return;\n",
              "\n",
              "          const docLinkHtml = 'Like what you see? Visit the ' +\n",
              "            '<a target=\"_blank\" href=https://colab.research.google.com/notebooks/data_table.ipynb>data table notebook</a>'\n",
              "            + ' to learn more about interactive tables.';\n",
              "          element.innerHTML = '';\n",
              "          dataTable['output_type'] = 'display_data';\n",
              "          await google.colab.output.renderOutput(dataTable, element);\n",
              "          const docLink = document.createElement('div');\n",
              "          docLink.innerHTML = docLinkHtml;\n",
              "          element.appendChild(docLink);\n",
              "        }\n",
              "      </script>\n",
              "    </div>\n",
              "  </div>\n",
              "  "
            ]
          },
          "metadata": {},
          "execution_count": 4
        }
      ],
      "source": [
        "#viewing the first entries of the dataset\n",
        "df.head(10)"
      ]
    },
    {
      "cell_type": "code",
      "execution_count": 5,
      "metadata": {
        "colab": {
          "base_uri": "https://localhost:8080/"
        },
        "id": "NIeKDY9MPAo6",
        "outputId": "5fdba874-49d4-4561-c395-2c3c84ded0b4"
      },
      "outputs": [
        {
          "output_type": "execute_result",
          "data": {
            "text/plain": [
              "(320, 36)"
            ]
          },
          "metadata": {},
          "execution_count": 5
        }
      ],
      "source": [
        "#number of rows and column of the data\n",
        "df.shape"
      ]
    },
    {
      "cell_type": "markdown",
      "metadata": {
        "id": "00SEJH9LKs1D"
      },
      "source": [
        "## Data Exploration"
      ]
    },
    {
      "cell_type": "code",
      "execution_count": 6,
      "metadata": {
        "colab": {
          "base_uri": "https://localhost:8080/"
        },
        "id": "fqw1ZtxOwRXT",
        "outputId": "945318b4-694a-42e4-db66-8edb19be4fa4"
      },
      "outputs": [
        {
          "output_type": "stream",
          "name": "stdout",
          "text": [
            "41\n",
            "Manchester City            16\n",
            "Chelsea                    16\n",
            "Tottenham Hotspur          16\n",
            "Arsenal                    16\n",
            "Manchester United          16\n",
            "Liverpool                  16\n",
            "Everton                    16\n",
            "Westham United             15\n",
            "Newcastle United           14\n",
            "Aston Villa                13\n",
            "Southampton                10\n",
            "Sunderland                 10\n",
            "Stoke City                 10\n",
            "West Bromwich Albion       10\n",
            "Fulham                     10\n",
            "Crystal Palace              9\n",
            "Burnley                     8\n",
            "Leicester City              8\n",
            "Swansea                     7\n",
            "Watford                     7\n",
            "Wolves                      7\n",
            "Wigan Athletic              7\n",
            "Norwich City                6\n",
            "Blackburn Rovers            6\n",
            "Bolton Wanderers            6\n",
            "Brighton                    5\n",
            "Hull City                   5\n",
            "Bournemouth                 5\n",
            "Portsmouth                  4\n",
            "Middlesbrough               4\n",
            "Queens Park Rangers         3\n",
            "Reading                     3\n",
            "Sheffield United United     3\n",
            "Birmingham City             3\n",
            "Leeds                       2\n",
            "Huddersfield                2\n",
            "Cardiff City                2\n",
            "Derby County County         1\n",
            "Brentford                   1\n",
            "Blackpool                   1\n",
            "Charlton                    1\n",
            "Name: Club, dtype: int64\n"
          ]
        }
      ],
      "source": [
        "clubs_count = df['Club'].value_counts()\n",
        "print(clubs_count.count())\n",
        "print(clubs_count)"
      ]
    },
    {
      "cell_type": "code",
      "execution_count": 7,
      "metadata": {
        "colab": {
          "base_uri": "https://localhost:8080/"
        },
        "id": "Q7C6pAy1XG4-",
        "outputId": "78a00705-4b97-4ea8-a684-cb201cdb4b65"
      },
      "outputs": [
        {
          "output_type": "execute_result",
          "data": {
            "text/plain": [
              "Index(['Club', 'Won', 'Draw', 'Loss', 'GF', 'GA', 'GD', 'Points ', 'Position',\n",
              "       'Year', 'HW', 'HD', 'HL', 'HGF', 'HGA', 'HGD', 'HP', 'AW', 'AD', 'AL',\n",
              "       'AGF', 'AGA', 'AGD', 'AP', 'Touches', 'Owngoal', 'YC', 'RC', 'Passes',\n",
              "       'Shots', 'Tackles', 'Clearances', 'Cleansheets', 'Saves', 'PLS', 'WIE'],\n",
              "      dtype='object')"
            ]
          },
          "metadata": {},
          "execution_count": 7
        }
      ],
      "source": [
        "df.columns"
      ]
    },
    {
      "cell_type": "code",
      "execution_count": 8,
      "metadata": {
        "colab": {
          "base_uri": "https://localhost:8080/"
        },
        "id": "WvgLwvshQAZC",
        "outputId": "42f7b094-5a57-4ff2-fe5e-23cb51b8d9c1"
      },
      "outputs": [
        {
          "output_type": "execute_result",
          "data": {
            "text/plain": [
              "0        Manchester City\n",
              "20       Manchester City\n",
              "40             Liverpool\n",
              "60       Manchester City\n",
              "80       Manchester City\n",
              "100              Chelsea\n",
              "120       Leicester City\n",
              "140              Chelsea\n",
              "160      Manchester City\n",
              "180    Manchester United\n",
              "200      Manchester City\n",
              "220    Manchester United\n",
              "240              Chelsea\n",
              "260    Manchester United\n",
              "280    Manchester United\n",
              "300    Manchester United\n",
              "Name: Club, dtype: object"
            ]
          },
          "metadata": {},
          "execution_count": 8
        }
      ],
      "source": [
        "first_position = df[df['Position'] == 1]\n",
        "first_position['Club']"
      ]
    },
    {
      "cell_type": "code",
      "execution_count": 9,
      "metadata": {
        "id": "ooDEtAQeRwsO"
      },
      "outputs": [],
      "source": [
        "winners = first_position['Club'].value_counts()\n"
      ]
    },
    {
      "cell_type": "code",
      "execution_count": 87,
      "metadata": {
        "colab": {
          "base_uri": "https://localhost:8080/",
          "height": 420
        },
        "id": "5wcDyRQfrKJ4",
        "outputId": "193799da-d5f4-4999-f824-8ff9d3f54324"
      },
      "outputs": [
        {
          "output_type": "execute_result",
          "data": {
            "text/plain": [
              "Text(0.5, 6.79999999999999, 'Clubs')"
            ]
          },
          "metadata": {},
          "execution_count": 87
        },
        {
          "output_type": "display_data",
          "data": {
            "text/plain": [
              "<Figure size 720x360 with 1 Axes>"
            ],
            "image/png": "[encoded data removed]"
          },
          "metadata": {
            "needs_background": "light"
          }
        }
      ],
      "source": [
        "sns.catplot(x = 'Club', kind='count', data = first_position,aspect = 2, order = winners.index, palette = 'rocket')\n",
        "plt.title('Winners', fontsize = 30)\n",
        "plt.ylabel('Total', fontsize = 15)\n",
        "plt.xlabel('Clubs', fontsize = 15)"
      ]
    },
    {
      "cell_type": "code",
      "execution_count": 11,
      "metadata": {
        "colab": {
          "base_uri": "https://localhost:8080/"
        },
        "id": "k7X9-ZFHXs5x",
        "outputId": "efb5da6f-5a23-457c-bf26-95f263479d7a"
      },
      "outputs": [
        {
          "output_type": "execute_result",
          "data": {
            "text/plain": [
              "16                       Leeds\n",
              "17                     Burnley\n",
              "18                     Watford\n",
              "19                Norwich City\n",
              "36                     Burnley\n",
              "                ...           \n",
              "299        Derby County County\n",
              "316             Wigan Athletic\n",
              "317    Sheffield United United\n",
              "318                   Charlton\n",
              "319                    Watford\n",
              "Name: Club, Length: 64, dtype: object"
            ]
          },
          "metadata": {},
          "execution_count": 11
        }
      ],
      "source": [
        "relegation_position = df[df['Position'] > 16]\n",
        "relegation_position['Club']"
      ]
    },
    {
      "cell_type": "code",
      "execution_count": 12,
      "metadata": {
        "colab": {
          "base_uri": "https://localhost:8080/",
          "height": 1000
        },
        "id": "Fbqwg8QG3StP",
        "outputId": "fe111cf9-acc5-4a4e-ee0e-2a726d1bb3f7"
      },
      "outputs": [
        {
          "output_type": "execute_result",
          "data": {
            "text/plain": [
              "                         Club\n",
              "Hull City                   4\n",
              "Watford                     4\n",
              "Norwich City                4\n",
              "Fulham                      4\n",
              "West Bromwich Albion        4\n",
              "Burnley                     4\n",
              "Aston Villa                 3\n",
              "Queens Park Rangers         3\n",
              "Sunderland                  3\n",
              "Wolves                      2\n",
              "Wigan Athletic              2\n",
              "Newcastle United            2\n",
              "Middlesbrough               2\n",
              "Westham United              2\n",
              "Birmingham City             2\n",
              "Cardiff City                2\n",
              "Sheffield United United     2\n",
              "Reading                     2\n",
              "Blackpool                   1\n",
              "Blackburn Rovers            1\n",
              "Portsmouth                  1\n",
              "Derby County County         1\n",
              "Leeds                       1\n",
              "Bolton Wanderers            1\n",
              "Stoke City                  1\n",
              "Swansea                     1\n",
              "Southampton                 1\n",
              "Huddersfield                1\n",
              "Brighton                    1\n",
              "Bournemouth                 1\n",
              "Charlton                    1"
            ],
            "text/html": [
              "\n",
              "  <div id=\"df-fd363985-0c30-4e35-873f-aab3600f00b3\">\n",
              "    <div class=\"colab-df-container\">\n",
              "      <div>\n",
              "<style scoped>\n",
              "    .dataframe tbody tr th:only-of-type {\n",
              "        vertical-align: middle;\n",
              "    }\n",
              "\n",
              "    .dataframe tbody tr th {\n",
              "        vertical-align: top;\n",
              "    }\n",
              "\n",
              "    .dataframe thead th {\n",
              "        text-align: right;\n",
              "    }\n",
              "</style>\n",
              "<table border=\"1\" class=\"dataframe\">\n",
              "  <thead>\n",
              "    <tr style=\"text-align: right;\">\n",
              "      <th></th>\n",
              "      <th>Club</th>\n",
              "    </tr>\n",
              "  </thead>\n",
              "  <tbody>\n",
              "    <tr>\n",
              "      <th>Hull City</th>\n",
              "      <td>4</td>\n",
              "    </tr>\n",
              "    <tr>\n",
              "      <th>Watford</th>\n",
              "      <td>4</td>\n",
              "    </tr>\n",
              "    <tr>\n",
              "      <th>Norwich City</th>\n",
              "      <td>4</td>\n",
              "    </tr>\n",
              "    <tr>\n",
              "      <th>Fulham</th>\n",
              "      <td>4</td>\n",
              "    </tr>\n",
              "    <tr>\n",
              "      <th>West Bromwich Albion</th>\n",
              "      <td>4</td>\n",
              "    </tr>\n",
              "    <tr>\n",
              "      <th>Burnley</th>\n",
              "      <td>4</td>\n",
              "    </tr>\n",
              "    <tr>\n",
              "      <th>Aston Villa</th>\n",
              "      <td>3</td>\n",
              "    </tr>\n",
              "    <tr>\n",
              "      <th>Queens Park Rangers</th>\n",
              "      <td>3</td>\n",
              "    </tr>\n",
              "    <tr>\n",
              "      <th>Sunderland</th>\n",
              "      <td>3</td>\n",
              "    </tr>\n",
              "    <tr>\n",
              "      <th>Wolves</th>\n",
              "      <td>2</td>\n",
              "    </tr>\n",
              "    <tr>\n",
              "      <th>Wigan Athletic</th>\n",
              "      <td>2</td>\n",
              "    </tr>\n",
              "    <tr>\n",
              "      <th>Newcastle United</th>\n",
              "      <td>2</td>\n",
              "    </tr>\n",
              "    <tr>\n",
              "      <th>Middlesbrough</th>\n",
              "      <td>2</td>\n",
              "    </tr>\n",
              "    <tr>\n",
              "      <th>Westham United</th>\n",
              "      <td>2</td>\n",
              "    </tr>\n",
              "    <tr>\n",
              "      <th>Birmingham City</th>\n",
              "      <td>2</td>\n",
              "    </tr>\n",
              "    <tr>\n",
              "      <th>Cardiff City</th>\n",
              "      <td>2</td>\n",
              "    </tr>\n",
              "    <tr>\n",
              "      <th>Sheffield United United</th>\n",
              "      <td>2</td>\n",
              "    </tr>\n",
              "    <tr>\n",
              "      <th>Reading</th>\n",
              "      <td>2</td>\n",
              "    </tr>\n",
              "    <tr>\n",
              "      <th>Blackpool</th>\n",
              "      <td>1</td>\n",
              "    </tr>\n",
              "    <tr>\n",
              "      <th>Blackburn Rovers</th>\n",
              "      <td>1</td>\n",
              "    </tr>\n",
              "    <tr>\n",
              "      <th>Portsmouth</th>\n",
              "      <td>1</td>\n",
              "    </tr>\n",
              "    <tr>\n",
              "      <th>Derby County County</th>\n",
              "      <td>1</td>\n",
              "    </tr>\n",
              "    <tr>\n",
              "      <th>Leeds</th>\n",
              "      <td>1</td>\n",
              "    </tr>\n",
              "    <tr>\n",
              "      <th>Bolton Wanderers</th>\n",
              "      <td>1</td>\n",
              "    </tr>\n",
              "    <tr>\n",
              "      <th>Stoke City</th>\n",
              "      <td>1</td>\n",
              "    </tr>\n",
              "    <tr>\n",
              "      <th>Swansea</th>\n",
              "      <td>1</td>\n",
              "    </tr>\n",
              "    <tr>\n",
              "      <th>Southampton</th>\n",
              "      <td>1</td>\n",
              "    </tr>\n",
              "    <tr>\n",
              "      <th>Huddersfield</th>\n",
              "      <td>1</td>\n",
              "    </tr>\n",
              "    <tr>\n",
              "      <th>Brighton</th>\n",
              "      <td>1</td>\n",
              "    </tr>\n",
              "    <tr>\n",
              "      <th>Bournemouth</th>\n",
              "      <td>1</td>\n",
              "    </tr>\n",
              "    <tr>\n",
              "      <th>Charlton</th>\n",
              "      <td>1</td>\n",
              "    </tr>\n",
              "  </tbody>\n",
              "</table>\n",
              "</div>\n",
              "      <button class=\"colab-df-convert\" onclick=\"convertToInteractive('df-fd363985-0c30-4e35-873f-aab3600f00b3')\"\n",
              "              title=\"Convert this dataframe to an interactive table.\"\n",
              "              style=\"display:none;\">\n",
              "        \n",
              "  <svg xmlns=\"http://www.w3.org/2000/svg\" height=\"24px\"viewBox=\"0 0 24 24\"\n",
              "       width=\"24px\">\n",
              "    <path d=\"M0 0h24v24H0V0z\" fill=\"none\"/>\n",
              "    <path d=\"M18.56 5.44l.94 2.06.94-2.06 2.06-.94-2.06-.94-.94-2.06-.94 2.06-2.06.94zm-11 1L8.5 8.5l.94-2.06 2.06-.94-2.06-.94L8.5 2.5l-.94 2.06-2.06.94zm10 10l.94 2.06.94-2.06 2.06-.94-2.06-.94-.94-2.06-.94 2.06-2.06.94z\"/><path d=\"M17.41 7.96l-1.37-1.37c-.4-.4-.92-.59-1.43-.59-.52 0-1.04.2-1.43.59L10.3 9.45l-7.72 7.72c-.78.78-.78 2.05 0 2.83L4 21.41c.39.39.9.59 1.41.59.51 0 1.02-.2 1.41-.59l7.78-7.78 2.81-2.81c.8-.78.8-2.07 0-2.86zM5.41 20L4 18.59l7.72-7.72 1.47 1.35L5.41 20z\"/>\n",
              "  </svg>\n",
              "      </button>\n",
              "      \n",
              "  <style>\n",
              "    .colab-df-container {\n",
              "      display:flex;\n",
              "      flex-wrap:wrap;\n",
              "      gap: 12px;\n",
              "    }\n",
              "\n",
              "    .colab-df-convert {\n",
              "      background-color: #E8F0FE;\n",
              "      border: none;\n",
              "      border-radius: 50%;\n",
              "      cursor: pointer;\n",
              "      display: none;\n",
              "      fill: #1967D2;\n",
              "      height: 32px;\n",
              "      padding: 0 0 0 0;\n",
              "      width: 32px;\n",
              "    }\n",
              "\n",
              "    .colab-df-convert:hover {\n",
              "      background-color: #E2EBFA;\n",
              "      box-shadow: 0px 1px 2px rgba(60, 64, 67, 0.3), 0px 1px 3px 1px rgba(60, 64, 67, 0.15);\n",
              "      fill: #174EA6;\n",
              "    }\n",
              "\n",
              "    [theme=dark] .colab-df-convert {\n",
              "      background-color: #3B4455;\n",
              "      fill: #D2E3FC;\n",
              "    }\n",
              "\n",
              "    [theme=dark] .colab-df-convert:hover {\n",
              "      background-color: #434B5C;\n",
              "      box-shadow: 0px 1px 3px 1px rgba(0, 0, 0, 0.15);\n",
              "      filter: drop-shadow(0px 1px 2px rgba(0, 0, 0, 0.3));\n",
              "      fill: #FFFFFF;\n",
              "    }\n",
              "  </style>\n",
              "\n",
              "      <script>\n",
              "        const buttonEl =\n",
              "          document.querySelector('#df-fd363985-0c30-4e35-873f-aab3600f00b3 button.colab-df-convert');\n",
              "        buttonEl.style.display =\n",
              "          google.colab.kernel.accessAllowed ? 'block' : 'none';\n",
              "\n",
              "        async function convertToInteractive(key) {\n",
              "          const element = document.querySelector('#df-fd363985-0c30-4e35-873f-aab3600f00b3');\n",
              "          const dataTable =\n",
              "            await google.colab.kernel.invokeFunction('convertToInteractive',\n",
              "                                                     [key], {});\n",
              "          if (!dataTable) return;\n",
              "\n",
              "          const docLinkHtml = 'Like what you see? Visit the ' +\n",
              "            '<a target=\"_blank\" href=https://colab.research.google.com/notebooks/data_table.ipynb>data table notebook</a>'\n",
              "            + ' to learn more about interactive tables.';\n",
              "          element.innerHTML = '';\n",
              "          dataTable['output_type'] = 'display_data';\n",
              "          await google.colab.output.renderOutput(dataTable, element);\n",
              "          const docLink = document.createElement('div');\n",
              "          docLink.innerHTML = docLinkHtml;\n",
              "          element.appendChild(docLink);\n",
              "        }\n",
              "      </script>\n",
              "    </div>\n",
              "  </div>\n",
              "  "
            ]
          },
          "metadata": {},
          "execution_count": 12
        }
      ],
      "source": [
        "relegated = relegation_position['Club'].value_counts()\n",
        "pd.DataFrame(relegated)"
      ]
    },
    {
      "cell_type": "code",
      "execution_count": 13,
      "metadata": {
        "colab": {
          "base_uri": "https://localhost:8080/"
        },
        "id": "Jyihv-eY8S06",
        "outputId": "3e7ac8e2-bfef-4fd9-800e-32fb76e3b5e5"
      },
      "outputs": [
        {
          "output_type": "execute_result",
          "data": {
            "text/plain": [
              "0        Manchester City\n",
              "1              Liverpool\n",
              "2                Chelsea\n",
              "3      Tottenham Hotspur\n",
              "5      Manchester United\n",
              "             ...        \n",
              "303              Arsenal\n",
              "304    Tottenham Hotspur\n",
              "309     Blackburn Rovers\n",
              "312     Newcastle United\n",
              "314       Westham United\n",
              "Name: Club, Length: 115, dtype: object"
            ]
          },
          "metadata": {},
          "execution_count": 13
        }
      ],
      "source": [
        "europe_present = df[df['WIE'] == 'Yes']\n",
        "europe_present['Club']"
      ]
    },
    {
      "cell_type": "code",
      "execution_count": 14,
      "metadata": {
        "colab": {
          "base_uri": "https://localhost:8080/",
          "height": 708
        },
        "id": "QzBp1QZF9-oH",
        "outputId": "c826e0d4-5e33-4188-ab97-0afcb6f31253"
      },
      "outputs": [
        {
          "output_type": "execute_result",
          "data": {
            "text/plain": [
              "                   Club\n",
              "Arsenal              15\n",
              "Chelsea              15\n",
              "Tottenham Hotspur    15\n",
              "Manchester United    15\n",
              "Liverpool            14\n",
              "Manchester City      13\n",
              "Everton               4\n",
              "Westham United        4\n",
              "Aston Villa           3\n",
              "Leicester City        2\n",
              "Southampton           2\n",
              "Newcastle United      2\n",
              "Fulham                2\n",
              "Blackburn Rovers      2\n",
              "Wolves                1\n",
              "Burnley               1\n",
              "Hull City             1\n",
              "Swansea               1\n",
              "Stoke City            1\n",
              "Portsmouth            1\n",
              "Bolton Wanderers      1"
            ],
            "text/html": [
              "\n",
              "  <div id=\"df-7ceafef0-84ba-431a-ad96-8598e28abdd8\">\n",
              "    <div class=\"colab-df-container\">\n",
              "      <div>\n",
              "<style scoped>\n",
              "    .dataframe tbody tr th:only-of-type {\n",
              "        vertical-align: middle;\n",
              "    }\n",
              "\n",
              "    .dataframe tbody tr th {\n",
              "        vertical-align: top;\n",
              "    }\n",
              "\n",
              "    .dataframe thead th {\n",
              "        text-align: right;\n",
              "    }\n",
              "</style>\n",
              "<table border=\"1\" class=\"dataframe\">\n",
              "  <thead>\n",
              "    <tr style=\"text-align: right;\">\n",
              "      <th></th>\n",
              "      <th>Club</th>\n",
              "    </tr>\n",
              "  </thead>\n",
              "  <tbody>\n",
              "    <tr>\n",
              "      <th>Arsenal</th>\n",
              "      <td>15</td>\n",
              "    </tr>\n",
              "    <tr>\n",
              "      <th>Chelsea</th>\n",
              "      <td>15</td>\n",
              "    </tr>\n",
              "    <tr>\n",
              "      <th>Tottenham Hotspur</th>\n",
              "      <td>15</td>\n",
              "    </tr>\n",
              "    <tr>\n",
              "      <th>Manchester United</th>\n",
              "      <td>15</td>\n",
              "    </tr>\n",
              "    <tr>\n",
              "      <th>Liverpool</th>\n",
              "      <td>14</td>\n",
              "    </tr>\n",
              "    <tr>\n",
              "      <th>Manchester City</th>\n",
              "      <td>13</td>\n",
              "    </tr>\n",
              "    <tr>\n",
              "      <th>Everton</th>\n",
              "      <td>4</td>\n",
              "    </tr>\n",
              "    <tr>\n",
              "      <th>Westham United</th>\n",
              "      <td>4</td>\n",
              "    </tr>\n",
              "    <tr>\n",
              "      <th>Aston Villa</th>\n",
              "      <td>3</td>\n",
              "    </tr>\n",
              "    <tr>\n",
              "      <th>Leicester City</th>\n",
              "      <td>2</td>\n",
              "    </tr>\n",
              "    <tr>\n",
              "      <th>Southampton</th>\n",
              "      <td>2</td>\n",
              "    </tr>\n",
              "    <tr>\n",
              "      <th>Newcastle United</th>\n",
              "      <td>2</td>\n",
              "    </tr>\n",
              "    <tr>\n",
              "      <th>Fulham</th>\n",
              "      <td>2</td>\n",
              "    </tr>\n",
              "    <tr>\n",
              "      <th>Blackburn Rovers</th>\n",
              "      <td>2</td>\n",
              "    </tr>\n",
              "    <tr>\n",
              "      <th>Wolves</th>\n",
              "      <td>1</td>\n",
              "    </tr>\n",
              "    <tr>\n",
              "      <th>Burnley</th>\n",
              "      <td>1</td>\n",
              "    </tr>\n",
              "    <tr>\n",
              "      <th>Hull City</th>\n",
              "      <td>1</td>\n",
              "    </tr>\n",
              "    <tr>\n",
              "      <th>Swansea</th>\n",
              "      <td>1</td>\n",
              "    </tr>\n",
              "    <tr>\n",
              "      <th>Stoke City</th>\n",
              "      <td>1</td>\n",
              "    </tr>\n",
              "    <tr>\n",
              "      <th>Portsmouth</th>\n",
              "      <td>1</td>\n",
              "    </tr>\n",
              "    <tr>\n",
              "      <th>Bolton Wanderers</th>\n",
              "      <td>1</td>\n",
              "    </tr>\n",
              "  </tbody>\n",
              "</table>\n",
              "</div>\n",
              "      <button class=\"colab-df-convert\" onclick=\"convertToInteractive('df-7ceafef0-84ba-431a-ad96-8598e28abdd8')\"\n",
              "              title=\"Convert this dataframe to an interactive table.\"\n",
              "              style=\"display:none;\">\n",
              "        \n",
              "  <svg xmlns=\"http://www.w3.org/2000/svg\" height=\"24px\"viewBox=\"0 0 24 24\"\n",
              "       width=\"24px\">\n",
              "    <path d=\"M0 0h24v24H0V0z\" fill=\"none\"/>\n",
              "    <path d=\"M18.56 5.44l.94 2.06.94-2.06 2.06-.94-2.06-.94-.94-2.06-.94 2.06-2.06.94zm-11 1L8.5 8.5l.94-2.06 2.06-.94-2.06-.94L8.5 2.5l-.94 2.06-2.06.94zm10 10l.94 2.06.94-2.06 2.06-.94-2.06-.94-.94-2.06-.94 2.06-2.06.94z\"/><path d=\"M17.41 7.96l-1.37-1.37c-.4-.4-.92-.59-1.43-.59-.52 0-1.04.2-1.43.59L10.3 9.45l-7.72 7.72c-.78.78-.78 2.05 0 2.83L4 21.41c.39.39.9.59 1.41.59.51 0 1.02-.2 1.41-.59l7.78-7.78 2.81-2.81c.8-.78.8-2.07 0-2.86zM5.41 20L4 18.59l7.72-7.72 1.47 1.35L5.41 20z\"/>\n",
              "  </svg>\n",
              "      </button>\n",
              "      \n",
              "  <style>\n",
              "    .colab-df-container {\n",
              "      display:flex;\n",
              "      flex-wrap:wrap;\n",
              "      gap: 12px;\n",
              "    }\n",
              "\n",
              "    .colab-df-convert {\n",
              "      background-color: #E8F0FE;\n",
              "      border: none;\n",
              "      border-radius: 50%;\n",
              "      cursor: pointer;\n",
              "      display: none;\n",
              "      fill: #1967D2;\n",
              "      height: 32px;\n",
              "      padding: 0 0 0 0;\n",
              "      width: 32px;\n",
              "    }\n",
              "\n",
              "    .colab-df-convert:hover {\n",
              "      background-color: #E2EBFA;\n",
              "      box-shadow: 0px 1px 2px rgba(60, 64, 67, 0.3), 0px 1px 3px 1px rgba(60, 64, 67, 0.15);\n",
              "      fill: #174EA6;\n",
              "    }\n",
              "\n",
              "    [theme=dark] .colab-df-convert {\n",
              "      background-color: #3B4455;\n",
              "      fill: #D2E3FC;\n",
              "    }\n",
              "\n",
              "    [theme=dark] .colab-df-convert:hover {\n",
              "      background-color: #434B5C;\n",
              "      box-shadow: 0px 1px 3px 1px rgba(0, 0, 0, 0.15);\n",
              "      filter: drop-shadow(0px 1px 2px rgba(0, 0, 0, 0.3));\n",
              "      fill: #FFFFFF;\n",
              "    }\n",
              "  </style>\n",
              "\n",
              "      <script>\n",
              "        const buttonEl =\n",
              "          document.querySelector('#df-7ceafef0-84ba-431a-ad96-8598e28abdd8 button.colab-df-convert');\n",
              "        buttonEl.style.display =\n",
              "          google.colab.kernel.accessAllowed ? 'block' : 'none';\n",
              "\n",
              "        async function convertToInteractive(key) {\n",
              "          const element = document.querySelector('#df-7ceafef0-84ba-431a-ad96-8598e28abdd8');\n",
              "          const dataTable =\n",
              "            await google.colab.kernel.invokeFunction('convertToInteractive',\n",
              "                                                     [key], {});\n",
              "          if (!dataTable) return;\n",
              "\n",
              "          const docLinkHtml = 'Like what you see? Visit the ' +\n",
              "            '<a target=\"_blank\" href=https://colab.research.google.com/notebooks/data_table.ipynb>data table notebook</a>'\n",
              "            + ' to learn more about interactive tables.';\n",
              "          element.innerHTML = '';\n",
              "          dataTable['output_type'] = 'display_data';\n",
              "          await google.colab.output.renderOutput(dataTable, element);\n",
              "          const docLink = document.createElement('div');\n",
              "          docLink.innerHTML = docLinkHtml;\n",
              "          element.appendChild(docLink);\n",
              "        }\n",
              "      </script>\n",
              "    </div>\n",
              "  </div>\n",
              "  "
            ]
          },
          "metadata": {},
          "execution_count": 14
        }
      ],
      "source": [
        "europe = europe_present['Club'].value_counts()\n",
        "pd.DataFrame(europe)"
      ]
    },
    {
      "cell_type": "code",
      "execution_count": 15,
      "metadata": {
        "colab": {
          "base_uri": "https://localhost:8080/"
        },
        "id": "zP86AFyM_EgB",
        "outputId": "9969024f-6b51-41b7-9cf2-65c2af6d3abc"
      },
      "outputs": [
        {
          "output_type": "execute_result",
          "data": {
            "text/plain": [
              "0        Manchester City\n",
              "1              Liverpool\n",
              "2                Chelsea\n",
              "3      Tottenham Hotspur\n",
              "20       Manchester City\n",
              "             ...        \n",
              "283            Liverpool\n",
              "300    Manchester United\n",
              "301              Chelsea\n",
              "302            Liverpool\n",
              "303              Arsenal\n",
              "Name: Club, Length: 64, dtype: object"
            ]
          },
          "metadata": {},
          "execution_count": 15
        }
      ],
      "source": [
        "top_4 = df[df['Position'] <5]\n",
        "top_4['Club']"
      ]
    },
    {
      "cell_type": "code",
      "execution_count": 67,
      "metadata": {
        "colab": {
          "base_uri": "https://localhost:8080/",
          "height": 269
        },
        "id": "iF3z476o_XUJ",
        "outputId": "8d5138a0-41fb-40a9-b2d2-b40aebe3d9bd"
      },
      "outputs": [
        {
          "output_type": "execute_result",
          "data": {
            "text/plain": [
              "                   Club\n",
              "Chelsea              13\n",
              "Manchester City      12\n",
              "Manchester United    11\n",
              "Liverpool            10\n",
              "Arsenal              10\n",
              "Tottenham Hotspur     7\n",
              "Leicester City        1"
            ],
            "text/html": [
              "\n",
              "  <div id=\"df-ee73e06f-374f-467a-9812-c9246c5a8ea8\">\n",
              "    <div class=\"colab-df-container\">\n",
              "      <div>\n",
              "<style scoped>\n",
              "    .dataframe tbody tr th:only-of-type {\n",
              "        vertical-align: middle;\n",
              "    }\n",
              "\n",
              "    .dataframe tbody tr th {\n",
              "        vertical-align: top;\n",
              "    }\n",
              "\n",
              "    .dataframe thead th {\n",
              "        text-align: right;\n",
              "    }\n",
              "</style>\n",
              "<table border=\"1\" class=\"dataframe\">\n",
              "  <thead>\n",
              "    <tr style=\"text-align: right;\">\n",
              "      <th></th>\n",
              "      <th>Club</th>\n",
              "    </tr>\n",
              "  </thead>\n",
              "  <tbody>\n",
              "    <tr>\n",
              "      <th>Chelsea</th>\n",
              "      <td>13</td>\n",
              "    </tr>\n",
              "    <tr>\n",
              "      <th>Manchester City</th>\n",
              "      <td>12</td>\n",
              "    </tr>\n",
              "    <tr>\n",
              "      <th>Manchester United</th>\n",
              "      <td>11</td>\n",
              "    </tr>\n",
              "    <tr>\n",
              "      <th>Liverpool</th>\n",
              "      <td>10</td>\n",
              "    </tr>\n",
              "    <tr>\n",
              "      <th>Arsenal</th>\n",
              "      <td>10</td>\n",
              "    </tr>\n",
              "    <tr>\n",
              "      <th>Tottenham Hotspur</th>\n",
              "      <td>7</td>\n",
              "    </tr>\n",
              "    <tr>\n",
              "      <th>Leicester City</th>\n",
              "      <td>1</td>\n",
              "    </tr>\n",
              "  </tbody>\n",
              "</table>\n",
              "</div>\n",
              "      <button class=\"colab-df-convert\" onclick=\"convertToInteractive('df-ee73e06f-374f-467a-9812-c9246c5a8ea8')\"\n",
              "              title=\"Convert this dataframe to an interactive table.\"\n",
              "              style=\"display:none;\">\n",
              "        \n",
              "  <svg xmlns=\"http://www.w3.org/2000/svg\" height=\"24px\"viewBox=\"0 0 24 24\"\n",
              "       width=\"24px\">\n",
              "    <path d=\"M0 0h24v24H0V0z\" fill=\"none\"/>\n",
              "    <path d=\"M18.56 5.44l.94 2.06.94-2.06 2.06-.94-2.06-.94-.94-2.06-.94 2.06-2.06.94zm-11 1L8.5 8.5l.94-2.06 2.06-.94-2.06-.94L8.5 2.5l-.94 2.06-2.06.94zm10 10l.94 2.06.94-2.06 2.06-.94-2.06-.94-.94-2.06-.94 2.06-2.06.94z\"/><path d=\"M17.41 7.96l-1.37-1.37c-.4-.4-.92-.59-1.43-.59-.52 0-1.04.2-1.43.59L10.3 9.45l-7.72 7.72c-.78.78-.78 2.05 0 2.83L4 21.41c.39.39.9.59 1.41.59.51 0 1.02-.2 1.41-.59l7.78-7.78 2.81-2.81c.8-.78.8-2.07 0-2.86zM5.41 20L4 18.59l7.72-7.72 1.47 1.35L5.41 20z\"/>\n",
              "  </svg>\n",
              "      </button>\n",
              "      \n",
              "  <style>\n",
              "    .colab-df-container {\n",
              "      display:flex;\n",
              "      flex-wrap:wrap;\n",
              "      gap: 12px;\n",
              "    }\n",
              "\n",
              "    .colab-df-convert {\n",
              "      background-color: #E8F0FE;\n",
              "      border: none;\n",
              "      border-radius: 50%;\n",
              "      cursor: pointer;\n",
              "      display: none;\n",
              "      fill: #1967D2;\n",
              "      height: 32px;\n",
              "      padding: 0 0 0 0;\n",
              "      width: 32px;\n",
              "    }\n",
              "\n",
              "    .colab-df-convert:hover {\n",
              "      background-color: #E2EBFA;\n",
              "      box-shadow: 0px 1px 2px rgba(60, 64, 67, 0.3), 0px 1px 3px 1px rgba(60, 64, 67, 0.15);\n",
              "      fill: #174EA6;\n",
              "    }\n",
              "\n",
              "    [theme=dark] .colab-df-convert {\n",
              "      background-color: #3B4455;\n",
              "      fill: #D2E3FC;\n",
              "    }\n",
              "\n",
              "    [theme=dark] .colab-df-convert:hover {\n",
              "      background-color: #434B5C;\n",
              "      box-shadow: 0px 1px 3px 1px rgba(0, 0, 0, 0.15);\n",
              "      filter: drop-shadow(0px 1px 2px rgba(0, 0, 0, 0.3));\n",
              "      fill: #FFFFFF;\n",
              "    }\n",
              "  </style>\n",
              "\n",
              "      <script>\n",
              "        const buttonEl =\n",
              "          document.querySelector('#df-ee73e06f-374f-467a-9812-c9246c5a8ea8 button.colab-df-convert');\n",
              "        buttonEl.style.display =\n",
              "          google.colab.kernel.accessAllowed ? 'block' : 'none';\n",
              "\n",
              "        async function convertToInteractive(key) {\n",
              "          const element = document.querySelector('#df-ee73e06f-374f-467a-9812-c9246c5a8ea8');\n",
              "          const dataTable =\n",
              "            await google.colab.kernel.invokeFunction('convertToInteractive',\n",
              "                                                     [key], {});\n",
              "          if (!dataTable) return;\n",
              "\n",
              "          const docLinkHtml = 'Like what you see? Visit the ' +\n",
              "            '<a target=\"_blank\" href=https://colab.research.google.com/notebooks/data_table.ipynb>data table notebook</a>'\n",
              "            + ' to learn more about interactive tables.';\n",
              "          element.innerHTML = '';\n",
              "          dataTable['output_type'] = 'display_data';\n",
              "          await google.colab.output.renderOutput(dataTable, element);\n",
              "          const docLink = document.createElement('div');\n",
              "          docLink.innerHTML = docLinkHtml;\n",
              "          element.appendChild(docLink);\n",
              "        }\n",
              "      </script>\n",
              "    </div>\n",
              "  </div>\n",
              "  "
            ]
          },
          "metadata": {},
          "execution_count": 67
        }
      ],
      "source": [
        "top_team = top_4['Club'].value_counts()\n",
        "x = pd.DataFrame(top_team)\n",
        "x"
      ]
    },
    {
      "cell_type": "code",
      "source": [
        "label = ['Chelsea', 'Manchester City', 'Manchester United', 'Liverpool', 'Arsenal',\n",
        "         'Tottenham Hotspur', 'Leicester City']\n",
        "palette_color = sns.color_palette('rocket')\n",
        "plt.pie(top_team, labels= label, colors=palette_color, autopct='%.0f%%')\n",
        "  \n",
        "# displaying chart\n",
        "plt.show()"
      ],
      "metadata": {
        "colab": {
          "base_uri": "https://localhost:8080/",
          "height": 248
        },
        "id": "RFbpqvlsNrlb",
        "outputId": "10069081-f873-4fdb-f869-abf82f664361"
      },
      "execution_count": 71,
      "outputs": [
        {
          "output_type": "display_data",
          "data": {
            "text/plain": [
              "<Figure size 432x288 with 1 Axes>"
            ],
            "image/png": "[encoded data removed]"
          },
          "metadata": {}
        }
      ]
    },
    {
      "cell_type": "code",
      "execution_count": 17,
      "metadata": {
        "colab": {
          "base_uri": "https://localhost:8080/",
          "height": 420
        },
        "id": "9J4x_Tz7_t7y",
        "outputId": "7c88c64b-b010-4e06-b8eb-69ab2fb2dacc"
      },
      "outputs": [
        {
          "output_type": "execute_result",
          "data": {
            "text/plain": [
              "Text(0.5, 6.79999999999999, 'Clubs')"
            ]
          },
          "metadata": {},
          "execution_count": 17
        },
        {
          "output_type": "display_data",
          "data": {
            "text/plain": [
              "<Figure size 720x360 with 1 Axes>"
            ],
            "image/png": "[encoded data removed]"
          },
          "metadata": {
            "needs_background": "light"
          }
        }
      ],
      "source": [
        "sns.catplot(x = 'Club', kind='count', data = top_4,aspect = 2, order = top_team.index, palette = 'rocket')\n",
        "plt.title('Top Four Teams in a Season', fontsize = 30)\n",
        "plt.ylabel('Total', fontsize = 15)\n",
        "plt.xlabel('Clubs', fontsize = 15)"
      ]
    },
    {
      "cell_type": "code",
      "execution_count": 18,
      "metadata": {
        "colab": {
          "base_uri": "https://localhost:8080/",
          "height": 236
        },
        "id": "vbrMrXtqhOOE",
        "outputId": "52505fea-814d-4957-db52-15e677079df5"
      },
      "outputs": [
        {
          "output_type": "execute_result",
          "data": {
            "text/plain": [
              "                    Club  Won  Draw  Loss  GF  GA  GD  Points   Position  \\\n",
              "195     Newcastle United   11     8    19  45  68 -23       41        16   \n",
              "196           Sunderland    9    12    17  41  54 -13       39        17   \n",
              "197       Wigan Athletic    9     9    20  47  73 -26       36        18   \n",
              "198              Reading    6    10    22  43  73 -30       28        19   \n",
              "199  Queens Park Rangers    4    13    21  30  60 -30       25        20   \n",
              "\n",
              "     Year  ...  YC  RC  Passes  Shots  Tackles  Clearances  Cleansheets  \\\n",
              "195  2013  ...  71   4   14600    533      732        1584            6   \n",
              "196  2013  ...  62   3   13109    417      784        1155           11   \n",
              "197  2013  ...  66   2   17927    500      716         901            5   \n",
              "198  2013  ...  45   1   11806    394      602        1300            5   \n",
              "199  2013  ...  59   3   13632    500      818        1363            7   \n",
              "\n",
              "     Saves  PLS  WIE  \n",
              "195      3  Yes  Yes  \n",
              "196      0  Yes   No  \n",
              "197      0  Yes   No  \n",
              "198      0   No   No  \n",
              "199      0  Yes   No  \n",
              "\n",
              "[5 rows x 36 columns]"
            ],
            "text/html": [
              "\n",
              "  <div id=\"df-49ab7915-8616-447f-b511-09e0c5dbf7ad\">\n",
              "    <div class=\"colab-df-container\">\n",
              "      <div>\n",
              "<style scoped>\n",
              "    .dataframe tbody tr th:only-of-type {\n",
              "        vertical-align: middle;\n",
              "    }\n",
              "\n",
              "    .dataframe tbody tr th {\n",
              "        vertical-align: top;\n",
              "    }\n",
              "\n",
              "    .dataframe thead th {\n",
              "        text-align: right;\n",
              "    }\n",
              "</style>\n",
              "<table border=\"1\" class=\"dataframe\">\n",
              "  <thead>\n",
              "    <tr style=\"text-align: right;\">\n",
              "      <th></th>\n",
              "      <th>Club</th>\n",
              "      <th>Won</th>\n",
              "      <th>Draw</th>\n",
              "      <th>Loss</th>\n",
              "      <th>GF</th>\n",
              "      <th>GA</th>\n",
              "      <th>GD</th>\n",
              "      <th>Points</th>\n",
              "      <th>Position</th>\n",
              "      <th>Year</th>\n",
              "      <th>...</th>\n",
              "      <th>YC</th>\n",
              "      <th>RC</th>\n",
              "      <th>Passes</th>\n",
              "      <th>Shots</th>\n",
              "      <th>Tackles</th>\n",
              "      <th>Clearances</th>\n",
              "      <th>Cleansheets</th>\n",
              "      <th>Saves</th>\n",
              "      <th>PLS</th>\n",
              "      <th>WIE</th>\n",
              "    </tr>\n",
              "  </thead>\n",
              "  <tbody>\n",
              "    <tr>\n",
              "      <th>195</th>\n",
              "      <td>Newcastle United</td>\n",
              "      <td>11</td>\n",
              "      <td>8</td>\n",
              "      <td>19</td>\n",
              "      <td>45</td>\n",
              "      <td>68</td>\n",
              "      <td>-23</td>\n",
              "      <td>41</td>\n",
              "      <td>16</td>\n",
              "      <td>2013</td>\n",
              "      <td>...</td>\n",
              "      <td>71</td>\n",
              "      <td>4</td>\n",
              "      <td>14600</td>\n",
              "      <td>533</td>\n",
              "      <td>732</td>\n",
              "      <td>1584</td>\n",
              "      <td>6</td>\n",
              "      <td>3</td>\n",
              "      <td>Yes</td>\n",
              "      <td>Yes</td>\n",
              "    </tr>\n",
              "    <tr>\n",
              "      <th>196</th>\n",
              "      <td>Sunderland</td>\n",
              "      <td>9</td>\n",
              "      <td>12</td>\n",
              "      <td>17</td>\n",
              "      <td>41</td>\n",
              "      <td>54</td>\n",
              "      <td>-13</td>\n",
              "      <td>39</td>\n",
              "      <td>17</td>\n",
              "      <td>2013</td>\n",
              "      <td>...</td>\n",
              "      <td>62</td>\n",
              "      <td>3</td>\n",
              "      <td>13109</td>\n",
              "      <td>417</td>\n",
              "      <td>784</td>\n",
              "      <td>1155</td>\n",
              "      <td>11</td>\n",
              "      <td>0</td>\n",
              "      <td>Yes</td>\n",
              "      <td>No</td>\n",
              "    </tr>\n",
              "    <tr>\n",
              "      <th>197</th>\n",
              "      <td>Wigan Athletic</td>\n",
              "      <td>9</td>\n",
              "      <td>9</td>\n",
              "      <td>20</td>\n",
              "      <td>47</td>\n",
              "      <td>73</td>\n",
              "      <td>-26</td>\n",
              "      <td>36</td>\n",
              "      <td>18</td>\n",
              "      <td>2013</td>\n",
              "      <td>...</td>\n",
              "      <td>66</td>\n",
              "      <td>2</td>\n",
              "      <td>17927</td>\n",
              "      <td>500</td>\n",
              "      <td>716</td>\n",
              "      <td>901</td>\n",
              "      <td>5</td>\n",
              "      <td>0</td>\n",
              "      <td>Yes</td>\n",
              "      <td>No</td>\n",
              "    </tr>\n",
              "    <tr>\n",
              "      <th>198</th>\n",
              "      <td>Reading</td>\n",
              "      <td>6</td>\n",
              "      <td>10</td>\n",
              "      <td>22</td>\n",
              "      <td>43</td>\n",
              "      <td>73</td>\n",
              "      <td>-30</td>\n",
              "      <td>28</td>\n",
              "      <td>19</td>\n",
              "      <td>2013</td>\n",
              "      <td>...</td>\n",
              "      <td>45</td>\n",
              "      <td>1</td>\n",
              "      <td>11806</td>\n",
              "      <td>394</td>\n",
              "      <td>602</td>\n",
              "      <td>1300</td>\n",
              "      <td>5</td>\n",
              "      <td>0</td>\n",
              "      <td>No</td>\n",
              "      <td>No</td>\n",
              "    </tr>\n",
              "    <tr>\n",
              "      <th>199</th>\n",
              "      <td>Queens Park Rangers</td>\n",
              "      <td>4</td>\n",
              "      <td>13</td>\n",
              "      <td>21</td>\n",
              "      <td>30</td>\n",
              "      <td>60</td>\n",
              "      <td>-30</td>\n",
              "      <td>25</td>\n",
              "      <td>20</td>\n",
              "      <td>2013</td>\n",
              "      <td>...</td>\n",
              "      <td>59</td>\n",
              "      <td>3</td>\n",
              "      <td>13632</td>\n",
              "      <td>500</td>\n",
              "      <td>818</td>\n",
              "      <td>1363</td>\n",
              "      <td>7</td>\n",
              "      <td>0</td>\n",
              "      <td>Yes</td>\n",
              "      <td>No</td>\n",
              "    </tr>\n",
              "  </tbody>\n",
              "</table>\n",
              "<p>5 rows × 36 columns</p>\n",
              "</div>\n",
              "      <button class=\"colab-df-convert\" onclick=\"convertToInteractive('df-49ab7915-8616-447f-b511-09e0c5dbf7ad')\"\n",
              "              title=\"Convert this dataframe to an interactive table.\"\n",
              "              style=\"display:none;\">\n",
              "        \n",
              "  <svg xmlns=\"http://www.w3.org/2000/svg\" height=\"24px\"viewBox=\"0 0 24 24\"\n",
              "       width=\"24px\">\n",
              "    <path d=\"M0 0h24v24H0V0z\" fill=\"none\"/>\n",
              "    <path d=\"M18.56 5.44l.94 2.06.94-2.06 2.06-.94-2.06-.94-.94-2.06-.94 2.06-2.06.94zm-11 1L8.5 8.5l.94-2.06 2.06-.94-2.06-.94L8.5 2.5l-.94 2.06-2.06.94zm10 10l.94 2.06.94-2.06 2.06-.94-2.06-.94-.94-2.06-.94 2.06-2.06.94z\"/><path d=\"M17.41 7.96l-1.37-1.37c-.4-.4-.92-.59-1.43-.59-.52 0-1.04.2-1.43.59L10.3 9.45l-7.72 7.72c-.78.78-.78 2.05 0 2.83L4 21.41c.39.39.9.59 1.41.59.51 0 1.02-.2 1.41-.59l7.78-7.78 2.81-2.81c.8-.78.8-2.07 0-2.86zM5.41 20L4 18.59l7.72-7.72 1.47 1.35L5.41 20z\"/>\n",
              "  </svg>\n",
              "      </button>\n",
              "      \n",
              "  <style>\n",
              "    .colab-df-container {\n",
              "      display:flex;\n",
              "      flex-wrap:wrap;\n",
              "      gap: 12px;\n",
              "    }\n",
              "\n",
              "    .colab-df-convert {\n",
              "      background-color: #E8F0FE;\n",
              "      border: none;\n",
              "      border-radius: 50%;\n",
              "      cursor: pointer;\n",
              "      display: none;\n",
              "      fill: #1967D2;\n",
              "      height: 32px;\n",
              "      padding: 0 0 0 0;\n",
              "      width: 32px;\n",
              "    }\n",
              "\n",
              "    .colab-df-convert:hover {\n",
              "      background-color: #E2EBFA;\n",
              "      box-shadow: 0px 1px 2px rgba(60, 64, 67, 0.3), 0px 1px 3px 1px rgba(60, 64, 67, 0.15);\n",
              "      fill: #174EA6;\n",
              "    }\n",
              "\n",
              "    [theme=dark] .colab-df-convert {\n",
              "      background-color: #3B4455;\n",
              "      fill: #D2E3FC;\n",
              "    }\n",
              "\n",
              "    [theme=dark] .colab-df-convert:hover {\n",
              "      background-color: #434B5C;\n",
              "      box-shadow: 0px 1px 3px 1px rgba(0, 0, 0, 0.15);\n",
              "      filter: drop-shadow(0px 1px 2px rgba(0, 0, 0, 0.3));\n",
              "      fill: #FFFFFF;\n",
              "    }\n",
              "  </style>\n",
              "\n",
              "      <script>\n",
              "        const buttonEl =\n",
              "          document.querySelector('#df-49ab7915-8616-447f-b511-09e0c5dbf7ad button.colab-df-convert');\n",
              "        buttonEl.style.display =\n",
              "          google.colab.kernel.accessAllowed ? 'block' : 'none';\n",
              "\n",
              "        async function convertToInteractive(key) {\n",
              "          const element = document.querySelector('#df-49ab7915-8616-447f-b511-09e0c5dbf7ad');\n",
              "          const dataTable =\n",
              "            await google.colab.kernel.invokeFunction('convertToInteractive',\n",
              "                                                     [key], {});\n",
              "          if (!dataTable) return;\n",
              "\n",
              "          const docLinkHtml = 'Like what you see? Visit the ' +\n",
              "            '<a target=\"_blank\" href=https://colab.research.google.com/notebooks/data_table.ipynb>data table notebook</a>'\n",
              "            + ' to learn more about interactive tables.';\n",
              "          element.innerHTML = '';\n",
              "          dataTable['output_type'] = 'display_data';\n",
              "          await google.colab.output.renderOutput(dataTable, element);\n",
              "          const docLink = document.createElement('div');\n",
              "          docLink.innerHTML = docLinkHtml;\n",
              "          element.appendChild(docLink);\n",
              "        }\n",
              "      </script>\n",
              "    </div>\n",
              "  </div>\n",
              "  "
            ]
          },
          "metadata": {},
          "execution_count": 18
        }
      ],
      "source": [
        "year_ten = df[df['Year'] > 2012]\n",
        "year_ten.tail()"
      ]
    },
    {
      "cell_type": "code",
      "execution_count": 19,
      "metadata": {
        "colab": {
          "base_uri": "https://localhost:8080/",
          "height": 424
        },
        "id": "eioLsr_Tk6Nx",
        "outputId": "f7b96aea-e20e-48cc-dd83-24bbd7c5f72f"
      },
      "outputs": [
        {
          "output_type": "execute_result",
          "data": {
            "text/plain": [
              "                    Club  Passes\n",
              "0        Manchester City   26132\n",
              "1              Liverpool   23588\n",
              "2                Chelsea   23179\n",
              "3      Tottenham Hotspur   19165\n",
              "4                Arsenal   18290\n",
              "..                   ...     ...\n",
              "195     Newcastle United   14600\n",
              "196           Sunderland   13109\n",
              "197       Wigan Athletic   17927\n",
              "198              Reading   11806\n",
              "199  Queens Park Rangers   13632\n",
              "\n",
              "[200 rows x 2 columns]"
            ],
            "text/html": [
              "\n",
              "  <div id=\"df-5f07698e-57c6-417a-961d-d6a6a28a0771\">\n",
              "    <div class=\"colab-df-container\">\n",
              "      <div>\n",
              "<style scoped>\n",
              "    .dataframe tbody tr th:only-of-type {\n",
              "        vertical-align: middle;\n",
              "    }\n",
              "\n",
              "    .dataframe tbody tr th {\n",
              "        vertical-align: top;\n",
              "    }\n",
              "\n",
              "    .dataframe thead th {\n",
              "        text-align: right;\n",
              "    }\n",
              "</style>\n",
              "<table border=\"1\" class=\"dataframe\">\n",
              "  <thead>\n",
              "    <tr style=\"text-align: right;\">\n",
              "      <th></th>\n",
              "      <th>Club</th>\n",
              "      <th>Passes</th>\n",
              "    </tr>\n",
              "  </thead>\n",
              "  <tbody>\n",
              "    <tr>\n",
              "      <th>0</th>\n",
              "      <td>Manchester City</td>\n",
              "      <td>26132</td>\n",
              "    </tr>\n",
              "    <tr>\n",
              "      <th>1</th>\n",
              "      <td>Liverpool</td>\n",
              "      <td>23588</td>\n",
              "    </tr>\n",
              "    <tr>\n",
              "      <th>2</th>\n",
              "      <td>Chelsea</td>\n",
              "      <td>23179</td>\n",
              "    </tr>\n",
              "    <tr>\n",
              "      <th>3</th>\n",
              "      <td>Tottenham Hotspur</td>\n",
              "      <td>19165</td>\n",
              "    </tr>\n",
              "    <tr>\n",
              "      <th>4</th>\n",
              "      <td>Arsenal</td>\n",
              "      <td>18290</td>\n",
              "    </tr>\n",
              "    <tr>\n",
              "      <th>...</th>\n",
              "      <td>...</td>\n",
              "      <td>...</td>\n",
              "    </tr>\n",
              "    <tr>\n",
              "      <th>195</th>\n",
              "      <td>Newcastle United</td>\n",
              "      <td>14600</td>\n",
              "    </tr>\n",
              "    <tr>\n",
              "      <th>196</th>\n",
              "      <td>Sunderland</td>\n",
              "      <td>13109</td>\n",
              "    </tr>\n",
              "    <tr>\n",
              "      <th>197</th>\n",
              "      <td>Wigan Athletic</td>\n",
              "      <td>17927</td>\n",
              "    </tr>\n",
              "    <tr>\n",
              "      <th>198</th>\n",
              "      <td>Reading</td>\n",
              "      <td>11806</td>\n",
              "    </tr>\n",
              "    <tr>\n",
              "      <th>199</th>\n",
              "      <td>Queens Park Rangers</td>\n",
              "      <td>13632</td>\n",
              "    </tr>\n",
              "  </tbody>\n",
              "</table>\n",
              "<p>200 rows × 2 columns</p>\n",
              "</div>\n",
              "      <button class=\"colab-df-convert\" onclick=\"convertToInteractive('df-5f07698e-57c6-417a-961d-d6a6a28a0771')\"\n",
              "              title=\"Convert this dataframe to an interactive table.\"\n",
              "              style=\"display:none;\">\n",
              "        \n",
              "  <svg xmlns=\"http://www.w3.org/2000/svg\" height=\"24px\"viewBox=\"0 0 24 24\"\n",
              "       width=\"24px\">\n",
              "    <path d=\"M0 0h24v24H0V0z\" fill=\"none\"/>\n",
              "    <path d=\"M18.56 5.44l.94 2.06.94-2.06 2.06-.94-2.06-.94-.94-2.06-.94 2.06-2.06.94zm-11 1L8.5 8.5l.94-2.06 2.06-.94-2.06-.94L8.5 2.5l-.94 2.06-2.06.94zm10 10l.94 2.06.94-2.06 2.06-.94-2.06-.94-.94-2.06-.94 2.06-2.06.94z\"/><path d=\"M17.41 7.96l-1.37-1.37c-.4-.4-.92-.59-1.43-.59-.52 0-1.04.2-1.43.59L10.3 9.45l-7.72 7.72c-.78.78-.78 2.05 0 2.83L4 21.41c.39.39.9.59 1.41.59.51 0 1.02-.2 1.41-.59l7.78-7.78 2.81-2.81c.8-.78.8-2.07 0-2.86zM5.41 20L4 18.59l7.72-7.72 1.47 1.35L5.41 20z\"/>\n",
              "  </svg>\n",
              "      </button>\n",
              "      \n",
              "  <style>\n",
              "    .colab-df-container {\n",
              "      display:flex;\n",
              "      flex-wrap:wrap;\n",
              "      gap: 12px;\n",
              "    }\n",
              "\n",
              "    .colab-df-convert {\n",
              "      background-color: #E8F0FE;\n",
              "      border: none;\n",
              "      border-radius: 50%;\n",
              "      cursor: pointer;\n",
              "      display: none;\n",
              "      fill: #1967D2;\n",
              "      height: 32px;\n",
              "      padding: 0 0 0 0;\n",
              "      width: 32px;\n",
              "    }\n",
              "\n",
              "    .colab-df-convert:hover {\n",
              "      background-color: #E2EBFA;\n",
              "      box-shadow: 0px 1px 2px rgba(60, 64, 67, 0.3), 0px 1px 3px 1px rgba(60, 64, 67, 0.15);\n",
              "      fill: #174EA6;\n",
              "    }\n",
              "\n",
              "    [theme=dark] .colab-df-convert {\n",
              "      background-color: #3B4455;\n",
              "      fill: #D2E3FC;\n",
              "    }\n",
              "\n",
              "    [theme=dark] .colab-df-convert:hover {\n",
              "      background-color: #434B5C;\n",
              "      box-shadow: 0px 1px 3px 1px rgba(0, 0, 0, 0.15);\n",
              "      filter: drop-shadow(0px 1px 2px rgba(0, 0, 0, 0.3));\n",
              "      fill: #FFFFFF;\n",
              "    }\n",
              "  </style>\n",
              "\n",
              "      <script>\n",
              "        const buttonEl =\n",
              "          document.querySelector('#df-5f07698e-57c6-417a-961d-d6a6a28a0771 button.colab-df-convert');\n",
              "        buttonEl.style.display =\n",
              "          google.colab.kernel.accessAllowed ? 'block' : 'none';\n",
              "\n",
              "        async function convertToInteractive(key) {\n",
              "          const element = document.querySelector('#df-5f07698e-57c6-417a-961d-d6a6a28a0771');\n",
              "          const dataTable =\n",
              "            await google.colab.kernel.invokeFunction('convertToInteractive',\n",
              "                                                     [key], {});\n",
              "          if (!dataTable) return;\n",
              "\n",
              "          const docLinkHtml = 'Like what you see? Visit the ' +\n",
              "            '<a target=\"_blank\" href=https://colab.research.google.com/notebooks/data_table.ipynb>data table notebook</a>'\n",
              "            + ' to learn more about interactive tables.';\n",
              "          element.innerHTML = '';\n",
              "          dataTable['output_type'] = 'display_data';\n",
              "          await google.colab.output.renderOutput(dataTable, element);\n",
              "          const docLink = document.createElement('div');\n",
              "          docLink.innerHTML = docLinkHtml;\n",
              "          element.appendChild(docLink);\n",
              "        }\n",
              "      </script>\n",
              "    </div>\n",
              "  </div>\n",
              "  "
            ]
          },
          "metadata": {},
          "execution_count": 19
        }
      ],
      "source": [
        "passes = year_ten[['Club','Passes']]\n",
        "passes"
      ]
    },
    {
      "cell_type": "code",
      "execution_count": 20,
      "metadata": {
        "colab": {
          "base_uri": "https://localhost:8080/",
          "height": 206
        },
        "id": "YhlFNh0Wmi3L",
        "outputId": "979e7c68-5a98-43f6-ea02-227ac578e6fa"
      },
      "outputs": [
        {
          "output_type": "execute_result",
          "data": {
            "text/plain": [
              "                 Club   Passes\n",
              "16    Manchester City  23906.0\n",
              "15          Liverpool  21916.0\n",
              "7             Chelsea  21358.0\n",
              "0             Arsenal  20724.0\n",
              "17  Manchester United  19957.0"
            ],
            "text/html": [
              "\n",
              "  <div id=\"df-8278ca7d-98fa-445b-81ea-613b64eabd91\">\n",
              "    <div class=\"colab-df-container\">\n",
              "      <div>\n",
              "<style scoped>\n",
              "    .dataframe tbody tr th:only-of-type {\n",
              "        vertical-align: middle;\n",
              "    }\n",
              "\n",
              "    .dataframe tbody tr th {\n",
              "        vertical-align: top;\n",
              "    }\n",
              "\n",
              "    .dataframe thead th {\n",
              "        text-align: right;\n",
              "    }\n",
              "</style>\n",
              "<table border=\"1\" class=\"dataframe\">\n",
              "  <thead>\n",
              "    <tr style=\"text-align: right;\">\n",
              "      <th></th>\n",
              "      <th>Club</th>\n",
              "      <th>Passes</th>\n",
              "    </tr>\n",
              "  </thead>\n",
              "  <tbody>\n",
              "    <tr>\n",
              "      <th>16</th>\n",
              "      <td>Manchester City</td>\n",
              "      <td>23906.0</td>\n",
              "    </tr>\n",
              "    <tr>\n",
              "      <th>15</th>\n",
              "      <td>Liverpool</td>\n",
              "      <td>21916.0</td>\n",
              "    </tr>\n",
              "    <tr>\n",
              "      <th>7</th>\n",
              "      <td>Chelsea</td>\n",
              "      <td>21358.0</td>\n",
              "    </tr>\n",
              "    <tr>\n",
              "      <th>0</th>\n",
              "      <td>Arsenal</td>\n",
              "      <td>20724.0</td>\n",
              "    </tr>\n",
              "    <tr>\n",
              "      <th>17</th>\n",
              "      <td>Manchester United</td>\n",
              "      <td>19957.0</td>\n",
              "    </tr>\n",
              "  </tbody>\n",
              "</table>\n",
              "</div>\n",
              "      <button class=\"colab-df-convert\" onclick=\"convertToInteractive('df-8278ca7d-98fa-445b-81ea-613b64eabd91')\"\n",
              "              title=\"Convert this dataframe to an interactive table.\"\n",
              "              style=\"display:none;\">\n",
              "        \n",
              "  <svg xmlns=\"http://www.w3.org/2000/svg\" height=\"24px\"viewBox=\"0 0 24 24\"\n",
              "       width=\"24px\">\n",
              "    <path d=\"M0 0h24v24H0V0z\" fill=\"none\"/>\n",
              "    <path d=\"M18.56 5.44l.94 2.06.94-2.06 2.06-.94-2.06-.94-.94-2.06-.94 2.06-2.06.94zm-11 1L8.5 8.5l.94-2.06 2.06-.94-2.06-.94L8.5 2.5l-.94 2.06-2.06.94zm10 10l.94 2.06.94-2.06 2.06-.94-2.06-.94-.94-2.06-.94 2.06-2.06.94z\"/><path d=\"M17.41 7.96l-1.37-1.37c-.4-.4-.92-.59-1.43-.59-.52 0-1.04.2-1.43.59L10.3 9.45l-7.72 7.72c-.78.78-.78 2.05 0 2.83L4 21.41c.39.39.9.59 1.41.59.51 0 1.02-.2 1.41-.59l7.78-7.78 2.81-2.81c.8-.78.8-2.07 0-2.86zM5.41 20L4 18.59l7.72-7.72 1.47 1.35L5.41 20z\"/>\n",
              "  </svg>\n",
              "      </button>\n",
              "      \n",
              "  <style>\n",
              "    .colab-df-container {\n",
              "      display:flex;\n",
              "      flex-wrap:wrap;\n",
              "      gap: 12px;\n",
              "    }\n",
              "\n",
              "    .colab-df-convert {\n",
              "      background-color: #E8F0FE;\n",
              "      border: none;\n",
              "      border-radius: 50%;\n",
              "      cursor: pointer;\n",
              "      display: none;\n",
              "      fill: #1967D2;\n",
              "      height: 32px;\n",
              "      padding: 0 0 0 0;\n",
              "      width: 32px;\n",
              "    }\n",
              "\n",
              "    .colab-df-convert:hover {\n",
              "      background-color: #E2EBFA;\n",
              "      box-shadow: 0px 1px 2px rgba(60, 64, 67, 0.3), 0px 1px 3px 1px rgba(60, 64, 67, 0.15);\n",
              "      fill: #174EA6;\n",
              "    }\n",
              "\n",
              "    [theme=dark] .colab-df-convert {\n",
              "      background-color: #3B4455;\n",
              "      fill: #D2E3FC;\n",
              "    }\n",
              "\n",
              "    [theme=dark] .colab-df-convert:hover {\n",
              "      background-color: #434B5C;\n",
              "      box-shadow: 0px 1px 3px 1px rgba(0, 0, 0, 0.15);\n",
              "      filter: drop-shadow(0px 1px 2px rgba(0, 0, 0, 0.3));\n",
              "      fill: #FFFFFF;\n",
              "    }\n",
              "  </style>\n",
              "\n",
              "      <script>\n",
              "        const buttonEl =\n",
              "          document.querySelector('#df-8278ca7d-98fa-445b-81ea-613b64eabd91 button.colab-df-convert');\n",
              "        buttonEl.style.display =\n",
              "          google.colab.kernel.accessAllowed ? 'block' : 'none';\n",
              "\n",
              "        async function convertToInteractive(key) {\n",
              "          const element = document.querySelector('#df-8278ca7d-98fa-445b-81ea-613b64eabd91');\n",
              "          const dataTable =\n",
              "            await google.colab.kernel.invokeFunction('convertToInteractive',\n",
              "                                                     [key], {});\n",
              "          if (!dataTable) return;\n",
              "\n",
              "          const docLinkHtml = 'Like what you see? Visit the ' +\n",
              "            '<a target=\"_blank\" href=https://colab.research.google.com/notebooks/data_table.ipynb>data table notebook</a>'\n",
              "            + ' to learn more about interactive tables.';\n",
              "          element.innerHTML = '';\n",
              "          dataTable['output_type'] = 'display_data';\n",
              "          await google.colab.output.renderOutput(dataTable, element);\n",
              "          const docLink = document.createElement('div');\n",
              "          docLink.innerHTML = docLinkHtml;\n",
              "          element.appendChild(docLink);\n",
              "        }\n",
              "      </script>\n",
              "    </div>\n",
              "  </div>\n",
              "  "
            ]
          },
          "metadata": {},
          "execution_count": 20
        }
      ],
      "source": [
        "passes_mean = pd.DataFrame(passes.groupby('Club').mean().round()).reset_index()\n",
        "passes_graph = pd.DataFrame(passes_mean.sort_values('Passes', ascending = False).head(5))\n",
        "passes_graph"
      ]
    },
    {
      "cell_type": "code",
      "execution_count": 21,
      "metadata": {
        "colab": {
          "base_uri": "https://localhost:8080/",
          "height": 531
        },
        "id": "YOaagxbapHub",
        "outputId": "ce3e345a-5d13-4bac-9be2-571717095a57"
      },
      "outputs": [
        {
          "output_type": "display_data",
          "data": {
            "text/plain": [
              "<Figure size 864x576 with 1 Axes>"
            ],
            "image/png": "[encoded data removed]"
          },
          "metadata": {
            "needs_background": "light"
          }
        }
      ],
      "source": [
        "plt.figure(figsize=(12,8))\n",
        "sns.barplot(x = 'Club',y = 'Passes', data = passes_graph,palette = 'rocket')\n",
        "plt.title('Average Passes per Season from 2012/2013', fontsize = 30)\n",
        "plt.ylabel('Passes', fontsize = 15)\n",
        "plt.xlabel('Clubs', fontsize = 15)\n",
        "sns.despine(fig=None, ax=None, top=True, right=True, left=False, bottom=False, offset=None, trim=False)"
      ]
    },
    {
      "cell_type": "code",
      "execution_count": 22,
      "metadata": {
        "colab": {
          "base_uri": "https://localhost:8080/",
          "height": 424
        },
        "id": "HkY_BDkeopVM",
        "outputId": "dd2e2629-365a-4f25-bd53-929bf1d4ed04"
      },
      "outputs": [
        {
          "output_type": "execute_result",
          "data": {
            "text/plain": [
              "                    Club  Shots\n",
              "0        Manchester City    713\n",
              "1              Liverpool    729\n",
              "2                Chelsea    592\n",
              "3      Tottenham Hotspur    491\n",
              "4                Arsenal    589\n",
              "..                   ...    ...\n",
              "195     Newcastle United    533\n",
              "196           Sunderland    417\n",
              "197       Wigan Athletic    500\n",
              "198              Reading    394\n",
              "199  Queens Park Rangers    500\n",
              "\n",
              "[200 rows x 2 columns]"
            ],
            "text/html": [
              "\n",
              "  <div id=\"df-7bec85de-53fe-4833-b2aa-da2a299b030c\">\n",
              "    <div class=\"colab-df-container\">\n",
              "      <div>\n",
              "<style scoped>\n",
              "    .dataframe tbody tr th:only-of-type {\n",
              "        vertical-align: middle;\n",
              "    }\n",
              "\n",
              "    .dataframe tbody tr th {\n",
              "        vertical-align: top;\n",
              "    }\n",
              "\n",
              "    .dataframe thead th {\n",
              "        text-align: right;\n",
              "    }\n",
              "</style>\n",
              "<table border=\"1\" class=\"dataframe\">\n",
              "  <thead>\n",
              "    <tr style=\"text-align: right;\">\n",
              "      <th></th>\n",
              "      <th>Club</th>\n",
              "      <th>Shots</th>\n",
              "    </tr>\n",
              "  </thead>\n",
              "  <tbody>\n",
              "    <tr>\n",
              "      <th>0</th>\n",
              "      <td>Manchester City</td>\n",
              "      <td>713</td>\n",
              "    </tr>\n",
              "    <tr>\n",
              "      <th>1</th>\n",
              "      <td>Liverpool</td>\n",
              "      <td>729</td>\n",
              "    </tr>\n",
              "    <tr>\n",
              "      <th>2</th>\n",
              "      <td>Chelsea</td>\n",
              "      <td>592</td>\n",
              "    </tr>\n",
              "    <tr>\n",
              "      <th>3</th>\n",
              "      <td>Tottenham Hotspur</td>\n",
              "      <td>491</td>\n",
              "    </tr>\n",
              "    <tr>\n",
              "      <th>4</th>\n",
              "      <td>Arsenal</td>\n",
              "      <td>589</td>\n",
              "    </tr>\n",
              "    <tr>\n",
              "      <th>...</th>\n",
              "      <td>...</td>\n",
              "      <td>...</td>\n",
              "    </tr>\n",
              "    <tr>\n",
              "      <th>195</th>\n",
              "      <td>Newcastle United</td>\n",
              "      <td>533</td>\n",
              "    </tr>\n",
              "    <tr>\n",
              "      <th>196</th>\n",
              "      <td>Sunderland</td>\n",
              "      <td>417</td>\n",
              "    </tr>\n",
              "    <tr>\n",
              "      <th>197</th>\n",
              "      <td>Wigan Athletic</td>\n",
              "      <td>500</td>\n",
              "    </tr>\n",
              "    <tr>\n",
              "      <th>198</th>\n",
              "      <td>Reading</td>\n",
              "      <td>394</td>\n",
              "    </tr>\n",
              "    <tr>\n",
              "      <th>199</th>\n",
              "      <td>Queens Park Rangers</td>\n",
              "      <td>500</td>\n",
              "    </tr>\n",
              "  </tbody>\n",
              "</table>\n",
              "<p>200 rows × 2 columns</p>\n",
              "</div>\n",
              "      <button class=\"colab-df-convert\" onclick=\"convertToInteractive('df-7bec85de-53fe-4833-b2aa-da2a299b030c')\"\n",
              "              title=\"Convert this dataframe to an interactive table.\"\n",
              "              style=\"display:none;\">\n",
              "        \n",
              "  <svg xmlns=\"http://www.w3.org/2000/svg\" height=\"24px\"viewBox=\"0 0 24 24\"\n",
              "       width=\"24px\">\n",
              "    <path d=\"M0 0h24v24H0V0z\" fill=\"none\"/>\n",
              "    <path d=\"M18.56 5.44l.94 2.06.94-2.06 2.06-.94-2.06-.94-.94-2.06-.94 2.06-2.06.94zm-11 1L8.5 8.5l.94-2.06 2.06-.94-2.06-.94L8.5 2.5l-.94 2.06-2.06.94zm10 10l.94 2.06.94-2.06 2.06-.94-2.06-.94-.94-2.06-.94 2.06-2.06.94z\"/><path d=\"M17.41 7.96l-1.37-1.37c-.4-.4-.92-.59-1.43-.59-.52 0-1.04.2-1.43.59L10.3 9.45l-7.72 7.72c-.78.78-.78 2.05 0 2.83L4 21.41c.39.39.9.59 1.41.59.51 0 1.02-.2 1.41-.59l7.78-7.78 2.81-2.81c.8-.78.8-2.07 0-2.86zM5.41 20L4 18.59l7.72-7.72 1.47 1.35L5.41 20z\"/>\n",
              "  </svg>\n",
              "      </button>\n",
              "      \n",
              "  <style>\n",
              "    .colab-df-container {\n",
              "      display:flex;\n",
              "      flex-wrap:wrap;\n",
              "      gap: 12px;\n",
              "    }\n",
              "\n",
              "    .colab-df-convert {\n",
              "      background-color: #E8F0FE;\n",
              "      border: none;\n",
              "      border-radius: 50%;\n",
              "      cursor: pointer;\n",
              "      display: none;\n",
              "      fill: #1967D2;\n",
              "      height: 32px;\n",
              "      padding: 0 0 0 0;\n",
              "      width: 32px;\n",
              "    }\n",
              "\n",
              "    .colab-df-convert:hover {\n",
              "      background-color: #E2EBFA;\n",
              "      box-shadow: 0px 1px 2px rgba(60, 64, 67, 0.3), 0px 1px 3px 1px rgba(60, 64, 67, 0.15);\n",
              "      fill: #174EA6;\n",
              "    }\n",
              "\n",
              "    [theme=dark] .colab-df-convert {\n",
              "      background-color: #3B4455;\n",
              "      fill: #D2E3FC;\n",
              "    }\n",
              "\n",
              "    [theme=dark] .colab-df-convert:hover {\n",
              "      background-color: #434B5C;\n",
              "      box-shadow: 0px 1px 3px 1px rgba(0, 0, 0, 0.15);\n",
              "      filter: drop-shadow(0px 1px 2px rgba(0, 0, 0, 0.3));\n",
              "      fill: #FFFFFF;\n",
              "    }\n",
              "  </style>\n",
              "\n",
              "      <script>\n",
              "        const buttonEl =\n",
              "          document.querySelector('#df-7bec85de-53fe-4833-b2aa-da2a299b030c button.colab-df-convert');\n",
              "        buttonEl.style.display =\n",
              "          google.colab.kernel.accessAllowed ? 'block' : 'none';\n",
              "\n",
              "        async function convertToInteractive(key) {\n",
              "          const element = document.querySelector('#df-7bec85de-53fe-4833-b2aa-da2a299b030c');\n",
              "          const dataTable =\n",
              "            await google.colab.kernel.invokeFunction('convertToInteractive',\n",
              "                                                     [key], {});\n",
              "          if (!dataTable) return;\n",
              "\n",
              "          const docLinkHtml = 'Like what you see? Visit the ' +\n",
              "            '<a target=\"_blank\" href=https://colab.research.google.com/notebooks/data_table.ipynb>data table notebook</a>'\n",
              "            + ' to learn more about interactive tables.';\n",
              "          element.innerHTML = '';\n",
              "          dataTable['output_type'] = 'display_data';\n",
              "          await google.colab.output.renderOutput(dataTable, element);\n",
              "          const docLink = document.createElement('div');\n",
              "          docLink.innerHTML = docLinkHtml;\n",
              "          element.appendChild(docLink);\n",
              "        }\n",
              "      </script>\n",
              "    </div>\n",
              "  </div>\n",
              "  "
            ]
          },
          "metadata": {},
          "execution_count": 22
        }
      ],
      "source": [
        "shots = year_ten[['Club','Shots']]\n",
        "shots"
      ]
    },
    {
      "cell_type": "code",
      "execution_count": 23,
      "metadata": {
        "colab": {
          "base_uri": "https://localhost:8080/",
          "height": 238
        },
        "id": "oE5Qrpud2vks",
        "outputId": "d1e97e03-fef2-4001-867d-6c1f323c3435"
      },
      "outputs": [
        {
          "output_type": "execute_result",
          "data": {
            "text/plain": [
              "                 Club  Shots\n",
              "16    Manchester City  666.0\n",
              "15          Liverpool  639.0\n",
              "7             Chelsea  597.0\n",
              "28  Tottenham Hotspur  566.0\n",
              "0             Arsenal  538.0\n",
              "17  Manchester United  524.0"
            ],
            "text/html": [
              "\n",
              "  <div id=\"df-b9ddd2ff-4ddc-417c-9de8-0fef18633014\">\n",
              "    <div class=\"colab-df-container\">\n",
              "      <div>\n",
              "<style scoped>\n",
              "    .dataframe tbody tr th:only-of-type {\n",
              "        vertical-align: middle;\n",
              "    }\n",
              "\n",
              "    .dataframe tbody tr th {\n",
              "        vertical-align: top;\n",
              "    }\n",
              "\n",
              "    .dataframe thead th {\n",
              "        text-align: right;\n",
              "    }\n",
              "</style>\n",
              "<table border=\"1\" class=\"dataframe\">\n",
              "  <thead>\n",
              "    <tr style=\"text-align: right;\">\n",
              "      <th></th>\n",
              "      <th>Club</th>\n",
              "      <th>Shots</th>\n",
              "    </tr>\n",
              "  </thead>\n",
              "  <tbody>\n",
              "    <tr>\n",
              "      <th>16</th>\n",
              "      <td>Manchester City</td>\n",
              "      <td>666.0</td>\n",
              "    </tr>\n",
              "    <tr>\n",
              "      <th>15</th>\n",
              "      <td>Liverpool</td>\n",
              "      <td>639.0</td>\n",
              "    </tr>\n",
              "    <tr>\n",
              "      <th>7</th>\n",
              "      <td>Chelsea</td>\n",
              "      <td>597.0</td>\n",
              "    </tr>\n",
              "    <tr>\n",
              "      <th>28</th>\n",
              "      <td>Tottenham Hotspur</td>\n",
              "      <td>566.0</td>\n",
              "    </tr>\n",
              "    <tr>\n",
              "      <th>0</th>\n",
              "      <td>Arsenal</td>\n",
              "      <td>538.0</td>\n",
              "    </tr>\n",
              "    <tr>\n",
              "      <th>17</th>\n",
              "      <td>Manchester United</td>\n",
              "      <td>524.0</td>\n",
              "    </tr>\n",
              "  </tbody>\n",
              "</table>\n",
              "</div>\n",
              "      <button class=\"colab-df-convert\" onclick=\"convertToInteractive('df-b9ddd2ff-4ddc-417c-9de8-0fef18633014')\"\n",
              "              title=\"Convert this dataframe to an interactive table.\"\n",
              "              style=\"display:none;\">\n",
              "        \n",
              "  <svg xmlns=\"http://www.w3.org/2000/svg\" height=\"24px\"viewBox=\"0 0 24 24\"\n",
              "       width=\"24px\">\n",
              "    <path d=\"M0 0h24v24H0V0z\" fill=\"none\"/>\n",
              "    <path d=\"M18.56 5.44l.94 2.06.94-2.06 2.06-.94-2.06-.94-.94-2.06-.94 2.06-2.06.94zm-11 1L8.5 8.5l.94-2.06 2.06-.94-2.06-.94L8.5 2.5l-.94 2.06-2.06.94zm10 10l.94 2.06.94-2.06 2.06-.94-2.06-.94-.94-2.06-.94 2.06-2.06.94z\"/><path d=\"M17.41 7.96l-1.37-1.37c-.4-.4-.92-.59-1.43-.59-.52 0-1.04.2-1.43.59L10.3 9.45l-7.72 7.72c-.78.78-.78 2.05 0 2.83L4 21.41c.39.39.9.59 1.41.59.51 0 1.02-.2 1.41-.59l7.78-7.78 2.81-2.81c.8-.78.8-2.07 0-2.86zM5.41 20L4 18.59l7.72-7.72 1.47 1.35L5.41 20z\"/>\n",
              "  </svg>\n",
              "      </button>\n",
              "      \n",
              "  <style>\n",
              "    .colab-df-container {\n",
              "      display:flex;\n",
              "      flex-wrap:wrap;\n",
              "      gap: 12px;\n",
              "    }\n",
              "\n",
              "    .colab-df-convert {\n",
              "      background-color: #E8F0FE;\n",
              "      border: none;\n",
              "      border-radius: 50%;\n",
              "      cursor: pointer;\n",
              "      display: none;\n",
              "      fill: #1967D2;\n",
              "      height: 32px;\n",
              "      padding: 0 0 0 0;\n",
              "      width: 32px;\n",
              "    }\n",
              "\n",
              "    .colab-df-convert:hover {\n",
              "      background-color: #E2EBFA;\n",
              "      box-shadow: 0px 1px 2px rgba(60, 64, 67, 0.3), 0px 1px 3px 1px rgba(60, 64, 67, 0.15);\n",
              "      fill: #174EA6;\n",
              "    }\n",
              "\n",
              "    [theme=dark] .colab-df-convert {\n",
              "      background-color: #3B4455;\n",
              "      fill: #D2E3FC;\n",
              "    }\n",
              "\n",
              "    [theme=dark] .colab-df-convert:hover {\n",
              "      background-color: #434B5C;\n",
              "      box-shadow: 0px 1px 3px 1px rgba(0, 0, 0, 0.15);\n",
              "      filter: drop-shadow(0px 1px 2px rgba(0, 0, 0, 0.3));\n",
              "      fill: #FFFFFF;\n",
              "    }\n",
              "  </style>\n",
              "\n",
              "      <script>\n",
              "        const buttonEl =\n",
              "          document.querySelector('#df-b9ddd2ff-4ddc-417c-9de8-0fef18633014 button.colab-df-convert');\n",
              "        buttonEl.style.display =\n",
              "          google.colab.kernel.accessAllowed ? 'block' : 'none';\n",
              "\n",
              "        async function convertToInteractive(key) {\n",
              "          const element = document.querySelector('#df-b9ddd2ff-4ddc-417c-9de8-0fef18633014');\n",
              "          const dataTable =\n",
              "            await google.colab.kernel.invokeFunction('convertToInteractive',\n",
              "                                                     [key], {});\n",
              "          if (!dataTable) return;\n",
              "\n",
              "          const docLinkHtml = 'Like what you see? Visit the ' +\n",
              "            '<a target=\"_blank\" href=https://colab.research.google.com/notebooks/data_table.ipynb>data table notebook</a>'\n",
              "            + ' to learn more about interactive tables.';\n",
              "          element.innerHTML = '';\n",
              "          dataTable['output_type'] = 'display_data';\n",
              "          await google.colab.output.renderOutput(dataTable, element);\n",
              "          const docLink = document.createElement('div');\n",
              "          docLink.innerHTML = docLinkHtml;\n",
              "          element.appendChild(docLink);\n",
              "        }\n",
              "      </script>\n",
              "    </div>\n",
              "  </div>\n",
              "  "
            ]
          },
          "metadata": {},
          "execution_count": 23
        }
      ],
      "source": [
        "shots_mean = pd.DataFrame(shots.groupby('Club').mean().round()).reset_index()\n",
        "shots_graph = pd.DataFrame(shots_mean.sort_values('Shots', ascending = False).head(6))\n",
        "shots_graph"
      ]
    },
    {
      "cell_type": "code",
      "execution_count": 24,
      "metadata": {
        "colab": {
          "base_uri": "https://localhost:8080/",
          "height": 531
        },
        "id": "lCZOCWFG3Cb_",
        "outputId": "7082728c-033a-45ad-b5ad-7ca03ea01ec3"
      },
      "outputs": [
        {
          "output_type": "display_data",
          "data": {
            "text/plain": [
              "<Figure size 864x576 with 1 Axes>"
            ],
            "image/png": "[encoded data removed]"
          },
          "metadata": {
            "needs_background": "light"
          }
        }
      ],
      "source": [
        "plt.figure(figsize=(12,8))\n",
        "sns.barplot(x = 'Club',y = 'Shots', data = shots_graph,palette = 'rocket')\n",
        "plt.title('Average Shots per Season from 2012/2013', fontsize = 30)\n",
        "plt.ylabel('Shots', fontsize = 15)\n",
        "plt.xlabel('Clubs', fontsize = 15)\n",
        "sns.despine(fig=None, ax=None, top=True, right=True, left=False, bottom=False, offset=None, trim=False)"
      ]
    },
    {
      "cell_type": "code",
      "execution_count": 25,
      "metadata": {
        "colab": {
          "base_uri": "https://localhost:8080/",
          "height": 424
        },
        "id": "maCXFzeN3OxF",
        "outputId": "2ffd0c0e-06df-4a97-9ac6-f02362224e11"
      },
      "outputs": [
        {
          "output_type": "execute_result",
          "data": {
            "text/plain": [
              "                    Club Saves\n",
              "0        Manchester City    62\n",
              "1              Liverpool    83\n",
              "2                Chelsea    84\n",
              "3      Tottenham Hotspur    98\n",
              "4                Arsenal   100\n",
              "..                   ...   ...\n",
              "195     Newcastle United     3\n",
              "196           Sunderland     0\n",
              "197       Wigan Athletic     0\n",
              "198              Reading     0\n",
              "199  Queens Park Rangers     0\n",
              "\n",
              "[200 rows x 2 columns]"
            ],
            "text/html": [
              "\n",
              "  <div id=\"df-6fc79ac4-cc73-4713-9a86-687f4e2e6d96\">\n",
              "    <div class=\"colab-df-container\">\n",
              "      <div>\n",
              "<style scoped>\n",
              "    .dataframe tbody tr th:only-of-type {\n",
              "        vertical-align: middle;\n",
              "    }\n",
              "\n",
              "    .dataframe tbody tr th {\n",
              "        vertical-align: top;\n",
              "    }\n",
              "\n",
              "    .dataframe thead th {\n",
              "        text-align: right;\n",
              "    }\n",
              "</style>\n",
              "<table border=\"1\" class=\"dataframe\">\n",
              "  <thead>\n",
              "    <tr style=\"text-align: right;\">\n",
              "      <th></th>\n",
              "      <th>Club</th>\n",
              "      <th>Saves</th>\n",
              "    </tr>\n",
              "  </thead>\n",
              "  <tbody>\n",
              "    <tr>\n",
              "      <th>0</th>\n",
              "      <td>Manchester City</td>\n",
              "      <td>62</td>\n",
              "    </tr>\n",
              "    <tr>\n",
              "      <th>1</th>\n",
              "      <td>Liverpool</td>\n",
              "      <td>83</td>\n",
              "    </tr>\n",
              "    <tr>\n",
              "      <th>2</th>\n",
              "      <td>Chelsea</td>\n",
              "      <td>84</td>\n",
              "    </tr>\n",
              "    <tr>\n",
              "      <th>3</th>\n",
              "      <td>Tottenham Hotspur</td>\n",
              "      <td>98</td>\n",
              "    </tr>\n",
              "    <tr>\n",
              "      <th>4</th>\n",
              "      <td>Arsenal</td>\n",
              "      <td>100</td>\n",
              "    </tr>\n",
              "    <tr>\n",
              "      <th>...</th>\n",
              "      <td>...</td>\n",
              "      <td>...</td>\n",
              "    </tr>\n",
              "    <tr>\n",
              "      <th>195</th>\n",
              "      <td>Newcastle United</td>\n",
              "      <td>3</td>\n",
              "    </tr>\n",
              "    <tr>\n",
              "      <th>196</th>\n",
              "      <td>Sunderland</td>\n",
              "      <td>0</td>\n",
              "    </tr>\n",
              "    <tr>\n",
              "      <th>197</th>\n",
              "      <td>Wigan Athletic</td>\n",
              "      <td>0</td>\n",
              "    </tr>\n",
              "    <tr>\n",
              "      <th>198</th>\n",
              "      <td>Reading</td>\n",
              "      <td>0</td>\n",
              "    </tr>\n",
              "    <tr>\n",
              "      <th>199</th>\n",
              "      <td>Queens Park Rangers</td>\n",
              "      <td>0</td>\n",
              "    </tr>\n",
              "  </tbody>\n",
              "</table>\n",
              "<p>200 rows × 2 columns</p>\n",
              "</div>\n",
              "      <button class=\"colab-df-convert\" onclick=\"convertToInteractive('df-6fc79ac4-cc73-4713-9a86-687f4e2e6d96')\"\n",
              "              title=\"Convert this dataframe to an interactive table.\"\n",
              "              style=\"display:none;\">\n",
              "        \n",
              "  <svg xmlns=\"http://www.w3.org/2000/svg\" height=\"24px\"viewBox=\"0 0 24 24\"\n",
              "       width=\"24px\">\n",
              "    <path d=\"M0 0h24v24H0V0z\" fill=\"none\"/>\n",
              "    <path d=\"M18.56 5.44l.94 2.06.94-2.06 2.06-.94-2.06-.94-.94-2.06-.94 2.06-2.06.94zm-11 1L8.5 8.5l.94-2.06 2.06-.94-2.06-.94L8.5 2.5l-.94 2.06-2.06.94zm10 10l.94 2.06.94-2.06 2.06-.94-2.06-.94-.94-2.06-.94 2.06-2.06.94z\"/><path d=\"M17.41 7.96l-1.37-1.37c-.4-.4-.92-.59-1.43-.59-.52 0-1.04.2-1.43.59L10.3 9.45l-7.72 7.72c-.78.78-.78 2.05 0 2.83L4 21.41c.39.39.9.59 1.41.59.51 0 1.02-.2 1.41-.59l7.78-7.78 2.81-2.81c.8-.78.8-2.07 0-2.86zM5.41 20L4 18.59l7.72-7.72 1.47 1.35L5.41 20z\"/>\n",
              "  </svg>\n",
              "      </button>\n",
              "      \n",
              "  <style>\n",
              "    .colab-df-container {\n",
              "      display:flex;\n",
              "      flex-wrap:wrap;\n",
              "      gap: 12px;\n",
              "    }\n",
              "\n",
              "    .colab-df-convert {\n",
              "      background-color: #E8F0FE;\n",
              "      border: none;\n",
              "      border-radius: 50%;\n",
              "      cursor: pointer;\n",
              "      display: none;\n",
              "      fill: #1967D2;\n",
              "      height: 32px;\n",
              "      padding: 0 0 0 0;\n",
              "      width: 32px;\n",
              "    }\n",
              "\n",
              "    .colab-df-convert:hover {\n",
              "      background-color: #E2EBFA;\n",
              "      box-shadow: 0px 1px 2px rgba(60, 64, 67, 0.3), 0px 1px 3px 1px rgba(60, 64, 67, 0.15);\n",
              "      fill: #174EA6;\n",
              "    }\n",
              "\n",
              "    [theme=dark] .colab-df-convert {\n",
              "      background-color: #3B4455;\n",
              "      fill: #D2E3FC;\n",
              "    }\n",
              "\n",
              "    [theme=dark] .colab-df-convert:hover {\n",
              "      background-color: #434B5C;\n",
              "      box-shadow: 0px 1px 3px 1px rgba(0, 0, 0, 0.15);\n",
              "      filter: drop-shadow(0px 1px 2px rgba(0, 0, 0, 0.3));\n",
              "      fill: #FFFFFF;\n",
              "    }\n",
              "  </style>\n",
              "\n",
              "      <script>\n",
              "        const buttonEl =\n",
              "          document.querySelector('#df-6fc79ac4-cc73-4713-9a86-687f4e2e6d96 button.colab-df-convert');\n",
              "        buttonEl.style.display =\n",
              "          google.colab.kernel.accessAllowed ? 'block' : 'none';\n",
              "\n",
              "        async function convertToInteractive(key) {\n",
              "          const element = document.querySelector('#df-6fc79ac4-cc73-4713-9a86-687f4e2e6d96');\n",
              "          const dataTable =\n",
              "            await google.colab.kernel.invokeFunction('convertToInteractive',\n",
              "                                                     [key], {});\n",
              "          if (!dataTable) return;\n",
              "\n",
              "          const docLinkHtml = 'Like what you see? Visit the ' +\n",
              "            '<a target=\"_blank\" href=https://colab.research.google.com/notebooks/data_table.ipynb>data table notebook</a>'\n",
              "            + ' to learn more about interactive tables.';\n",
              "          element.innerHTML = '';\n",
              "          dataTable['output_type'] = 'display_data';\n",
              "          await google.colab.output.renderOutput(dataTable, element);\n",
              "          const docLink = document.createElement('div');\n",
              "          docLink.innerHTML = docLinkHtml;\n",
              "          element.appendChild(docLink);\n",
              "        }\n",
              "      </script>\n",
              "    </div>\n",
              "  </div>\n",
              "  "
            ]
          },
          "metadata": {},
          "execution_count": 25
        }
      ],
      "source": [
        "saves = year_ten[['Club','Saves']]\n",
        "saves"
      ]
    },
    {
      "cell_type": "code",
      "execution_count": 26,
      "metadata": {
        "id": "1Zu-4adsIONA"
      },
      "outputs": [],
      "source": [
        "df['Owngoal'] = df['Owngoal'].fillna(0)"
      ]
    },
    {
      "cell_type": "code",
      "execution_count": 27,
      "metadata": {
        "colab": {
          "base_uri": "https://localhost:8080/",
          "height": 206
        },
        "id": "tZmYC20V3cN3",
        "outputId": "1ed7ba87-0fd8-4bf9-8420-c1369c0543df"
      },
      "outputs": [
        {
          "output_type": "execute_result",
          "data": {
            "text/plain": [
              "            Club  Saves\n",
              "6   Cardiff City  149.0\n",
              "13         Leeds  148.0\n",
              "5        Burnley  131.0\n",
              "3      Brentford  129.0\n",
              "26    Sunderland  127.0"
            ],
            "text/html": [
              "\n",
              "  <div id=\"df-aa60f625-1eef-42aa-a037-0c4c86dc4c49\">\n",
              "    <div class=\"colab-df-container\">\n",
              "      <div>\n",
              "<style scoped>\n",
              "    .dataframe tbody tr th:only-of-type {\n",
              "        vertical-align: middle;\n",
              "    }\n",
              "\n",
              "    .dataframe tbody tr th {\n",
              "        vertical-align: top;\n",
              "    }\n",
              "\n",
              "    .dataframe thead th {\n",
              "        text-align: right;\n",
              "    }\n",
              "</style>\n",
              "<table border=\"1\" class=\"dataframe\">\n",
              "  <thead>\n",
              "    <tr style=\"text-align: right;\">\n",
              "      <th></th>\n",
              "      <th>Club</th>\n",
              "      <th>Saves</th>\n",
              "    </tr>\n",
              "  </thead>\n",
              "  <tbody>\n",
              "    <tr>\n",
              "      <th>6</th>\n",
              "      <td>Cardiff City</td>\n",
              "      <td>149.0</td>\n",
              "    </tr>\n",
              "    <tr>\n",
              "      <th>13</th>\n",
              "      <td>Leeds</td>\n",
              "      <td>148.0</td>\n",
              "    </tr>\n",
              "    <tr>\n",
              "      <th>5</th>\n",
              "      <td>Burnley</td>\n",
              "      <td>131.0</td>\n",
              "    </tr>\n",
              "    <tr>\n",
              "      <th>3</th>\n",
              "      <td>Brentford</td>\n",
              "      <td>129.0</td>\n",
              "    </tr>\n",
              "    <tr>\n",
              "      <th>26</th>\n",
              "      <td>Sunderland</td>\n",
              "      <td>127.0</td>\n",
              "    </tr>\n",
              "  </tbody>\n",
              "</table>\n",
              "</div>\n",
              "      <button class=\"colab-df-convert\" onclick=\"convertToInteractive('df-aa60f625-1eef-42aa-a037-0c4c86dc4c49')\"\n",
              "              title=\"Convert this dataframe to an interactive table.\"\n",
              "              style=\"display:none;\">\n",
              "        \n",
              "  <svg xmlns=\"http://www.w3.org/2000/svg\" height=\"24px\"viewBox=\"0 0 24 24\"\n",
              "       width=\"24px\">\n",
              "    <path d=\"M0 0h24v24H0V0z\" fill=\"none\"/>\n",
              "    <path d=\"M18.56 5.44l.94 2.06.94-2.06 2.06-.94-2.06-.94-.94-2.06-.94 2.06-2.06.94zm-11 1L8.5 8.5l.94-2.06 2.06-.94-2.06-.94L8.5 2.5l-.94 2.06-2.06.94zm10 10l.94 2.06.94-2.06 2.06-.94-2.06-.94-.94-2.06-.94 2.06-2.06.94z\"/><path d=\"M17.41 7.96l-1.37-1.37c-.4-.4-.92-.59-1.43-.59-.52 0-1.04.2-1.43.59L10.3 9.45l-7.72 7.72c-.78.78-.78 2.05 0 2.83L4 21.41c.39.39.9.59 1.41.59.51 0 1.02-.2 1.41-.59l7.78-7.78 2.81-2.81c.8-.78.8-2.07 0-2.86zM5.41 20L4 18.59l7.72-7.72 1.47 1.35L5.41 20z\"/>\n",
              "  </svg>\n",
              "      </button>\n",
              "      \n",
              "  <style>\n",
              "    .colab-df-container {\n",
              "      display:flex;\n",
              "      flex-wrap:wrap;\n",
              "      gap: 12px;\n",
              "    }\n",
              "\n",
              "    .colab-df-convert {\n",
              "      background-color: #E8F0FE;\n",
              "      border: none;\n",
              "      border-radius: 50%;\n",
              "      cursor: pointer;\n",
              "      display: none;\n",
              "      fill: #1967D2;\n",
              "      height: 32px;\n",
              "      padding: 0 0 0 0;\n",
              "      width: 32px;\n",
              "    }\n",
              "\n",
              "    .colab-df-convert:hover {\n",
              "      background-color: #E2EBFA;\n",
              "      box-shadow: 0px 1px 2px rgba(60, 64, 67, 0.3), 0px 1px 3px 1px rgba(60, 64, 67, 0.15);\n",
              "      fill: #174EA6;\n",
              "    }\n",
              "\n",
              "    [theme=dark] .colab-df-convert {\n",
              "      background-color: #3B4455;\n",
              "      fill: #D2E3FC;\n",
              "    }\n",
              "\n",
              "    [theme=dark] .colab-df-convert:hover {\n",
              "      background-color: #434B5C;\n",
              "      box-shadow: 0px 1px 3px 1px rgba(0, 0, 0, 0.15);\n",
              "      filter: drop-shadow(0px 1px 2px rgba(0, 0, 0, 0.3));\n",
              "      fill: #FFFFFF;\n",
              "    }\n",
              "  </style>\n",
              "\n",
              "      <script>\n",
              "        const buttonEl =\n",
              "          document.querySelector('#df-aa60f625-1eef-42aa-a037-0c4c86dc4c49 button.colab-df-convert');\n",
              "        buttonEl.style.display =\n",
              "          google.colab.kernel.accessAllowed ? 'block' : 'none';\n",
              "\n",
              "        async function convertToInteractive(key) {\n",
              "          const element = document.querySelector('#df-aa60f625-1eef-42aa-a037-0c4c86dc4c49');\n",
              "          const dataTable =\n",
              "            await google.colab.kernel.invokeFunction('convertToInteractive',\n",
              "                                                     [key], {});\n",
              "          if (!dataTable) return;\n",
              "\n",
              "          const docLinkHtml = 'Like what you see? Visit the ' +\n",
              "            '<a target=\"_blank\" href=https://colab.research.google.com/notebooks/data_table.ipynb>data table notebook</a>'\n",
              "            + ' to learn more about interactive tables.';\n",
              "          element.innerHTML = '';\n",
              "          dataTable['output_type'] = 'display_data';\n",
              "          await google.colab.output.renderOutput(dataTable, element);\n",
              "          const docLink = document.createElement('div');\n",
              "          docLink.innerHTML = docLinkHtml;\n",
              "          element.appendChild(docLink);\n",
              "        }\n",
              "      </script>\n",
              "    </div>\n",
              "  </div>\n",
              "  "
            ]
          },
          "metadata": {},
          "execution_count": 27
        }
      ],
      "source": [
        "saves_mean = pd.DataFrame(saves.groupby('Club').mean().round()).reset_index()\n",
        "saves_graph = pd.DataFrame(saves_mean.sort_values('Saves', ascending = False).head(5))\n",
        "saves_graph"
      ]
    },
    {
      "cell_type": "code",
      "execution_count": 28,
      "metadata": {
        "colab": {
          "base_uri": "https://localhost:8080/",
          "height": 531
        },
        "id": "UZHDA5PU3rqF",
        "outputId": "a3b9cec9-7c8e-4a9f-c5fa-57ebf2bff473"
      },
      "outputs": [
        {
          "output_type": "display_data",
          "data": {
            "text/plain": [
              "<Figure size 864x576 with 1 Axes>"
            ],
            "image/png": "[encoded data removed]"
          },
          "metadata": {
            "needs_background": "light"
          }
        }
      ],
      "source": [
        "plt.figure(figsize=(12,8))\n",
        "sns.barplot(x = 'Club',y = 'Saves', data = saves_graph,palette = 'rocket')\n",
        "plt.title('Average Saves per Season from 2012/2013', fontsize = 30)\n",
        "plt.ylabel('Saves', fontsize = 15)\n",
        "plt.xlabel('Clubs', fontsize = 15)\n",
        "sns.despine(fig=None, ax=None, top=True, right=True, left=False, bottom=False, offset=None, trim=False)"
      ]
    },
    {
      "cell_type": "code",
      "execution_count": 29,
      "metadata": {
        "colab": {
          "base_uri": "https://localhost:8080/",
          "height": 206
        },
        "id": "s5g3KqNM6QT4",
        "outputId": "1fbcc402-cd58-4478-fc4b-a27452704287"
      },
      "outputs": [
        {
          "output_type": "execute_result",
          "data": {
            "text/plain": [
              "             Club   RC\n",
              "22        Reading  1.0\n",
              "18  Middlesbrough  1.0\n",
              "15      Liverpool  1.0\n",
              "6    Cardiff City  1.0\n",
              "5         Burnley  1.0"
            ],
            "text/html": [
              "\n",
              "  <div id=\"df-0ad871a3-70c6-4ac2-b05a-17f681230d08\">\n",
              "    <div class=\"colab-df-container\">\n",
              "      <div>\n",
              "<style scoped>\n",
              "    .dataframe tbody tr th:only-of-type {\n",
              "        vertical-align: middle;\n",
              "    }\n",
              "\n",
              "    .dataframe tbody tr th {\n",
              "        vertical-align: top;\n",
              "    }\n",
              "\n",
              "    .dataframe thead th {\n",
              "        text-align: right;\n",
              "    }\n",
              "</style>\n",
              "<table border=\"1\" class=\"dataframe\">\n",
              "  <thead>\n",
              "    <tr style=\"text-align: right;\">\n",
              "      <th></th>\n",
              "      <th>Club</th>\n",
              "      <th>RC</th>\n",
              "    </tr>\n",
              "  </thead>\n",
              "  <tbody>\n",
              "    <tr>\n",
              "      <th>22</th>\n",
              "      <td>Reading</td>\n",
              "      <td>1.0</td>\n",
              "    </tr>\n",
              "    <tr>\n",
              "      <th>18</th>\n",
              "      <td>Middlesbrough</td>\n",
              "      <td>1.0</td>\n",
              "    </tr>\n",
              "    <tr>\n",
              "      <th>15</th>\n",
              "      <td>Liverpool</td>\n",
              "      <td>1.0</td>\n",
              "    </tr>\n",
              "    <tr>\n",
              "      <th>6</th>\n",
              "      <td>Cardiff City</td>\n",
              "      <td>1.0</td>\n",
              "    </tr>\n",
              "    <tr>\n",
              "      <th>5</th>\n",
              "      <td>Burnley</td>\n",
              "      <td>1.0</td>\n",
              "    </tr>\n",
              "  </tbody>\n",
              "</table>\n",
              "</div>\n",
              "      <button class=\"colab-df-convert\" onclick=\"convertToInteractive('df-0ad871a3-70c6-4ac2-b05a-17f681230d08')\"\n",
              "              title=\"Convert this dataframe to an interactive table.\"\n",
              "              style=\"display:none;\">\n",
              "        \n",
              "  <svg xmlns=\"http://www.w3.org/2000/svg\" height=\"24px\"viewBox=\"0 0 24 24\"\n",
              "       width=\"24px\">\n",
              "    <path d=\"M0 0h24v24H0V0z\" fill=\"none\"/>\n",
              "    <path d=\"M18.56 5.44l.94 2.06.94-2.06 2.06-.94-2.06-.94-.94-2.06-.94 2.06-2.06.94zm-11 1L8.5 8.5l.94-2.06 2.06-.94-2.06-.94L8.5 2.5l-.94 2.06-2.06.94zm10 10l.94 2.06.94-2.06 2.06-.94-2.06-.94-.94-2.06-.94 2.06-2.06.94z\"/><path d=\"M17.41 7.96l-1.37-1.37c-.4-.4-.92-.59-1.43-.59-.52 0-1.04.2-1.43.59L10.3 9.45l-7.72 7.72c-.78.78-.78 2.05 0 2.83L4 21.41c.39.39.9.59 1.41.59.51 0 1.02-.2 1.41-.59l7.78-7.78 2.81-2.81c.8-.78.8-2.07 0-2.86zM5.41 20L4 18.59l7.72-7.72 1.47 1.35L5.41 20z\"/>\n",
              "  </svg>\n",
              "      </button>\n",
              "      \n",
              "  <style>\n",
              "    .colab-df-container {\n",
              "      display:flex;\n",
              "      flex-wrap:wrap;\n",
              "      gap: 12px;\n",
              "    }\n",
              "\n",
              "    .colab-df-convert {\n",
              "      background-color: #E8F0FE;\n",
              "      border: none;\n",
              "      border-radius: 50%;\n",
              "      cursor: pointer;\n",
              "      display: none;\n",
              "      fill: #1967D2;\n",
              "      height: 32px;\n",
              "      padding: 0 0 0 0;\n",
              "      width: 32px;\n",
              "    }\n",
              "\n",
              "    .colab-df-convert:hover {\n",
              "      background-color: #E2EBFA;\n",
              "      box-shadow: 0px 1px 2px rgba(60, 64, 67, 0.3), 0px 1px 3px 1px rgba(60, 64, 67, 0.15);\n",
              "      fill: #174EA6;\n",
              "    }\n",
              "\n",
              "    [theme=dark] .colab-df-convert {\n",
              "      background-color: #3B4455;\n",
              "      fill: #D2E3FC;\n",
              "    }\n",
              "\n",
              "    [theme=dark] .colab-df-convert:hover {\n",
              "      background-color: #434B5C;\n",
              "      box-shadow: 0px 1px 3px 1px rgba(0, 0, 0, 0.15);\n",
              "      filter: drop-shadow(0px 1px 2px rgba(0, 0, 0, 0.3));\n",
              "      fill: #FFFFFF;\n",
              "    }\n",
              "  </style>\n",
              "\n",
              "      <script>\n",
              "        const buttonEl =\n",
              "          document.querySelector('#df-0ad871a3-70c6-4ac2-b05a-17f681230d08 button.colab-df-convert');\n",
              "        buttonEl.style.display =\n",
              "          google.colab.kernel.accessAllowed ? 'block' : 'none';\n",
              "\n",
              "        async function convertToInteractive(key) {\n",
              "          const element = document.querySelector('#df-0ad871a3-70c6-4ac2-b05a-17f681230d08');\n",
              "          const dataTable =\n",
              "            await google.colab.kernel.invokeFunction('convertToInteractive',\n",
              "                                                     [key], {});\n",
              "          if (!dataTable) return;\n",
              "\n",
              "          const docLinkHtml = 'Like what you see? Visit the ' +\n",
              "            '<a target=\"_blank\" href=https://colab.research.google.com/notebooks/data_table.ipynb>data table notebook</a>'\n",
              "            + ' to learn more about interactive tables.';\n",
              "          element.innerHTML = '';\n",
              "          dataTable['output_type'] = 'display_data';\n",
              "          await google.colab.output.renderOutput(dataTable, element);\n",
              "          const docLink = document.createElement('div');\n",
              "          docLink.innerHTML = docLinkHtml;\n",
              "          element.appendChild(docLink);\n",
              "        }\n",
              "      </script>\n",
              "    </div>\n",
              "  </div>\n",
              "  "
            ]
          },
          "metadata": {},
          "execution_count": 29
        }
      ],
      "source": [
        "redcard = year_ten[['Club','RC']]\n",
        "redcard_mean = pd.DataFrame(redcard.groupby('Club').mean\n",
        "().round()).reset_index()\n",
        "redcard_graph = pd.DataFrame(redcard_mean.sort_values('RC', ascending = False).tail(5))\n",
        "redcard_graph"
      ]
    },
    {
      "cell_type": "code",
      "execution_count": 30,
      "metadata": {
        "colab": {
          "base_uri": "https://localhost:8080/",
          "height": 531
        },
        "id": "9O9S9YX76xUj",
        "outputId": "76194a21-2871-4ef1-9b95-d265901a039b"
      },
      "outputs": [
        {
          "output_type": "display_data",
          "data": {
            "text/plain": [
              "<Figure size 864x576 with 1 Axes>"
            ],
            "image/png": "[encoded data removed]"
          },
          "metadata": {
            "needs_background": "light"
          }
        }
      ],
      "source": [
        "plt.figure(figsize=(12,8))\n",
        "sns.barplot(x = 'Club',y = 'RC', data = redcard_graph,palette = 'rocket')\n",
        "plt.title('Average Red Cards per Season from 2012/2013', fontsize = 30)\n",
        "plt.ylabel('RC', fontsize = 15)\n",
        "plt.xlabel('Clubs', fontsize = 15)\n",
        "sns.despine(fig=None, ax=None, top=True, right=True, left=False, bottom=False, offset=None, trim=False)"
      ]
    },
    {
      "cell_type": "code",
      "execution_count": 31,
      "metadata": {
        "colab": {
          "base_uri": "https://localhost:8080/",
          "height": 206
        },
        "id": "3bzx8l1N7ovR",
        "outputId": "0a1f3e92-bf29-4045-fe71-b6ed0fe59f34"
      },
      "outputs": [
        {
          "output_type": "execute_result",
          "data": {
            "text/plain": [
              "                 Club  Points \n",
              "23  Manchester United     1223\n",
              "22    Manchester City     1219\n",
              "12            Chelsea     1208\n",
              "21          Liverpool     1178\n",
              "0             Arsenal     1128"
            ],
            "text/html": [
              "\n",
              "  <div id=\"df-4f95d8ff-0df2-4c7b-900d-521d416d4842\">\n",
              "    <div class=\"colab-df-container\">\n",
              "      <div>\n",
              "<style scoped>\n",
              "    .dataframe tbody tr th:only-of-type {\n",
              "        vertical-align: middle;\n",
              "    }\n",
              "\n",
              "    .dataframe tbody tr th {\n",
              "        vertical-align: top;\n",
              "    }\n",
              "\n",
              "    .dataframe thead th {\n",
              "        text-align: right;\n",
              "    }\n",
              "</style>\n",
              "<table border=\"1\" class=\"dataframe\">\n",
              "  <thead>\n",
              "    <tr style=\"text-align: right;\">\n",
              "      <th></th>\n",
              "      <th>Club</th>\n",
              "      <th>Points</th>\n",
              "    </tr>\n",
              "  </thead>\n",
              "  <tbody>\n",
              "    <tr>\n",
              "      <th>23</th>\n",
              "      <td>Manchester United</td>\n",
              "      <td>1223</td>\n",
              "    </tr>\n",
              "    <tr>\n",
              "      <th>22</th>\n",
              "      <td>Manchester City</td>\n",
              "      <td>1219</td>\n",
              "    </tr>\n",
              "    <tr>\n",
              "      <th>12</th>\n",
              "      <td>Chelsea</td>\n",
              "      <td>1208</td>\n",
              "    </tr>\n",
              "    <tr>\n",
              "      <th>21</th>\n",
              "      <td>Liverpool</td>\n",
              "      <td>1178</td>\n",
              "    </tr>\n",
              "    <tr>\n",
              "      <th>0</th>\n",
              "      <td>Arsenal</td>\n",
              "      <td>1128</td>\n",
              "    </tr>\n",
              "  </tbody>\n",
              "</table>\n",
              "</div>\n",
              "      <button class=\"colab-df-convert\" onclick=\"convertToInteractive('df-4f95d8ff-0df2-4c7b-900d-521d416d4842')\"\n",
              "              title=\"Convert this dataframe to an interactive table.\"\n",
              "              style=\"display:none;\">\n",
              "        \n",
              "  <svg xmlns=\"http://www.w3.org/2000/svg\" height=\"24px\"viewBox=\"0 0 24 24\"\n",
              "       width=\"24px\">\n",
              "    <path d=\"M0 0h24v24H0V0z\" fill=\"none\"/>\n",
              "    <path d=\"M18.56 5.44l.94 2.06.94-2.06 2.06-.94-2.06-.94-.94-2.06-.94 2.06-2.06.94zm-11 1L8.5 8.5l.94-2.06 2.06-.94-2.06-.94L8.5 2.5l-.94 2.06-2.06.94zm10 10l.94 2.06.94-2.06 2.06-.94-2.06-.94-.94-2.06-.94 2.06-2.06.94z\"/><path d=\"M17.41 7.96l-1.37-1.37c-.4-.4-.92-.59-1.43-.59-.52 0-1.04.2-1.43.59L10.3 9.45l-7.72 7.72c-.78.78-.78 2.05 0 2.83L4 21.41c.39.39.9.59 1.41.59.51 0 1.02-.2 1.41-.59l7.78-7.78 2.81-2.81c.8-.78.8-2.07 0-2.86zM5.41 20L4 18.59l7.72-7.72 1.47 1.35L5.41 20z\"/>\n",
              "  </svg>\n",
              "      </button>\n",
              "      \n",
              "  <style>\n",
              "    .colab-df-container {\n",
              "      display:flex;\n",
              "      flex-wrap:wrap;\n",
              "      gap: 12px;\n",
              "    }\n",
              "\n",
              "    .colab-df-convert {\n",
              "      background-color: #E8F0FE;\n",
              "      border: none;\n",
              "      border-radius: 50%;\n",
              "      cursor: pointer;\n",
              "      display: none;\n",
              "      fill: #1967D2;\n",
              "      height: 32px;\n",
              "      padding: 0 0 0 0;\n",
              "      width: 32px;\n",
              "    }\n",
              "\n",
              "    .colab-df-convert:hover {\n",
              "      background-color: #E2EBFA;\n",
              "      box-shadow: 0px 1px 2px rgba(60, 64, 67, 0.3), 0px 1px 3px 1px rgba(60, 64, 67, 0.15);\n",
              "      fill: #174EA6;\n",
              "    }\n",
              "\n",
              "    [theme=dark] .colab-df-convert {\n",
              "      background-color: #3B4455;\n",
              "      fill: #D2E3FC;\n",
              "    }\n",
              "\n",
              "    [theme=dark] .colab-df-convert:hover {\n",
              "      background-color: #434B5C;\n",
              "      box-shadow: 0px 1px 3px 1px rgba(0, 0, 0, 0.15);\n",
              "      filter: drop-shadow(0px 1px 2px rgba(0, 0, 0, 0.3));\n",
              "      fill: #FFFFFF;\n",
              "    }\n",
              "  </style>\n",
              "\n",
              "      <script>\n",
              "        const buttonEl =\n",
              "          document.querySelector('#df-4f95d8ff-0df2-4c7b-900d-521d416d4842 button.colab-df-convert');\n",
              "        buttonEl.style.display =\n",
              "          google.colab.kernel.accessAllowed ? 'block' : 'none';\n",
              "\n",
              "        async function convertToInteractive(key) {\n",
              "          const element = document.querySelector('#df-4f95d8ff-0df2-4c7b-900d-521d416d4842');\n",
              "          const dataTable =\n",
              "            await google.colab.kernel.invokeFunction('convertToInteractive',\n",
              "                                                     [key], {});\n",
              "          if (!dataTable) return;\n",
              "\n",
              "          const docLinkHtml = 'Like what you see? Visit the ' +\n",
              "            '<a target=\"_blank\" href=https://colab.research.google.com/notebooks/data_table.ipynb>data table notebook</a>'\n",
              "            + ' to learn more about interactive tables.';\n",
              "          element.innerHTML = '';\n",
              "          dataTable['output_type'] = 'display_data';\n",
              "          await google.colab.output.renderOutput(dataTable, element);\n",
              "          const docLink = document.createElement('div');\n",
              "          docLink.innerHTML = docLinkHtml;\n",
              "          element.appendChild(docLink);\n",
              "        }\n",
              "      </script>\n",
              "    </div>\n",
              "  </div>\n",
              "  "
            ]
          },
          "metadata": {},
          "execution_count": 31
        }
      ],
      "source": [
        "won = df[['Club','Points ']]\n",
        "won_mean = pd.DataFrame(won.groupby('Club').sum().round()).reset_index()\n",
        "won_graph = pd.DataFrame(won_mean.sort_values('Points ', ascending = False).head(5))\n",
        "won_graph"
      ]
    },
    {
      "cell_type": "code",
      "execution_count": 32,
      "metadata": {
        "colab": {
          "base_uri": "https://localhost:8080/",
          "height": 531
        },
        "id": "cQFGru_48odA",
        "outputId": "6eb997ac-3573-4135-a7a3-295c4941ea7b"
      },
      "outputs": [
        {
          "output_type": "display_data",
          "data": {
            "text/plain": [
              "<Figure size 864x576 with 1 Axes>"
            ],
            "image/png": "[encoded data removed]"
          },
          "metadata": {
            "needs_background": "light"
          }
        }
      ],
      "source": [
        "plt.figure(figsize=(12,8))\n",
        "sns.barplot(x = 'Club',y = 'Points ', data = won_graph,palette = 'rocket')\n",
        "plt.title('Total Points', fontsize = 30)\n",
        "plt.ylabel('Points', fontsize = 15)\n",
        "plt.xlabel('Clubs', fontsize = 15)\n",
        "sns.despine(fig=None, ax=None, top=True, right=True, left=False, bottom=False, offset=None, trim=False)"
      ]
    },
    {
      "cell_type": "code",
      "execution_count": 33,
      "metadata": {
        "colab": {
          "base_uri": "https://localhost:8080/",
          "height": 206
        },
        "id": "yAqyMmIRAHpk",
        "outputId": "229e076d-5e8e-422c-8e67-c440f6293825"
      },
      "outputs": [
        {
          "output_type": "execute_result",
          "data": {
            "text/plain": [
              "              Club    YC\n",
              "4         Brighton  58.0\n",
              "27         Swansea  55.0\n",
              "14  Leicester City  54.0\n",
              "15       Liverpool  50.0\n",
              "22         Reading  45.0"
            ],
            "text/html": [
              "\n",
              "  <div id=\"df-508dd87d-e9b5-490b-96c0-e504a760d619\">\n",
              "    <div class=\"colab-df-container\">\n",
              "      <div>\n",
              "<style scoped>\n",
              "    .dataframe tbody tr th:only-of-type {\n",
              "        vertical-align: middle;\n",
              "    }\n",
              "\n",
              "    .dataframe tbody tr th {\n",
              "        vertical-align: top;\n",
              "    }\n",
              "\n",
              "    .dataframe thead th {\n",
              "        text-align: right;\n",
              "    }\n",
              "</style>\n",
              "<table border=\"1\" class=\"dataframe\">\n",
              "  <thead>\n",
              "    <tr style=\"text-align: right;\">\n",
              "      <th></th>\n",
              "      <th>Club</th>\n",
              "      <th>YC</th>\n",
              "    </tr>\n",
              "  </thead>\n",
              "  <tbody>\n",
              "    <tr>\n",
              "      <th>4</th>\n",
              "      <td>Brighton</td>\n",
              "      <td>58.0</td>\n",
              "    </tr>\n",
              "    <tr>\n",
              "      <th>27</th>\n",
              "      <td>Swansea</td>\n",
              "      <td>55.0</td>\n",
              "    </tr>\n",
              "    <tr>\n",
              "      <th>14</th>\n",
              "      <td>Leicester City</td>\n",
              "      <td>54.0</td>\n",
              "    </tr>\n",
              "    <tr>\n",
              "      <th>15</th>\n",
              "      <td>Liverpool</td>\n",
              "      <td>50.0</td>\n",
              "    </tr>\n",
              "    <tr>\n",
              "      <th>22</th>\n",
              "      <td>Reading</td>\n",
              "      <td>45.0</td>\n",
              "    </tr>\n",
              "  </tbody>\n",
              "</table>\n",
              "</div>\n",
              "      <button class=\"colab-df-convert\" onclick=\"convertToInteractive('df-508dd87d-e9b5-490b-96c0-e504a760d619')\"\n",
              "              title=\"Convert this dataframe to an interactive table.\"\n",
              "              style=\"display:none;\">\n",
              "        \n",
              "  <svg xmlns=\"http://www.w3.org/2000/svg\" height=\"24px\"viewBox=\"0 0 24 24\"\n",
              "       width=\"24px\">\n",
              "    <path d=\"M0 0h24v24H0V0z\" fill=\"none\"/>\n",
              "    <path d=\"M18.56 5.44l.94 2.06.94-2.06 2.06-.94-2.06-.94-.94-2.06-.94 2.06-2.06.94zm-11 1L8.5 8.5l.94-2.06 2.06-.94-2.06-.94L8.5 2.5l-.94 2.06-2.06.94zm10 10l.94 2.06.94-2.06 2.06-.94-2.06-.94-.94-2.06-.94 2.06-2.06.94z\"/><path d=\"M17.41 7.96l-1.37-1.37c-.4-.4-.92-.59-1.43-.59-.52 0-1.04.2-1.43.59L10.3 9.45l-7.72 7.72c-.78.78-.78 2.05 0 2.83L4 21.41c.39.39.9.59 1.41.59.51 0 1.02-.2 1.41-.59l7.78-7.78 2.81-2.81c.8-.78.8-2.07 0-2.86zM5.41 20L4 18.59l7.72-7.72 1.47 1.35L5.41 20z\"/>\n",
              "  </svg>\n",
              "      </button>\n",
              "      \n",
              "  <style>\n",
              "    .colab-df-container {\n",
              "      display:flex;\n",
              "      flex-wrap:wrap;\n",
              "      gap: 12px;\n",
              "    }\n",
              "\n",
              "    .colab-df-convert {\n",
              "      background-color: #E8F0FE;\n",
              "      border: none;\n",
              "      border-radius: 50%;\n",
              "      cursor: pointer;\n",
              "      display: none;\n",
              "      fill: #1967D2;\n",
              "      height: 32px;\n",
              "      padding: 0 0 0 0;\n",
              "      width: 32px;\n",
              "    }\n",
              "\n",
              "    .colab-df-convert:hover {\n",
              "      background-color: #E2EBFA;\n",
              "      box-shadow: 0px 1px 2px rgba(60, 64, 67, 0.3), 0px 1px 3px 1px rgba(60, 64, 67, 0.15);\n",
              "      fill: #174EA6;\n",
              "    }\n",
              "\n",
              "    [theme=dark] .colab-df-convert {\n",
              "      background-color: #3B4455;\n",
              "      fill: #D2E3FC;\n",
              "    }\n",
              "\n",
              "    [theme=dark] .colab-df-convert:hover {\n",
              "      background-color: #434B5C;\n",
              "      box-shadow: 0px 1px 3px 1px rgba(0, 0, 0, 0.15);\n",
              "      filter: drop-shadow(0px 1px 2px rgba(0, 0, 0, 0.3));\n",
              "      fill: #FFFFFF;\n",
              "    }\n",
              "  </style>\n",
              "\n",
              "      <script>\n",
              "        const buttonEl =\n",
              "          document.querySelector('#df-508dd87d-e9b5-490b-96c0-e504a760d619 button.colab-df-convert');\n",
              "        buttonEl.style.display =\n",
              "          google.colab.kernel.accessAllowed ? 'block' : 'none';\n",
              "\n",
              "        async function convertToInteractive(key) {\n",
              "          const element = document.querySelector('#df-508dd87d-e9b5-490b-96c0-e504a760d619');\n",
              "          const dataTable =\n",
              "            await google.colab.kernel.invokeFunction('convertToInteractive',\n",
              "                                                     [key], {});\n",
              "          if (!dataTable) return;\n",
              "\n",
              "          const docLinkHtml = 'Like what you see? Visit the ' +\n",
              "            '<a target=\"_blank\" href=https://colab.research.google.com/notebooks/data_table.ipynb>data table notebook</a>'\n",
              "            + ' to learn more about interactive tables.';\n",
              "          element.innerHTML = '';\n",
              "          dataTable['output_type'] = 'display_data';\n",
              "          await google.colab.output.renderOutput(dataTable, element);\n",
              "          const docLink = document.createElement('div');\n",
              "          docLink.innerHTML = docLinkHtml;\n",
              "          element.appendChild(docLink);\n",
              "        }\n",
              "      </script>\n",
              "    </div>\n",
              "  </div>\n",
              "  "
            ]
          },
          "metadata": {},
          "execution_count": 33
        }
      ],
      "source": [
        "yellowcard = year_ten[['Club','YC']]\n",
        "yellowcard_mean = pd.DataFrame(yellowcard.groupby('Club').mean().round()).reset_index()\n",
        "yellowcard_graph = pd.DataFrame(yellowcard_mean.sort_values('YC', ascending = False).tail(5))\n",
        "yellowcard_graph"
      ]
    },
    {
      "cell_type": "code",
      "execution_count": 34,
      "metadata": {
        "colab": {
          "base_uri": "https://localhost:8080/",
          "height": 531
        },
        "id": "h_NVpT_bAfVD",
        "outputId": "9ae5bfda-67b9-4404-ce8b-80d57326ddad"
      },
      "outputs": [
        {
          "output_type": "display_data",
          "data": {
            "text/plain": [
              "<Figure size 864x576 with 1 Axes>"
            ],
            "image/png": "[encoded data removed]"
          },
          "metadata": {
            "needs_background": "light"
          }
        }
      ],
      "source": [
        "plt.figure(figsize=(12,8))\n",
        "sns.barplot(x = 'Club',y = 'YC', data =   yellowcard_graph,palette = 'rocket')\n",
        "plt.title('Average Yellow Cards per Season from 2012/2013', fontsize = 30)\n",
        "plt.ylabel('YC', fontsize = 15)\n",
        "plt.xlabel('Clubs', fontsize = 15)\n",
        "sns.despine(fig=None, ax=None, top=True, right=True, left=False, bottom=False, offset=None, trim=False)"
      ]
    },
    {
      "cell_type": "code",
      "execution_count": 35,
      "metadata": {
        "colab": {
          "base_uri": "https://localhost:8080/",
          "height": 206
        },
        "id": "BKLCd0vqA3d_",
        "outputId": "4df4e0a1-8780-4c45-92a3-a387efb839c7"
      },
      "outputs": [
        {
          "output_type": "execute_result",
          "data": {
            "text/plain": [
              "                 Club  Tackles\n",
              "24        Southampton     7218\n",
              "9             Everton     6923\n",
              "28  Tottenham Hotspur     6919\n",
              "15          Liverpool     6908\n",
              "7             Chelsea     6759"
            ],
            "text/html": [
              "\n",
              "  <div id=\"df-ed6efeaf-c39c-49e8-868b-0d8316b95970\">\n",
              "    <div class=\"colab-df-container\">\n",
              "      <div>\n",
              "<style scoped>\n",
              "    .dataframe tbody tr th:only-of-type {\n",
              "        vertical-align: middle;\n",
              "    }\n",
              "\n",
              "    .dataframe tbody tr th {\n",
              "        vertical-align: top;\n",
              "    }\n",
              "\n",
              "    .dataframe thead th {\n",
              "        text-align: right;\n",
              "    }\n",
              "</style>\n",
              "<table border=\"1\" class=\"dataframe\">\n",
              "  <thead>\n",
              "    <tr style=\"text-align: right;\">\n",
              "      <th></th>\n",
              "      <th>Club</th>\n",
              "      <th>Tackles</th>\n",
              "    </tr>\n",
              "  </thead>\n",
              "  <tbody>\n",
              "    <tr>\n",
              "      <th>24</th>\n",
              "      <td>Southampton</td>\n",
              "      <td>7218</td>\n",
              "    </tr>\n",
              "    <tr>\n",
              "      <th>9</th>\n",
              "      <td>Everton</td>\n",
              "      <td>6923</td>\n",
              "    </tr>\n",
              "    <tr>\n",
              "      <th>28</th>\n",
              "      <td>Tottenham Hotspur</td>\n",
              "      <td>6919</td>\n",
              "    </tr>\n",
              "    <tr>\n",
              "      <th>15</th>\n",
              "      <td>Liverpool</td>\n",
              "      <td>6908</td>\n",
              "    </tr>\n",
              "    <tr>\n",
              "      <th>7</th>\n",
              "      <td>Chelsea</td>\n",
              "      <td>6759</td>\n",
              "    </tr>\n",
              "  </tbody>\n",
              "</table>\n",
              "</div>\n",
              "      <button class=\"colab-df-convert\" onclick=\"convertToInteractive('df-ed6efeaf-c39c-49e8-868b-0d8316b95970')\"\n",
              "              title=\"Convert this dataframe to an interactive table.\"\n",
              "              style=\"display:none;\">\n",
              "        \n",
              "  <svg xmlns=\"http://www.w3.org/2000/svg\" height=\"24px\"viewBox=\"0 0 24 24\"\n",
              "       width=\"24px\">\n",
              "    <path d=\"M0 0h24v24H0V0z\" fill=\"none\"/>\n",
              "    <path d=\"M18.56 5.44l.94 2.06.94-2.06 2.06-.94-2.06-.94-.94-2.06-.94 2.06-2.06.94zm-11 1L8.5 8.5l.94-2.06 2.06-.94-2.06-.94L8.5 2.5l-.94 2.06-2.06.94zm10 10l.94 2.06.94-2.06 2.06-.94-2.06-.94-.94-2.06-.94 2.06-2.06.94z\"/><path d=\"M17.41 7.96l-1.37-1.37c-.4-.4-.92-.59-1.43-.59-.52 0-1.04.2-1.43.59L10.3 9.45l-7.72 7.72c-.78.78-.78 2.05 0 2.83L4 21.41c.39.39.9.59 1.41.59.51 0 1.02-.2 1.41-.59l7.78-7.78 2.81-2.81c.8-.78.8-2.07 0-2.86zM5.41 20L4 18.59l7.72-7.72 1.47 1.35L5.41 20z\"/>\n",
              "  </svg>\n",
              "      </button>\n",
              "      \n",
              "  <style>\n",
              "    .colab-df-container {\n",
              "      display:flex;\n",
              "      flex-wrap:wrap;\n",
              "      gap: 12px;\n",
              "    }\n",
              "\n",
              "    .colab-df-convert {\n",
              "      background-color: #E8F0FE;\n",
              "      border: none;\n",
              "      border-radius: 50%;\n",
              "      cursor: pointer;\n",
              "      display: none;\n",
              "      fill: #1967D2;\n",
              "      height: 32px;\n",
              "      padding: 0 0 0 0;\n",
              "      width: 32px;\n",
              "    }\n",
              "\n",
              "    .colab-df-convert:hover {\n",
              "      background-color: #E2EBFA;\n",
              "      box-shadow: 0px 1px 2px rgba(60, 64, 67, 0.3), 0px 1px 3px 1px rgba(60, 64, 67, 0.15);\n",
              "      fill: #174EA6;\n",
              "    }\n",
              "\n",
              "    [theme=dark] .colab-df-convert {\n",
              "      background-color: #3B4455;\n",
              "      fill: #D2E3FC;\n",
              "    }\n",
              "\n",
              "    [theme=dark] .colab-df-convert:hover {\n",
              "      background-color: #434B5C;\n",
              "      box-shadow: 0px 1px 3px 1px rgba(0, 0, 0, 0.15);\n",
              "      filter: drop-shadow(0px 1px 2px rgba(0, 0, 0, 0.3));\n",
              "      fill: #FFFFFF;\n",
              "    }\n",
              "  </style>\n",
              "\n",
              "      <script>\n",
              "        const buttonEl =\n",
              "          document.querySelector('#df-ed6efeaf-c39c-49e8-868b-0d8316b95970 button.colab-df-convert');\n",
              "        buttonEl.style.display =\n",
              "          google.colab.kernel.accessAllowed ? 'block' : 'none';\n",
              "\n",
              "        async function convertToInteractive(key) {\n",
              "          const element = document.querySelector('#df-ed6efeaf-c39c-49e8-868b-0d8316b95970');\n",
              "          const dataTable =\n",
              "            await google.colab.kernel.invokeFunction('convertToInteractive',\n",
              "                                                     [key], {});\n",
              "          if (!dataTable) return;\n",
              "\n",
              "          const docLinkHtml = 'Like what you see? Visit the ' +\n",
              "            '<a target=\"_blank\" href=https://colab.research.google.com/notebooks/data_table.ipynb>data table notebook</a>'\n",
              "            + ' to learn more about interactive tables.';\n",
              "          element.innerHTML = '';\n",
              "          dataTable['output_type'] = 'display_data';\n",
              "          await google.colab.output.renderOutput(dataTable, element);\n",
              "          const docLink = document.createElement('div');\n",
              "          docLink.innerHTML = docLinkHtml;\n",
              "          element.appendChild(docLink);\n",
              "        }\n",
              "      </script>\n",
              "    </div>\n",
              "  </div>\n",
              "  "
            ]
          },
          "metadata": {},
          "execution_count": 35
        }
      ],
      "source": [
        "tackles = year_ten[['Club','Tackles']]\n",
        "tackles_mean = pd.DataFrame(tackles.groupby('Club').sum().round()).reset_index()\n",
        "tackles_graph = pd.DataFrame(tackles_mean.sort_values('Tackles', ascending = False).head(5))\n",
        "tackles_graph"
      ]
    },
    {
      "cell_type": "code",
      "execution_count": 36,
      "metadata": {
        "colab": {
          "base_uri": "https://localhost:8080/",
          "height": 531
        },
        "id": "DLeoNiuhBG3O",
        "outputId": "c766f9b6-1b16-4f25-bab7-18a44c9e8d67"
      },
      "outputs": [
        {
          "output_type": "display_data",
          "data": {
            "text/plain": [
              "<Figure size 864x576 with 1 Axes>"
            ],
            "image/png": "[encoded data removed]"
          },
          "metadata": {
            "needs_background": "light"
          }
        }
      ],
      "source": [
        "plt.figure(figsize=(12,8))\n",
        "sns.barplot(x = 'Club',y = 'Tackles', data =   tackles_graph,palette = 'rocket')\n",
        "plt.title('Tackles from 2012/2013', fontsize = 30)\n",
        "plt.ylabel('Tackles', fontsize = 15)\n",
        "plt.xlabel('Clubs', fontsize = 15)\n",
        "sns.despine(fig=None, ax=None, top=True, right=True, left=False, bottom=False, offset=None, trim=False)"
      ]
    },
    {
      "cell_type": "code",
      "execution_count": 37,
      "metadata": {
        "colab": {
          "base_uri": "https://localhost:8080/",
          "height": 206
        },
        "id": "FrmMfdyvC8bY",
        "outputId": "f4d41afe-475c-42fc-a7ce-431fc9fb2488"
      },
      "outputs": [
        {
          "output_type": "execute_result",
          "data": {
            "text/plain": [
              "                 Club  Owngoal\n",
              "9             Everton     23.0\n",
              "17  Manchester United     20.0\n",
              "28  Tottenham Hotspur     20.0\n",
              "31     Westham United     19.0\n",
              "1         Aston Villa     19.0"
            ],
            "text/html": [
              "\n",
              "  <div id=\"df-f2c77118-8b2f-4f11-a262-39708de2cd49\">\n",
              "    <div class=\"colab-df-container\">\n",
              "      <div>\n",
              "<style scoped>\n",
              "    .dataframe tbody tr th:only-of-type {\n",
              "        vertical-align: middle;\n",
              "    }\n",
              "\n",
              "    .dataframe tbody tr th {\n",
              "        vertical-align: top;\n",
              "    }\n",
              "\n",
              "    .dataframe thead th {\n",
              "        text-align: right;\n",
              "    }\n",
              "</style>\n",
              "<table border=\"1\" class=\"dataframe\">\n",
              "  <thead>\n",
              "    <tr style=\"text-align: right;\">\n",
              "      <th></th>\n",
              "      <th>Club</th>\n",
              "      <th>Owngoal</th>\n",
              "    </tr>\n",
              "  </thead>\n",
              "  <tbody>\n",
              "    <tr>\n",
              "      <th>9</th>\n",
              "      <td>Everton</td>\n",
              "      <td>23.0</td>\n",
              "    </tr>\n",
              "    <tr>\n",
              "      <th>17</th>\n",
              "      <td>Manchester United</td>\n",
              "      <td>20.0</td>\n",
              "    </tr>\n",
              "    <tr>\n",
              "      <th>28</th>\n",
              "      <td>Tottenham Hotspur</td>\n",
              "      <td>20.0</td>\n",
              "    </tr>\n",
              "    <tr>\n",
              "      <th>31</th>\n",
              "      <td>Westham United</td>\n",
              "      <td>19.0</td>\n",
              "    </tr>\n",
              "    <tr>\n",
              "      <th>1</th>\n",
              "      <td>Aston Villa</td>\n",
              "      <td>19.0</td>\n",
              "    </tr>\n",
              "  </tbody>\n",
              "</table>\n",
              "</div>\n",
              "      <button class=\"colab-df-convert\" onclick=\"convertToInteractive('df-f2c77118-8b2f-4f11-a262-39708de2cd49')\"\n",
              "              title=\"Convert this dataframe to an interactive table.\"\n",
              "              style=\"display:none;\">\n",
              "        \n",
              "  <svg xmlns=\"http://www.w3.org/2000/svg\" height=\"24px\"viewBox=\"0 0 24 24\"\n",
              "       width=\"24px\">\n",
              "    <path d=\"M0 0h24v24H0V0z\" fill=\"none\"/>\n",
              "    <path d=\"M18.56 5.44l.94 2.06.94-2.06 2.06-.94-2.06-.94-.94-2.06-.94 2.06-2.06.94zm-11 1L8.5 8.5l.94-2.06 2.06-.94-2.06-.94L8.5 2.5l-.94 2.06-2.06.94zm10 10l.94 2.06.94-2.06 2.06-.94-2.06-.94-.94-2.06-.94 2.06-2.06.94z\"/><path d=\"M17.41 7.96l-1.37-1.37c-.4-.4-.92-.59-1.43-.59-.52 0-1.04.2-1.43.59L10.3 9.45l-7.72 7.72c-.78.78-.78 2.05 0 2.83L4 21.41c.39.39.9.59 1.41.59.51 0 1.02-.2 1.41-.59l7.78-7.78 2.81-2.81c.8-.78.8-2.07 0-2.86zM5.41 20L4 18.59l7.72-7.72 1.47 1.35L5.41 20z\"/>\n",
              "  </svg>\n",
              "      </button>\n",
              "      \n",
              "  <style>\n",
              "    .colab-df-container {\n",
              "      display:flex;\n",
              "      flex-wrap:wrap;\n",
              "      gap: 12px;\n",
              "    }\n",
              "\n",
              "    .colab-df-convert {\n",
              "      background-color: #E8F0FE;\n",
              "      border: none;\n",
              "      border-radius: 50%;\n",
              "      cursor: pointer;\n",
              "      display: none;\n",
              "      fill: #1967D2;\n",
              "      height: 32px;\n",
              "      padding: 0 0 0 0;\n",
              "      width: 32px;\n",
              "    }\n",
              "\n",
              "    .colab-df-convert:hover {\n",
              "      background-color: #E2EBFA;\n",
              "      box-shadow: 0px 1px 2px rgba(60, 64, 67, 0.3), 0px 1px 3px 1px rgba(60, 64, 67, 0.15);\n",
              "      fill: #174EA6;\n",
              "    }\n",
              "\n",
              "    [theme=dark] .colab-df-convert {\n",
              "      background-color: #3B4455;\n",
              "      fill: #D2E3FC;\n",
              "    }\n",
              "\n",
              "    [theme=dark] .colab-df-convert:hover {\n",
              "      background-color: #434B5C;\n",
              "      box-shadow: 0px 1px 3px 1px rgba(0, 0, 0, 0.15);\n",
              "      filter: drop-shadow(0px 1px 2px rgba(0, 0, 0, 0.3));\n",
              "      fill: #FFFFFF;\n",
              "    }\n",
              "  </style>\n",
              "\n",
              "      <script>\n",
              "        const buttonEl =\n",
              "          document.querySelector('#df-f2c77118-8b2f-4f11-a262-39708de2cd49 button.colab-df-convert');\n",
              "        buttonEl.style.display =\n",
              "          google.colab.kernel.accessAllowed ? 'block' : 'none';\n",
              "\n",
              "        async function convertToInteractive(key) {\n",
              "          const element = document.querySelector('#df-f2c77118-8b2f-4f11-a262-39708de2cd49');\n",
              "          const dataTable =\n",
              "            await google.colab.kernel.invokeFunction('convertToInteractive',\n",
              "                                                     [key], {});\n",
              "          if (!dataTable) return;\n",
              "\n",
              "          const docLinkHtml = 'Like what you see? Visit the ' +\n",
              "            '<a target=\"_blank\" href=https://colab.research.google.com/notebooks/data_table.ipynb>data table notebook</a>'\n",
              "            + ' to learn more about interactive tables.';\n",
              "          element.innerHTML = '';\n",
              "          dataTable['output_type'] = 'display_data';\n",
              "          await google.colab.output.renderOutput(dataTable, element);\n",
              "          const docLink = document.createElement('div');\n",
              "          docLink.innerHTML = docLinkHtml;\n",
              "          element.appendChild(docLink);\n",
              "        }\n",
              "      </script>\n",
              "    </div>\n",
              "  </div>\n",
              "  "
            ]
          },
          "metadata": {},
          "execution_count": 37
        }
      ],
      "source": [
        "owngoal = year_ten[['Club','Owngoal']]\n",
        "owngoal_mean = pd.DataFrame(owngoal.groupby('Club').sum().round()).reset_index()\n",
        "owngoal_graph = pd.DataFrame(owngoal_mean.sort_values('Owngoal', ascending = False).head(5))\n",
        "owngoal_graph"
      ]
    },
    {
      "cell_type": "code",
      "execution_count": 38,
      "metadata": {
        "colab": {
          "base_uri": "https://localhost:8080/",
          "height": 531
        },
        "id": "h0jL22m_DStp",
        "outputId": "b4c2e8b1-f09e-4a9b-c841-8907edb616c4"
      },
      "outputs": [
        {
          "output_type": "display_data",
          "data": {
            "text/plain": [
              "<Figure size 864x576 with 1 Axes>"
            ],
            "image/png": "[encoded data removed]"
          },
          "metadata": {
            "needs_background": "light"
          }
        }
      ],
      "source": [
        "plt.figure(figsize=(12,8))\n",
        "sns.barplot(x = 'Club',y = 'Owngoal', data =   owngoal_graph,palette = 'rocket')\n",
        "plt.title('Total Own Goals from 2012/2013', fontsize = 30)\n",
        "plt.ylabel('Own goal', fontsize = 15)\n",
        "plt.xlabel('Clubs', fontsize = 15)\n",
        "sns.despine(fig=None, ax=None, top=True, right=True, left=False, bottom=False, offset=None, trim=False)"
      ]
    },
    {
      "cell_type": "code",
      "execution_count": 39,
      "metadata": {
        "colab": {
          "base_uri": "https://localhost:8080/",
          "height": 206
        },
        "id": "BXyBjNDOELZ8",
        "outputId": "0780a856-32b8-4a13-a4b9-3639cf699f94"
      },
      "outputs": [
        {
          "output_type": "execute_result",
          "data": {
            "text/plain": [
              "    Year  Points \n",
              "12  2019     1069\n",
              "7   2014     1062\n",
              "14  2021     1057\n",
              "10  2017     1056\n",
              "15  2022     1052"
            ],
            "text/html": [
              "\n",
              "  <div id=\"df-bd040057-ebc3-44c9-ad66-a6519168009c\">\n",
              "    <div class=\"colab-df-container\">\n",
              "      <div>\n",
              "<style scoped>\n",
              "    .dataframe tbody tr th:only-of-type {\n",
              "        vertical-align: middle;\n",
              "    }\n",
              "\n",
              "    .dataframe tbody tr th {\n",
              "        vertical-align: top;\n",
              "    }\n",
              "\n",
              "    .dataframe thead th {\n",
              "        text-align: right;\n",
              "    }\n",
              "</style>\n",
              "<table border=\"1\" class=\"dataframe\">\n",
              "  <thead>\n",
              "    <tr style=\"text-align: right;\">\n",
              "      <th></th>\n",
              "      <th>Year</th>\n",
              "      <th>Points</th>\n",
              "    </tr>\n",
              "  </thead>\n",
              "  <tbody>\n",
              "    <tr>\n",
              "      <th>12</th>\n",
              "      <td>2019</td>\n",
              "      <td>1069</td>\n",
              "    </tr>\n",
              "    <tr>\n",
              "      <th>7</th>\n",
              "      <td>2014</td>\n",
              "      <td>1062</td>\n",
              "    </tr>\n",
              "    <tr>\n",
              "      <th>14</th>\n",
              "      <td>2021</td>\n",
              "      <td>1057</td>\n",
              "    </tr>\n",
              "    <tr>\n",
              "      <th>10</th>\n",
              "      <td>2017</td>\n",
              "      <td>1056</td>\n",
              "    </tr>\n",
              "    <tr>\n",
              "      <th>15</th>\n",
              "      <td>2022</td>\n",
              "      <td>1052</td>\n",
              "    </tr>\n",
              "  </tbody>\n",
              "</table>\n",
              "</div>\n",
              "      <button class=\"colab-df-convert\" onclick=\"convertToInteractive('df-bd040057-ebc3-44c9-ad66-a6519168009c')\"\n",
              "              title=\"Convert this dataframe to an interactive table.\"\n",
              "              style=\"display:none;\">\n",
              "        \n",
              "  <svg xmlns=\"http://www.w3.org/2000/svg\" height=\"24px\"viewBox=\"0 0 24 24\"\n",
              "       width=\"24px\">\n",
              "    <path d=\"M0 0h24v24H0V0z\" fill=\"none\"/>\n",
              "    <path d=\"M18.56 5.44l.94 2.06.94-2.06 2.06-.94-2.06-.94-.94-2.06-.94 2.06-2.06.94zm-11 1L8.5 8.5l.94-2.06 2.06-.94-2.06-.94L8.5 2.5l-.94 2.06-2.06.94zm10 10l.94 2.06.94-2.06 2.06-.94-2.06-.94-.94-2.06-.94 2.06-2.06.94z\"/><path d=\"M17.41 7.96l-1.37-1.37c-.4-.4-.92-.59-1.43-.59-.52 0-1.04.2-1.43.59L10.3 9.45l-7.72 7.72c-.78.78-.78 2.05 0 2.83L4 21.41c.39.39.9.59 1.41.59.51 0 1.02-.2 1.41-.59l7.78-7.78 2.81-2.81c.8-.78.8-2.07 0-2.86zM5.41 20L4 18.59l7.72-7.72 1.47 1.35L5.41 20z\"/>\n",
              "  </svg>\n",
              "      </button>\n",
              "      \n",
              "  <style>\n",
              "    .colab-df-container {\n",
              "      display:flex;\n",
              "      flex-wrap:wrap;\n",
              "      gap: 12px;\n",
              "    }\n",
              "\n",
              "    .colab-df-convert {\n",
              "      background-color: #E8F0FE;\n",
              "      border: none;\n",
              "      border-radius: 50%;\n",
              "      cursor: pointer;\n",
              "      display: none;\n",
              "      fill: #1967D2;\n",
              "      height: 32px;\n",
              "      padding: 0 0 0 0;\n",
              "      width: 32px;\n",
              "    }\n",
              "\n",
              "    .colab-df-convert:hover {\n",
              "      background-color: #E2EBFA;\n",
              "      box-shadow: 0px 1px 2px rgba(60, 64, 67, 0.3), 0px 1px 3px 1px rgba(60, 64, 67, 0.15);\n",
              "      fill: #174EA6;\n",
              "    }\n",
              "\n",
              "    [theme=dark] .colab-df-convert {\n",
              "      background-color: #3B4455;\n",
              "      fill: #D2E3FC;\n",
              "    }\n",
              "\n",
              "    [theme=dark] .colab-df-convert:hover {\n",
              "      background-color: #434B5C;\n",
              "      box-shadow: 0px 1px 3px 1px rgba(0, 0, 0, 0.15);\n",
              "      filter: drop-shadow(0px 1px 2px rgba(0, 0, 0, 0.3));\n",
              "      fill: #FFFFFF;\n",
              "    }\n",
              "  </style>\n",
              "\n",
              "      <script>\n",
              "        const buttonEl =\n",
              "          document.querySelector('#df-bd040057-ebc3-44c9-ad66-a6519168009c button.colab-df-convert');\n",
              "        buttonEl.style.display =\n",
              "          google.colab.kernel.accessAllowed ? 'block' : 'none';\n",
              "\n",
              "        async function convertToInteractive(key) {\n",
              "          const element = document.querySelector('#df-bd040057-ebc3-44c9-ad66-a6519168009c');\n",
              "          const dataTable =\n",
              "            await google.colab.kernel.invokeFunction('convertToInteractive',\n",
              "                                                     [key], {});\n",
              "          if (!dataTable) return;\n",
              "\n",
              "          const docLinkHtml = 'Like what you see? Visit the ' +\n",
              "            '<a target=\"_blank\" href=https://colab.research.google.com/notebooks/data_table.ipynb>data table notebook</a>'\n",
              "            + ' to learn more about interactive tables.';\n",
              "          element.innerHTML = '';\n",
              "          dataTable['output_type'] = 'display_data';\n",
              "          await google.colab.output.renderOutput(dataTable, element);\n",
              "          const docLink = document.createElement('div');\n",
              "          docLink.innerHTML = docLinkHtml;\n",
              "          element.appendChild(docLink);\n",
              "        }\n",
              "      </script>\n",
              "    </div>\n",
              "  </div>\n",
              "  "
            ]
          },
          "metadata": {},
          "execution_count": 39
        }
      ],
      "source": [
        "yearpoint = df[['Year','Points ']]\n",
        "Year_points = pd.DataFrame(yearpoint.groupby('Year').sum().round()).reset_index()\n",
        "year_points_graph = pd.DataFrame(Year_points.sort_values('Points ', ascending = False).head(5))\n",
        "#owngoal_graph\n",
        "year_points_graph"
      ]
    },
    {
      "cell_type": "code",
      "source": [
        "plt.figure(figsize=(12,8))\n",
        "sns.lineplot(data=Year_points, x=\"Year\", y=\"Points \", color  = '#772b58')\n",
        "plt.title('Total Points in a Season', fontsize = 30)\n",
        "sns.despine(fig=None, ax=None, top=True, right=True, left=False, bottom=False, offset=None, trim=False)"
      ],
      "metadata": {
        "colab": {
          "base_uri": "https://localhost:8080/",
          "height": 526
        },
        "id": "xF_4lwwhU1Us",
        "outputId": "b34ec33a-7d17-4e67-ab20-17f72fe9f3ee"
      },
      "execution_count": 94,
      "outputs": [
        {
          "output_type": "display_data",
          "data": {
            "text/plain": [
              "<Figure size 864x576 with 1 Axes>"
            ],
            "image/png": "[encoded data removed]"
          },
          "metadata": {
            "needs_background": "light"
          }
        }
      ]
    },
    {
      "cell_type": "code",
      "execution_count": 40,
      "metadata": {
        "colab": {
          "base_uri": "https://localhost:8080/",
          "height": 531
        },
        "id": "Dw4rdse1GiBf",
        "outputId": "90e85578-e39c-4850-816b-55ddeba6965f"
      },
      "outputs": [
        {
          "output_type": "display_data",
          "data": {
            "text/plain": [
              "<Figure size 864x576 with 1 Axes>"
            ],
            "image/png": "[encoded data removed]"
          },
          "metadata": {
            "needs_background": "light"
          }
        }
      ],
      "source": [
        "plt.figure(figsize=(12,8))\n",
        "sns.barplot(x = 'Year',y = 'Points ',data = year_points_graph, palette = 'rocket',order=year_points_graph['Year'] )\n",
        "plt.title('Season with Most Points', fontsize = 30)\n",
        "plt.ylabel('Points ', fontsize = 15)\n",
        "plt.xlabel('Year', fontsize = 15)\n",
        "sns.despine(fig=None, ax=None, top=True, right=True, left=False, bottom=False, offset=None, trim=False)"
      ]
    },
    {
      "cell_type": "code",
      "source": [
        "fig, ax = plt.subplots(figsize = (12,12))\n",
        "df['Points '].plot(kind = \"hist\", color = '#772b58')\n",
        "ax.set_xlabel(\"Points\")\n",
        "plt.show()"
      ],
      "metadata": {
        "colab": {
          "base_uri": "https://localhost:8080/",
          "height": 714
        },
        "id": "9MdPn3utGb7z",
        "outputId": "7c64a702-cc57-4ae2-f435-397086e980a4"
      },
      "execution_count": 52,
      "outputs": [
        {
          "output_type": "display_data",
          "data": {
            "text/plain": [
              "<Figure size 864x864 with 1 Axes>"
            ],
            "image/png": "[encoded data removed]"
          },
          "metadata": {
            "needs_background": "light"
          }
        }
      ]
    },
    {
      "cell_type": "code",
      "execution_count": 41,
      "metadata": {
        "colab": {
          "base_uri": "https://localhost:8080/"
        },
        "id": "cIr8HZk-HacF",
        "outputId": "3f4384d5-3baf-418e-fa00-e5f135e85c42"
      },
      "outputs": [
        {
          "output_type": "execute_result",
          "data": {
            "text/plain": [
              "array([[1.        , 0.71447297],\n",
              "       [0.71447297, 1.        ]])"
            ]
          },
          "metadata": {},
          "execution_count": 41
        }
      ],
      "source": [
        "shot_point = np.corrcoef(df['Passes'], df['Points '])\n",
        "shot_point"
      ]
    },
    {
      "cell_type": "code",
      "execution_count": 42,
      "metadata": {
        "colab": {
          "base_uri": "https://localhost:8080/",
          "height": 297
        },
        "id": "7BJth8hevqve",
        "outputId": "6706f21d-4efa-46e5-b214-0b1bf98270b5"
      },
      "outputs": [
        {
          "output_type": "display_data",
          "data": {
            "text/plain": [
              "<Figure size 432x288 with 1 Axes>"
            ],
            "image/png": "[encoded data removed]"
          },
          "metadata": {
            "needs_background": "light"
          }
        }
      ],
      "source": [
        "df.plot(kind = 'scatter', x = 'Passes', y = 'Points ', color= 'brown')\n",
        "plt.title('Relationship between Passes and Points in a Season',  fontsize = 15)\n",
        "plt.show()"
      ]
    },
    {
      "cell_type": "code",
      "execution_count": 43,
      "metadata": {
        "colab": {
          "base_uri": "https://localhost:8080/",
          "height": 390
        },
        "id": "w782FR5Xv9e1",
        "outputId": "cefa0bf3-3bb2-47ee-f852-a8d44b2a8f9c"
      },
      "outputs": [
        {
          "output_type": "display_data",
          "data": {
            "text/plain": [
              "<Figure size 360x360 with 1 Axes>"
            ],
            "image/png": "[encoded data removed]"
          },
          "metadata": {
            "needs_background": "light"
          }
        }
      ],
      "source": [
        "sns.lmplot(x=\"Shots\",y=\"Points \",data=df,fit_reg=True, palette = 'green')\n",
        "plt.title('Relationship between Shots and Points in a Season',  fontsize = 20)\n",
        "plt.show()"
      ]
    },
    {
      "cell_type": "markdown",
      "metadata": {
        "id": "g0G29Q-XQsCu"
      },
      "source": [
        "## Data Splitting"
      ]
    },
    {
      "cell_type": "code",
      "execution_count": null,
      "metadata": {
        "id": "HF7yYvZ0QywS"
      },
      "outputs": [],
      "source": [
        "#the data is split in a 80:20 ratio to the trainset and testset \n",
        "#the data is not shuffled and random state is set to 3\n",
        "from sklearn.model_selection import train_test_split\n",
        "trainset, testset = train_test_split(df, test_size = 0.20, random_state = 3, \n",
        "                                     shuffle = True)"
      ]
    },
    {
      "cell_type": "markdown",
      "metadata": {
        "id": "seeF1WvyK0g7"
      },
      "source": [
        "## Data Cleaning"
      ]
    },
    {
      "cell_type": "code",
      "execution_count": null,
      "metadata": {
        "colab": {
          "base_uri": "https://localhost:8080/"
        },
        "id": "CRqeZUblHq_v",
        "outputId": "724b7edf-b074-41c8-e24e-5fb86ccc72b9"
      },
      "outputs": [
        {
          "output_type": "execute_result",
          "data": {
            "text/plain": [
              "0"
            ]
          },
          "metadata": {},
          "execution_count": 45
        }
      ],
      "source": [
        "trainset.duplicated().sum()"
      ]
    },
    {
      "cell_type": "code",
      "execution_count": null,
      "metadata": {
        "colab": {
          "base_uri": "https://localhost:8080/"
        },
        "id": "llrSPz-2RGy_",
        "outputId": "44290370-9764-452f-b853-1b7c49e50385"
      },
      "outputs": [
        {
          "output_type": "execute_result",
          "data": {
            "text/plain": [
              "0"
            ]
          },
          "metadata": {},
          "execution_count": 46
        }
      ],
      "source": [
        "testset.duplicated().sum()"
      ]
    },
    {
      "cell_type": "code",
      "execution_count": null,
      "metadata": {
        "colab": {
          "base_uri": "https://localhost:8080/"
        },
        "id": "h9cpwmi4HMi2",
        "outputId": "d6dc07b8-2708-4f98-8a24-7d1e896b994d"
      },
      "outputs": [
        {
          "output_type": "execute_result",
          "data": {
            "text/plain": [
              "Club            0\n",
              "Won             0\n",
              "Draw            0\n",
              "Loss            0\n",
              "GF              0\n",
              "GA              0\n",
              "GD              0\n",
              "Points          0\n",
              "Position        0\n",
              "Year            0\n",
              "HW              0\n",
              "HD              0\n",
              "HL              0\n",
              "HGF             0\n",
              "HGA             0\n",
              "HGD             0\n",
              "HP              0\n",
              "AW              0\n",
              "AD              0\n",
              "AL              0\n",
              "AGF             0\n",
              "AGA             0\n",
              "AGD             0\n",
              "AP              0\n",
              "Touches         0\n",
              "Owngoal         0\n",
              "YC              0\n",
              "RC              0\n",
              "Passes          0\n",
              "Shots           0\n",
              "Tackles         0\n",
              "Clearances      0\n",
              "Cleansheets     0\n",
              "Saves          27\n",
              "PLS             0\n",
              "WIE             0\n",
              "dtype: int64"
            ]
          },
          "metadata": {},
          "execution_count": 47
        }
      ],
      "source": [
        "trainset.isna().sum()"
      ]
    },
    {
      "cell_type": "code",
      "execution_count": null,
      "metadata": {
        "colab": {
          "base_uri": "https://localhost:8080/"
        },
        "id": "SEM-ajIFRP5X",
        "outputId": "fa3c1d9b-3406-426b-9812-13040f3e73c3"
      },
      "outputs": [
        {
          "output_type": "execute_result",
          "data": {
            "text/plain": [
              "Club            0\n",
              "Won             0\n",
              "Draw            0\n",
              "Loss            0\n",
              "GF              0\n",
              "GA              0\n",
              "GD              0\n",
              "Points          0\n",
              "Position        0\n",
              "Year            0\n",
              "HW              0\n",
              "HD              0\n",
              "HL              0\n",
              "HGF             0\n",
              "HGA             0\n",
              "HGD             0\n",
              "HP              0\n",
              "AW              0\n",
              "AD              0\n",
              "AL              0\n",
              "AGF             0\n",
              "AGA             0\n",
              "AGD             0\n",
              "AP              0\n",
              "Touches         0\n",
              "Owngoal         0\n",
              "YC              0\n",
              "RC              0\n",
              "Passes          0\n",
              "Shots           0\n",
              "Tackles         0\n",
              "Clearances      0\n",
              "Cleansheets     0\n",
              "Saves          12\n",
              "PLS             0\n",
              "WIE             0\n",
              "dtype: int64"
            ]
          },
          "metadata": {},
          "execution_count": 48
        }
      ],
      "source": [
        "testset.isna().sum()"
      ]
    },
    {
      "cell_type": "code",
      "execution_count": null,
      "metadata": {
        "id": "htm604fgXNeh"
      },
      "outputs": [],
      "source": [
        "trainset = trainset.replace(r'^\\s*$', np.nan, regex=True)\n",
        "testset = testset.replace(r'^\\s*$', np.nan, regex=True)"
      ]
    },
    {
      "cell_type": "code",
      "execution_count": null,
      "metadata": {
        "id": "m_N8TW0FKOHG"
      },
      "outputs": [],
      "source": [
        "imputer = KNNImputer(n_neighbors=3)\n",
        "\n",
        "#fitting the KNNimputer on the trainset and transforming the trainset \n",
        "#using the imputer\n",
        "trainset[['Won', 'Draw', 'Loss', 'GF', 'GA', 'GD', 'Position',\n",
        "       'Year', 'HW', 'HD', 'HL', 'HGF', 'HGA', 'HGD', 'HP', 'AW', 'AD', 'AL',\n",
        "       'AGF', 'AGA', 'AGD', 'AP', 'Touches', 'Owngoal', 'YC', 'RC', 'Passes',\n",
        "       'Shots', 'Tackles', 'Clearances', 'Cleansheets', 'Saves']]=imputer.fit_transform(trainset[['Won', 'Draw', 'Loss', 'GF', 'GA',\n",
        "                                    'GD', 'Position', 'Year', 'HW', 'HD', 'HL',\n",
        "                                    'HGF', 'HGA', 'HGD', 'HP', 'AW', 'AD', 'AL', \n",
        "                                    'AGF', 'AGA', 'AGD', 'AP', 'Touches', 'Owngoal',\n",
        "                                    'YC', 'RC', 'Passes', 'Shots', 'Tackles', \n",
        "                                    'Clearances', 'Cleansheets', 'Saves']])"
      ]
    },
    {
      "cell_type": "code",
      "execution_count": null,
      "metadata": {
        "colab": {
          "base_uri": "https://localhost:8080/"
        },
        "id": "rp89jf5TXfAr",
        "outputId": "bd4faae6-a795-41ae-a4cd-f969de7facb4"
      },
      "outputs": [
        {
          "output_type": "execute_result",
          "data": {
            "text/plain": [
              "Club           0\n",
              "Won            0\n",
              "Draw           0\n",
              "Loss           0\n",
              "GF             0\n",
              "GA             0\n",
              "GD             0\n",
              "Points         0\n",
              "Position       0\n",
              "Year           0\n",
              "HW             0\n",
              "HD             0\n",
              "HL             0\n",
              "HGF            0\n",
              "HGA            0\n",
              "HGD            0\n",
              "HP             0\n",
              "AW             0\n",
              "AD             0\n",
              "AL             0\n",
              "AGF            0\n",
              "AGA            0\n",
              "AGD            0\n",
              "AP             0\n",
              "Touches        0\n",
              "Owngoal        0\n",
              "YC             0\n",
              "RC             0\n",
              "Passes         0\n",
              "Shots          0\n",
              "Tackles        0\n",
              "Clearances     0\n",
              "Cleansheets    0\n",
              "Saves          0\n",
              "PLS            0\n",
              "WIE            0\n",
              "dtype: int64"
            ]
          },
          "metadata": {},
          "execution_count": 51
        }
      ],
      "source": [
        "trainset.isna().sum()"
      ]
    },
    {
      "cell_type": "code",
      "execution_count": null,
      "metadata": {
        "id": "RAsNkav-YNFK"
      },
      "outputs": [],
      "source": [
        "#transforming the testset \n",
        "#using the imputer\n",
        "testset[['Won', 'Draw', 'Loss', 'GF', 'GA', 'GD', 'Position',\n",
        "       'Year', 'HW', 'HD', 'HL', 'HGF', 'HGA', 'HGD', 'HP', 'AW', 'AD', 'AL',\n",
        "       'AGF', 'AGA', 'AGD', 'AP', 'Touches', 'Owngoal', 'YC', 'RC', 'Passes',\n",
        "       'Shots', 'Tackles', 'Clearances', 'Cleansheets', 'Saves']]=imputer.transform(testset[['Won', 'Draw', 'Loss', 'GF', 'GA',\n",
        "                                    'GD', 'Position', 'Year', 'HW', 'HD', 'HL',\n",
        "                                    'HGF', 'HGA', 'HGD', 'HP', 'AW', 'AD', 'AL', \n",
        "                                    'AGF', 'AGA', 'AGD', 'AP', 'Touches', 'Owngoal',\n",
        "                                    'YC', 'RC', 'Passes', 'Shots', 'Tackles', \n",
        "                                    'Clearances', 'Cleansheets', 'Saves']])"
      ]
    },
    {
      "cell_type": "code",
      "execution_count": null,
      "metadata": {
        "colab": {
          "base_uri": "https://localhost:8080/"
        },
        "id": "e5zKPyAvY0n0",
        "outputId": "04aaea70-819f-427b-fd21-383a8c75ff61"
      },
      "outputs": [
        {
          "output_type": "execute_result",
          "data": {
            "text/plain": [
              "Club           0\n",
              "Won            0\n",
              "Draw           0\n",
              "Loss           0\n",
              "GF             0\n",
              "GA             0\n",
              "GD             0\n",
              "Points         0\n",
              "Position       0\n",
              "Year           0\n",
              "HW             0\n",
              "HD             0\n",
              "HL             0\n",
              "HGF            0\n",
              "HGA            0\n",
              "HGD            0\n",
              "HP             0\n",
              "AW             0\n",
              "AD             0\n",
              "AL             0\n",
              "AGF            0\n",
              "AGA            0\n",
              "AGD            0\n",
              "AP             0\n",
              "Touches        0\n",
              "Owngoal        0\n",
              "YC             0\n",
              "RC             0\n",
              "Passes         0\n",
              "Shots          0\n",
              "Tackles        0\n",
              "Clearances     0\n",
              "Cleansheets    0\n",
              "Saves          0\n",
              "PLS            0\n",
              "WIE            0\n",
              "dtype: int64"
            ]
          },
          "metadata": {},
          "execution_count": 53
        }
      ],
      "source": [
        "testset.isna().sum()"
      ]
    },
    {
      "cell_type": "code",
      "execution_count": null,
      "metadata": {
        "id": "1Okd0As1cGgH"
      },
      "outputs": [],
      "source": [
        "trainset['Saves'] = trainset['Saves'].apply(np.ceil)\n",
        "testset['Saves'] = testset['Saves'].apply(np.ceil)"
      ]
    },
    {
      "cell_type": "code",
      "execution_count": null,
      "metadata": {
        "colab": {
          "base_uri": "https://localhost:8080/"
        },
        "id": "CsLuyUjlayKG",
        "outputId": "6c8abc6b-64b7-419e-c37a-45da93ed78c3"
      },
      "outputs": [
        {
          "output_type": "execute_result",
          "data": {
            "text/plain": [
              "Club            object\n",
              "Won            float64\n",
              "Draw           float64\n",
              "Loss           float64\n",
              "GF             float64\n",
              "GA             float64\n",
              "GD             float64\n",
              "Points           int64\n",
              "Position       float64\n",
              "Year           float64\n",
              "HW             float64\n",
              "HD             float64\n",
              "HL             float64\n",
              "HGF            float64\n",
              "HGA            float64\n",
              "HGD            float64\n",
              "HP             float64\n",
              "AW             float64\n",
              "AD             float64\n",
              "AL             float64\n",
              "AGF            float64\n",
              "AGA            float64\n",
              "AGD            float64\n",
              "AP             float64\n",
              "Touches        float64\n",
              "Owngoal        float64\n",
              "YC             float64\n",
              "RC             float64\n",
              "Passes         float64\n",
              "Shots          float64\n",
              "Tackles        float64\n",
              "Clearances     float64\n",
              "Cleansheets    float64\n",
              "Saves          float64\n",
              "PLS             object\n",
              "WIE             object\n",
              "dtype: object"
            ]
          },
          "metadata": {},
          "execution_count": 55
        }
      ],
      "source": [
        "#checking the types of the variables in the trainset \n",
        "trainset.dtypes"
      ]
    },
    {
      "cell_type": "code",
      "execution_count": null,
      "metadata": {
        "colab": {
          "base_uri": "https://localhost:8080/"
        },
        "id": "IYazKkd_bg8P",
        "outputId": "56ac30a7-2da8-4465-fc86-5bd7ab289f60"
      },
      "outputs": [
        {
          "output_type": "execute_result",
          "data": {
            "text/plain": [
              "Club            object\n",
              "Won            float64\n",
              "Draw           float64\n",
              "Loss           float64\n",
              "GF             float64\n",
              "GA             float64\n",
              "GD             float64\n",
              "Points           int64\n",
              "Position       float64\n",
              "Year           float64\n",
              "HW             float64\n",
              "HD             float64\n",
              "HL             float64\n",
              "HGF            float64\n",
              "HGA            float64\n",
              "HGD            float64\n",
              "HP             float64\n",
              "AW             float64\n",
              "AD             float64\n",
              "AL             float64\n",
              "AGF            float64\n",
              "AGA            float64\n",
              "AGD            float64\n",
              "AP             float64\n",
              "Touches        float64\n",
              "Owngoal        float64\n",
              "YC             float64\n",
              "RC             float64\n",
              "Passes         float64\n",
              "Shots          float64\n",
              "Tackles        float64\n",
              "Clearances     float64\n",
              "Cleansheets    float64\n",
              "Saves          float64\n",
              "PLS             object\n",
              "WIE             object\n",
              "dtype: object"
            ]
          },
          "metadata": {},
          "execution_count": 56
        }
      ],
      "source": [
        "#checking the types of the variables in the testset \n",
        "testset.dtypes"
      ]
    },
    {
      "cell_type": "code",
      "execution_count": null,
      "metadata": {
        "id": "mZ_rTw2Wfn12"
      },
      "outputs": [],
      "source": [
        "#putting values for the PLS variable\n",
        "trainset['PLS'] = trainset['PLS'].replace({\n",
        "    'Yes': 1,\n",
        "    'No': 0\n",
        "})"
      ]
    },
    {
      "cell_type": "code",
      "execution_count": null,
      "metadata": {
        "id": "VM6LU-EOhC3Q"
      },
      "outputs": [],
      "source": [
        "#putting values for the WIE variable\n",
        "trainset['WIE'] = trainset['WIE'].replace({\n",
        "    'Yes': 1,\n",
        "    'No': 0\n",
        "})"
      ]
    },
    {
      "cell_type": "code",
      "execution_count": null,
      "metadata": {
        "id": "_dUvYZ9GgWWl"
      },
      "outputs": [],
      "source": [
        "#putting values for the WIE variable\n",
        "testset['WIE'] = testset['WIE'].replace({\n",
        "    'Yes': 1,\n",
        "    'No': 0\n",
        "})"
      ]
    },
    {
      "cell_type": "code",
      "execution_count": null,
      "metadata": {
        "id": "1CiUcCNhuqe8"
      },
      "outputs": [],
      "source": [
        "#putting values for the PLS variable\n",
        "testset['PLS'] = testset['PLS'].replace({\n",
        "    'Yes': 1,\n",
        "    'No': 0\n",
        "})"
      ]
    },
    {
      "cell_type": "markdown",
      "metadata": {
        "id": "F0Qlscw-9xAS"
      },
      "source": [
        "## Data Transformation"
      ]
    },
    {
      "cell_type": "code",
      "execution_count": null,
      "metadata": {
        "colab": {
          "base_uri": "https://localhost:8080/"
        },
        "id": "097pkhDLmNfL",
        "outputId": "68c4a943-5339-4847-aa2f-ffeaa27d814a"
      },
      "outputs": [
        {
          "output_type": "display_data",
          "data": {
            "text/plain": [
              "<Figure size 432x288 with 1 Axes>"
            ],
            "image/png": "[encoded data removed]"
          },
          "metadata": {
            "needs_background": "light"
          }
        }
      ],
      "source": [
        "plt.boxplot(trainset['Saves'])\n",
        "plt.show()"
      ]
    },
    {
      "cell_type": "code",
      "execution_count": null,
      "metadata": {
        "colab": {
          "base_uri": "https://localhost:8080/"
        },
        "id": "gxZ7St2gv4Li",
        "outputId": "02bda759-4455-4241-d6f9-6d7081e2e243"
      },
      "outputs": [
        {
          "output_type": "stream",
          "name": "stdout",
          "text": [
            "Won, is highly correlated with, GD\n",
            "Won, is highly correlated with, HW\n",
            "Won, is highly correlated with, AW\n",
            "GD, is highly correlated with, Won\n",
            "GD, is highly correlated with, HW\n",
            "GD, is highly correlated with, AW\n",
            "HW, is highly correlated with, Won\n",
            "HW, is highly correlated with, GD\n",
            "AW, is highly correlated with, Won\n",
            "AW, is highly correlated with, GD\n"
          ]
        }
      ],
      "source": [
        "trainset_lst = ['Won', 'Draw', 'GD','HW', 'AW','Owngoal', 'YC', \n",
        "                'RC', 'Passes','Shots', 'Tackles', 'Clearances', 'Cleansheets', \n",
        "                'Saves']\n",
        "for i in trainset_lst:\n",
        "  for j in trainset_lst:\n",
        "    if i!= j:\n",
        "      corr_1=np.abs(trainset[i].corr(trainset[j]))\n",
        "      #if corr_1 < 0.3:\n",
        "       # print( f'{i} , is not correlated  with, {j}')\n",
        "      if corr_1 > 0.8:\n",
        "        print(f'{i}, is highly correlated with, {j}')\n",
        "        "
      ]
    },
    {
      "cell_type": "code",
      "execution_count": null,
      "metadata": {
        "colab": {
          "base_uri": "https://localhost:8080/"
        },
        "id": "KSI0BxYQ0k7h",
        "outputId": "cfd46a2b-c2c7-47ef-f362-e0cfae41178a"
      },
      "outputs": [
        {
          "output_type": "execute_result",
          "data": {
            "text/plain": [
              "<matplotlib.axes._subplots.AxesSubplot at 0x7f98f9f03b20>"
            ]
          },
          "metadata": {},
          "execution_count": 63
        },
        {
          "output_type": "display_data",
          "data": {
            "text/plain": [
              "<Figure size 1800x1800 with 2 Axes>"
            ],
            "image/png": "[encoded data removed]"
          },
          "metadata": {
            "needs_background": "light"
          }
        }
      ],
      "source": [
        "plt.figure(figsize=(25,25))\n",
        "sns.heatmap(trainset[trainset_lst].corr(),annot=True,cmap='rocket')"
      ]
    },
    {
      "cell_type": "code",
      "execution_count": null,
      "metadata": {
        "id": "NqOXslWTYUV4"
      },
      "outputs": [],
      "source": [
        "trainset = trainset.drop(['Club', 'Position', 'Year'], axis = 1)\n",
        "testset = testset.drop(['Club', 'Position', 'Year'], axis = 1)"
      ]
    },
    {
      "cell_type": "markdown",
      "metadata": {
        "id": "O2VZshQ79-ai"
      },
      "source": [
        "## Feature Engineering"
      ]
    },
    {
      "cell_type": "code",
      "execution_count": null,
      "metadata": {
        "id": "O1HdRn7y-DjJ"
      },
      "outputs": [],
      "source": [
        "#creating the new variables for the trainset\n",
        "trainset['WR'] = trainset['Won']/38\n",
        "trainset['SGR'] = trainset['Shots']/trainset['GF']\n",
        "trainset['PGR'] = trainset['Passes']/trainset['GF']\n",
        "trainset['PSR'] = trainset['Passes']/trainset['Shots'] \n",
        "trainset['ACG'] = (trainset['RC'] + trainset['YC'])/38\n",
        "trainset['SR'] = trainset['Saves']/(trainset['Saves'] + trainset['GA'])"
      ]
    },
    {
      "cell_type": "code",
      "execution_count": null,
      "metadata": {
        "id": "mC45j3DEn_Ob"
      },
      "outputs": [],
      "source": [
        "testset['WR'] = testset['Won']/38\n",
        "testset['SGR'] = testset['Shots']/testset['GF']\n",
        "testset['PGR'] = testset['Passes']/testset['GF']\n",
        "testset['PSR'] = testset['Passes']/testset['Shots'] \n",
        "testset['ACG'] = (testset['RC'] + testset['YC'])/38\n",
        "testset['SR'] = testset['Saves']/(testset['Saves'] + testset['GA'])"
      ]
    },
    {
      "cell_type": "code",
      "execution_count": null,
      "metadata": {
        "colab": {
          "base_uri": "https://localhost:8080/"
        },
        "id": "F0ERgTUORP_0",
        "outputId": "03940f7b-315c-4538-cfb2-1d98feed297e"
      },
      "outputs": [
        {
          "output_type": "execute_result",
          "data": {
            "text/plain": [
              "(256, 39)"
            ]
          },
          "metadata": {},
          "execution_count": 67
        }
      ],
      "source": [
        "trainset.shape"
      ]
    },
    {
      "cell_type": "code",
      "execution_count": null,
      "metadata": {
        "colab": {
          "base_uri": "https://localhost:8080/"
        },
        "id": "A3ZqoSY5oSPU",
        "outputId": "baa5385b-336d-4451-ae06-d18e72d61c17"
      },
      "outputs": [
        {
          "output_type": "execute_result",
          "data": {
            "text/plain": [
              "(64, 39)"
            ]
          },
          "metadata": {},
          "execution_count": 68
        }
      ],
      "source": [
        "testset.shape"
      ]
    },
    {
      "cell_type": "markdown",
      "metadata": {
        "id": "AiA56V7LVDxp"
      },
      "source": [
        "## Methodology"
      ]
    },
    {
      "cell_type": "code",
      "execution_count": null,
      "metadata": {
        "id": "q8Rhp3WVbNnR"
      },
      "outputs": [],
      "source": [
        "#libraries\n",
        "from sklearn.model_selection import cross_val_score\n",
        "from sklearn.model_selection import GridSearchCV\n",
        "from sklearn.metrics import mean_squared_error"
      ]
    },
    {
      "cell_type": "code",
      "execution_count": null,
      "metadata": {
        "id": "31nJ7PwPbwAl"
      },
      "outputs": [],
      "source": [
        "def display_scores(scores):\n",
        "    print(\"Scores:\", scores)\n",
        "    print(\"Mean:\", scores.mean())\n",
        "    print(\"Standard deviation:\", scores.std())\n"
      ]
    },
    {
      "cell_type": "code",
      "execution_count": null,
      "metadata": {
        "id": "kxJcLgybVP-g"
      },
      "outputs": [],
      "source": [
        "#adding labels for trainset and testset\n",
        "Xtrain = trainset.drop('Points ', axis = 1)\n",
        "ytrain =  trainset['Points '].copy()\n",
        "Xtest = testset.drop('Points ', axis = 1)\n",
        "ytest =  testset['Points '].copy()"
      ]
    },
    {
      "cell_type": "code",
      "execution_count": null,
      "metadata": {
        "colab": {
          "base_uri": "https://localhost:8080/"
        },
        "id": "PtS90Q3tVwEL",
        "outputId": "a6fb3c10-db6d-4bb6-ccf9-0cdd3686dffd"
      },
      "outputs": [
        {
          "output_type": "execute_result",
          "data": {
            "text/plain": [
              "      Won  Draw  Loss    GF    GA    GD    HW   HD   HL   HGF  ...  \\\n",
              "128  14.0   9.0  15.0  41.0  55.0 -14.0   8.0  4.0  7.0  22.0  ...   \n",
              "203  20.0   9.0   9.0  66.0  41.0  25.0  13.0  3.0  3.0  39.0  ...   \n",
              "25   19.0   6.0  11.0  62.0  47.0  15.0  10.0  4.0  5.0  32.0  ...   \n",
              "67   15.0   9.0  14.0  54.0  46.0   8.0  10.0  4.0  5.0  30.0  ...   \n",
              "65   19.0   9.0  10.0  65.0  54.0  11.0  10.0  6.0  3.0  33.0  ...   \n",
              "..    ...   ...   ...   ...   ...   ...   ...  ...  ...   ...  ...   \n",
              "277   7.0  13.0  18.0  40.0  59.0 -19.0   5.0  7.0  7.0  24.0  ...   \n",
              "256   8.0  11.0  19.0  47.0  66.0 -19.0   7.0  5.0  7.0  30.0  ...   \n",
              "131  12.0  11.0  15.0  42.0  52.0 -10.0   8.0  6.0  5.0  20.0  ...   \n",
              "249  13.0  11.0  14.0  41.0  55.0 -14.0  10.0  6.0  3.0  28.0  ...   \n",
              "152  11.0  11.0  16.0  38.0  51.0 -13.0   7.0  4.0  8.0  24.0  ...   \n",
              "\n",
              "     Cleansheets  Saves  PLS  WIE        WR        SGR         PGR        PSR  \\\n",
              "128         10.0  121.0    1    0  0.368421  10.219512  398.585366  39.002387   \n",
              "203         14.0    0.0    1    1  0.526316  10.621212  296.424242  27.908702   \n",
              "25          11.0  109.0    1    0  0.500000   7.548387  244.387097  32.376068   \n",
              "67          14.0   94.0    1    0  0.394737   9.222222  305.444444  33.120482   \n",
              "65          16.0  122.0    1    1  0.500000   8.092308  295.415385  36.505703   \n",
              "..           ...    ...  ...  ...       ...        ...         ...        ...   \n",
              "277          7.0    4.0    1    0  0.184211  11.100000  354.300000  31.918919   \n",
              "256          8.0    4.0    1    0  0.210526  11.680851  310.978723  26.622951   \n",
              "131          9.0  119.0    1    0  0.315789  10.500000  432.595238  41.199546   \n",
              "249         13.0    3.0    1    0  0.342105  11.926829  287.609756  24.114519   \n",
              "152         16.0  131.0    1    0  0.289474  10.842105  380.131579  35.060680   \n",
              "\n",
              "          ACG        SR  \n",
              "128  1.447368  0.687500  \n",
              "203  1.210526  0.000000  \n",
              "25   1.342105  0.698718  \n",
              "67   1.552632  0.671429  \n",
              "65   2.026316  0.693182  \n",
              "..        ...       ...  \n",
              "277  1.710526  0.063492  \n",
              "256  1.710526  0.057143  \n",
              "131  1.605263  0.695906  \n",
              "249  1.552632  0.051724  \n",
              "152  1.763158  0.719780  \n",
              "\n",
              "[256 rows x 38 columns]"
            ],
            "text/html": [
              "\n",
              "  <div id=\"df-5b2641e0-aa42-41b7-9a48-efaa92cdd122\">\n",
              "    <div class=\"colab-df-container\">\n",
              "      <div>\n",
              "<style scoped>\n",
              "    .dataframe tbody tr th:only-of-type {\n",
              "        vertical-align: middle;\n",
              "    }\n",
              "\n",
              "    .dataframe tbody tr th {\n",
              "        vertical-align: top;\n",
              "    }\n",
              "\n",
              "    .dataframe thead th {\n",
              "        text-align: right;\n",
              "    }\n",
              "</style>\n",
              "<table border=\"1\" class=\"dataframe\">\n",
              "  <thead>\n",
              "    <tr style=\"text-align: right;\">\n",
              "      <th></th>\n",
              "      <th>Won</th>\n",
              "      <th>Draw</th>\n",
              "      <th>Loss</th>\n",
              "      <th>GF</th>\n",
              "      <th>GA</th>\n",
              "      <th>GD</th>\n",
              "      <th>HW</th>\n",
              "      <th>HD</th>\n",
              "      <th>HL</th>\n",
              "      <th>HGF</th>\n",
              "      <th>...</th>\n",
              "      <th>Cleansheets</th>\n",
              "      <th>Saves</th>\n",
              "      <th>PLS</th>\n",
              "      <th>WIE</th>\n",
              "      <th>WR</th>\n",
              "      <th>SGR</th>\n",
              "      <th>PGR</th>\n",
              "      <th>PSR</th>\n",
              "      <th>ACG</th>\n",
              "      <th>SR</th>\n",
              "    </tr>\n",
              "  </thead>\n",
              "  <tbody>\n",
              "    <tr>\n",
              "      <th>128</th>\n",
              "      <td>14.0</td>\n",
              "      <td>9.0</td>\n",
              "      <td>15.0</td>\n",
              "      <td>41.0</td>\n",
              "      <td>55.0</td>\n",
              "      <td>-14.0</td>\n",
              "      <td>8.0</td>\n",
              "      <td>4.0</td>\n",
              "      <td>7.0</td>\n",
              "      <td>22.0</td>\n",
              "      <td>...</td>\n",
              "      <td>10.0</td>\n",
              "      <td>121.0</td>\n",
              "      <td>1</td>\n",
              "      <td>0</td>\n",
              "      <td>0.368421</td>\n",
              "      <td>10.219512</td>\n",
              "      <td>398.585366</td>\n",
              "      <td>39.002387</td>\n",
              "      <td>1.447368</td>\n",
              "      <td>0.687500</td>\n",
              "    </tr>\n",
              "    <tr>\n",
              "      <th>203</th>\n",
              "      <td>20.0</td>\n",
              "      <td>9.0</td>\n",
              "      <td>9.0</td>\n",
              "      <td>66.0</td>\n",
              "      <td>41.0</td>\n",
              "      <td>25.0</td>\n",
              "      <td>13.0</td>\n",
              "      <td>3.0</td>\n",
              "      <td>3.0</td>\n",
              "      <td>39.0</td>\n",
              "      <td>...</td>\n",
              "      <td>14.0</td>\n",
              "      <td>0.0</td>\n",
              "      <td>1</td>\n",
              "      <td>1</td>\n",
              "      <td>0.526316</td>\n",
              "      <td>10.621212</td>\n",
              "      <td>296.424242</td>\n",
              "      <td>27.908702</td>\n",
              "      <td>1.210526</td>\n",
              "      <td>0.000000</td>\n",
              "    </tr>\n",
              "    <tr>\n",
              "      <th>25</th>\n",
              "      <td>19.0</td>\n",
              "      <td>6.0</td>\n",
              "      <td>11.0</td>\n",
              "      <td>62.0</td>\n",
              "      <td>47.0</td>\n",
              "      <td>15.0</td>\n",
              "      <td>10.0</td>\n",
              "      <td>4.0</td>\n",
              "      <td>5.0</td>\n",
              "      <td>32.0</td>\n",
              "      <td>...</td>\n",
              "      <td>11.0</td>\n",
              "      <td>109.0</td>\n",
              "      <td>1</td>\n",
              "      <td>0</td>\n",
              "      <td>0.500000</td>\n",
              "      <td>7.548387</td>\n",
              "      <td>244.387097</td>\n",
              "      <td>32.376068</td>\n",
              "      <td>1.342105</td>\n",
              "      <td>0.698718</td>\n",
              "    </tr>\n",
              "    <tr>\n",
              "      <th>67</th>\n",
              "      <td>15.0</td>\n",
              "      <td>9.0</td>\n",
              "      <td>14.0</td>\n",
              "      <td>54.0</td>\n",
              "      <td>46.0</td>\n",
              "      <td>8.0</td>\n",
              "      <td>10.0</td>\n",
              "      <td>4.0</td>\n",
              "      <td>5.0</td>\n",
              "      <td>30.0</td>\n",
              "      <td>...</td>\n",
              "      <td>14.0</td>\n",
              "      <td>94.0</td>\n",
              "      <td>1</td>\n",
              "      <td>0</td>\n",
              "      <td>0.394737</td>\n",
              "      <td>9.222222</td>\n",
              "      <td>305.444444</td>\n",
              "      <td>33.120482</td>\n",
              "      <td>1.552632</td>\n",
              "      <td>0.671429</td>\n",
              "    </tr>\n",
              "    <tr>\n",
              "      <th>65</th>\n",
              "      <td>19.0</td>\n",
              "      <td>9.0</td>\n",
              "      <td>10.0</td>\n",
              "      <td>65.0</td>\n",
              "      <td>54.0</td>\n",
              "      <td>11.0</td>\n",
              "      <td>10.0</td>\n",
              "      <td>6.0</td>\n",
              "      <td>3.0</td>\n",
              "      <td>33.0</td>\n",
              "      <td>...</td>\n",
              "      <td>16.0</td>\n",
              "      <td>122.0</td>\n",
              "      <td>1</td>\n",
              "      <td>1</td>\n",
              "      <td>0.500000</td>\n",
              "      <td>8.092308</td>\n",
              "      <td>295.415385</td>\n",
              "      <td>36.505703</td>\n",
              "      <td>2.026316</td>\n",
              "      <td>0.693182</td>\n",
              "    </tr>\n",
              "    <tr>\n",
              "      <th>...</th>\n",
              "      <td>...</td>\n",
              "      <td>...</td>\n",
              "      <td>...</td>\n",
              "      <td>...</td>\n",
              "      <td>...</td>\n",
              "      <td>...</td>\n",
              "      <td>...</td>\n",
              "      <td>...</td>\n",
              "      <td>...</td>\n",
              "      <td>...</td>\n",
              "      <td>...</td>\n",
              "      <td>...</td>\n",
              "      <td>...</td>\n",
              "      <td>...</td>\n",
              "      <td>...</td>\n",
              "      <td>...</td>\n",
              "      <td>...</td>\n",
              "      <td>...</td>\n",
              "      <td>...</td>\n",
              "      <td>...</td>\n",
              "      <td>...</td>\n",
              "    </tr>\n",
              "    <tr>\n",
              "      <th>277</th>\n",
              "      <td>7.0</td>\n",
              "      <td>13.0</td>\n",
              "      <td>18.0</td>\n",
              "      <td>40.0</td>\n",
              "      <td>59.0</td>\n",
              "      <td>-19.0</td>\n",
              "      <td>5.0</td>\n",
              "      <td>7.0</td>\n",
              "      <td>7.0</td>\n",
              "      <td>24.0</td>\n",
              "      <td>...</td>\n",
              "      <td>7.0</td>\n",
              "      <td>4.0</td>\n",
              "      <td>1</td>\n",
              "      <td>0</td>\n",
              "      <td>0.184211</td>\n",
              "      <td>11.100000</td>\n",
              "      <td>354.300000</td>\n",
              "      <td>31.918919</td>\n",
              "      <td>1.710526</td>\n",
              "      <td>0.063492</td>\n",
              "    </tr>\n",
              "    <tr>\n",
              "      <th>256</th>\n",
              "      <td>8.0</td>\n",
              "      <td>11.0</td>\n",
              "      <td>19.0</td>\n",
              "      <td>47.0</td>\n",
              "      <td>66.0</td>\n",
              "      <td>-19.0</td>\n",
              "      <td>7.0</td>\n",
              "      <td>5.0</td>\n",
              "      <td>7.0</td>\n",
              "      <td>30.0</td>\n",
              "      <td>...</td>\n",
              "      <td>8.0</td>\n",
              "      <td>4.0</td>\n",
              "      <td>1</td>\n",
              "      <td>0</td>\n",
              "      <td>0.210526</td>\n",
              "      <td>11.680851</td>\n",
              "      <td>310.978723</td>\n",
              "      <td>26.622951</td>\n",
              "      <td>1.710526</td>\n",
              "      <td>0.057143</td>\n",
              "    </tr>\n",
              "    <tr>\n",
              "      <th>131</th>\n",
              "      <td>12.0</td>\n",
              "      <td>11.0</td>\n",
              "      <td>15.0</td>\n",
              "      <td>42.0</td>\n",
              "      <td>52.0</td>\n",
              "      <td>-10.0</td>\n",
              "      <td>8.0</td>\n",
              "      <td>6.0</td>\n",
              "      <td>5.0</td>\n",
              "      <td>20.0</td>\n",
              "      <td>...</td>\n",
              "      <td>9.0</td>\n",
              "      <td>119.0</td>\n",
              "      <td>1</td>\n",
              "      <td>0</td>\n",
              "      <td>0.315789</td>\n",
              "      <td>10.500000</td>\n",
              "      <td>432.595238</td>\n",
              "      <td>41.199546</td>\n",
              "      <td>1.605263</td>\n",
              "      <td>0.695906</td>\n",
              "    </tr>\n",
              "    <tr>\n",
              "      <th>249</th>\n",
              "      <td>13.0</td>\n",
              "      <td>11.0</td>\n",
              "      <td>14.0</td>\n",
              "      <td>41.0</td>\n",
              "      <td>55.0</td>\n",
              "      <td>-14.0</td>\n",
              "      <td>10.0</td>\n",
              "      <td>6.0</td>\n",
              "      <td>3.0</td>\n",
              "      <td>28.0</td>\n",
              "      <td>...</td>\n",
              "      <td>13.0</td>\n",
              "      <td>3.0</td>\n",
              "      <td>1</td>\n",
              "      <td>0</td>\n",
              "      <td>0.342105</td>\n",
              "      <td>11.926829</td>\n",
              "      <td>287.609756</td>\n",
              "      <td>24.114519</td>\n",
              "      <td>1.552632</td>\n",
              "      <td>0.051724</td>\n",
              "    </tr>\n",
              "    <tr>\n",
              "      <th>152</th>\n",
              "      <td>11.0</td>\n",
              "      <td>11.0</td>\n",
              "      <td>16.0</td>\n",
              "      <td>38.0</td>\n",
              "      <td>51.0</td>\n",
              "      <td>-13.0</td>\n",
              "      <td>7.0</td>\n",
              "      <td>4.0</td>\n",
              "      <td>8.0</td>\n",
              "      <td>24.0</td>\n",
              "      <td>...</td>\n",
              "      <td>16.0</td>\n",
              "      <td>131.0</td>\n",
              "      <td>1</td>\n",
              "      <td>0</td>\n",
              "      <td>0.289474</td>\n",
              "      <td>10.842105</td>\n",
              "      <td>380.131579</td>\n",
              "      <td>35.060680</td>\n",
              "      <td>1.763158</td>\n",
              "      <td>0.719780</td>\n",
              "    </tr>\n",
              "  </tbody>\n",
              "</table>\n",
              "<p>256 rows × 38 columns</p>\n",
              "</div>\n",
              "      <button class=\"colab-df-convert\" onclick=\"convertToInteractive('df-5b2641e0-aa42-41b7-9a48-efaa92cdd122')\"\n",
              "              title=\"Convert this dataframe to an interactive table.\"\n",
              "              style=\"display:none;\">\n",
              "        \n",
              "  <svg xmlns=\"http://www.w3.org/2000/svg\" height=\"24px\"viewBox=\"0 0 24 24\"\n",
              "       width=\"24px\">\n",
              "    <path d=\"M0 0h24v24H0V0z\" fill=\"none\"/>\n",
              "    <path d=\"M18.56 5.44l.94 2.06.94-2.06 2.06-.94-2.06-.94-.94-2.06-.94 2.06-2.06.94zm-11 1L8.5 8.5l.94-2.06 2.06-.94-2.06-.94L8.5 2.5l-.94 2.06-2.06.94zm10 10l.94 2.06.94-2.06 2.06-.94-2.06-.94-.94-2.06-.94 2.06-2.06.94z\"/><path d=\"M17.41 7.96l-1.37-1.37c-.4-.4-.92-.59-1.43-.59-.52 0-1.04.2-1.43.59L10.3 9.45l-7.72 7.72c-.78.78-.78 2.05 0 2.83L4 21.41c.39.39.9.59 1.41.59.51 0 1.02-.2 1.41-.59l7.78-7.78 2.81-2.81c.8-.78.8-2.07 0-2.86zM5.41 20L4 18.59l7.72-7.72 1.47 1.35L5.41 20z\"/>\n",
              "  </svg>\n",
              "      </button>\n",
              "      \n",
              "  <style>\n",
              "    .colab-df-container {\n",
              "      display:flex;\n",
              "      flex-wrap:wrap;\n",
              "      gap: 12px;\n",
              "    }\n",
              "\n",
              "    .colab-df-convert {\n",
              "      background-color: #E8F0FE;\n",
              "      border: none;\n",
              "      border-radius: 50%;\n",
              "      cursor: pointer;\n",
              "      display: none;\n",
              "      fill: #1967D2;\n",
              "      height: 32px;\n",
              "      padding: 0 0 0 0;\n",
              "      width: 32px;\n",
              "    }\n",
              "\n",
              "    .colab-df-convert:hover {\n",
              "      background-color: #E2EBFA;\n",
              "      box-shadow: 0px 1px 2px rgba(60, 64, 67, 0.3), 0px 1px 3px 1px rgba(60, 64, 67, 0.15);\n",
              "      fill: #174EA6;\n",
              "    }\n",
              "\n",
              "    [theme=dark] .colab-df-convert {\n",
              "      background-color: #3B4455;\n",
              "      fill: #D2E3FC;\n",
              "    }\n",
              "\n",
              "    [theme=dark] .colab-df-convert:hover {\n",
              "      background-color: #434B5C;\n",
              "      box-shadow: 0px 1px 3px 1px rgba(0, 0, 0, 0.15);\n",
              "      filter: drop-shadow(0px 1px 2px rgba(0, 0, 0, 0.3));\n",
              "      fill: #FFFFFF;\n",
              "    }\n",
              "  </style>\n",
              "\n",
              "      <script>\n",
              "        const buttonEl =\n",
              "          document.querySelector('#df-5b2641e0-aa42-41b7-9a48-efaa92cdd122 button.colab-df-convert');\n",
              "        buttonEl.style.display =\n",
              "          google.colab.kernel.accessAllowed ? 'block' : 'none';\n",
              "\n",
              "        async function convertToInteractive(key) {\n",
              "          const element = document.querySelector('#df-5b2641e0-aa42-41b7-9a48-efaa92cdd122');\n",
              "          const dataTable =\n",
              "            await google.colab.kernel.invokeFunction('convertToInteractive',\n",
              "                                                     [key], {});\n",
              "          if (!dataTable) return;\n",
              "\n",
              "          const docLinkHtml = 'Like what you see? Visit the ' +\n",
              "            '<a target=\"_blank\" href=https://colab.research.google.com/notebooks/data_table.ipynb>data table notebook</a>'\n",
              "            + ' to learn more about interactive tables.';\n",
              "          element.innerHTML = '';\n",
              "          dataTable['output_type'] = 'display_data';\n",
              "          await google.colab.output.renderOutput(dataTable, element);\n",
              "          const docLink = document.createElement('div');\n",
              "          docLink.innerHTML = docLinkHtml;\n",
              "          element.appendChild(docLink);\n",
              "        }\n",
              "      </script>\n",
              "    </div>\n",
              "  </div>\n",
              "  "
            ]
          },
          "metadata": {},
          "execution_count": 72
        }
      ],
      "source": [
        "Xtrain\n"
      ]
    },
    {
      "cell_type": "markdown",
      "metadata": {
        "id": "fvh1vnsaQB7_"
      },
      "source": [
        "## Random Forest"
      ]
    },
    {
      "cell_type": "code",
      "execution_count": null,
      "metadata": {
        "id": "IwvRhXTHU7Y4"
      },
      "outputs": [],
      "source": [
        "from sklearn.ensemble import RandomForestRegressor"
      ]
    },
    {
      "cell_type": "code",
      "execution_count": null,
      "metadata": {
        "colab": {
          "base_uri": "https://localhost:8080/"
        },
        "id": "YNbGVS3LahxQ",
        "outputId": "f4c2f338-68e2-4f35-856d-cfdd57f91f5f"
      },
      "outputs": [
        {
          "output_type": "stream",
          "name": "stdout",
          "text": [
            "Scores: [2.26490788 2.33779685 2.62327441 1.64573126 1.61074821]\n",
            "Mean: 2.0964917216177965\n",
            "Standard deviation: 0.40080516958156953\n"
          ]
        }
      ],
      "source": [
        "forest_reg = RandomForestRegressor(n_estimators=10, random_state=7)\n",
        "rmse_scores = -cross_val_score(forest_reg, Xtrain, ytrain,\n",
        "                         scoring=\"neg_root_mean_squared_error\", cv=5)\n",
        "display_scores(rmse_scores)"
      ]
    },
    {
      "cell_type": "markdown",
      "metadata": {
        "id": "SWwB1GMdcQrd"
      },
      "source": [
        "The algorithm produced an RMSE score of 2.10"
      ]
    },
    {
      "cell_type": "code",
      "execution_count": null,
      "metadata": {
        "id": "UHQojjS-jotA"
      },
      "outputs": [],
      "source": [
        "\n",
        "# specify the hyperparameters and their values\n",
        "param_grid = {\n",
        "      'n_estimators': [3, 10, 30, 40, 50, 60],\n",
        "    'max_depth': [4, 6, 8, 10, None]\n",
        "}\n",
        "\n",
        "forest_reg = RandomForestRegressor(random_state=7)\n",
        "\n",
        "# we'll use 10-fold cross-validation\n",
        "grid_search = GridSearchCV(forest_reg, param_grid, cv=5,\n",
        "                           scoring='neg_root_mean_squared_error', \n",
        "                           return_train_score=True, verbose=2)\n",
        "\n",
        "grid_search.fit(Xtrain, ytrain)"
      ]
    },
    {
      "cell_type": "code",
      "execution_count": null,
      "metadata": {
        "colab": {
          "base_uri": "https://localhost:8080/"
        },
        "id": "_CgKwtKLjxw3",
        "outputId": "71f7573a-41b3-45a6-f1fd-ff5659e5b8e4"
      },
      "outputs": [
        {
          "output_type": "execute_result",
          "data": {
            "text/plain": [
              "RandomForestRegressor(max_depth=8, n_estimators=50, random_state=7)"
            ]
          },
          "metadata": {},
          "execution_count": 80
        }
      ],
      "source": [
        "grid_search.best_estimator_"
      ]
    },
    {
      "cell_type": "code",
      "execution_count": null,
      "metadata": {
        "colab": {
          "base_uri": "https://localhost:8080/"
        },
        "id": "C6GJMlxmkiw3",
        "outputId": "b916eda7-247d-450c-f47c-984322f33f04"
      },
      "outputs": [
        {
          "output_type": "execute_result",
          "data": {
            "text/plain": [
              "1.8699877083628937"
            ]
          },
          "metadata": {},
          "execution_count": 81
        }
      ],
      "source": [
        "-grid_search.best_score_"
      ]
    },
    {
      "cell_type": "code",
      "execution_count": null,
      "metadata": {
        "colab": {
          "base_uri": "https://localhost:8080/",
          "height": 990
        },
        "id": "c-t4bYaqmKt4",
        "outputId": "dfa12838-d7c1-4628-ed87-56da03e2dbef"
      },
      "outputs": [
        {
          "output_type": "execute_result",
          "data": {
            "text/plain": [
              "                                     params  mean_train_score  \\\n",
              "16     {'max_depth': 8, 'n_estimators': 50}          0.727044   \n",
              "15     {'max_depth': 8, 'n_estimators': 40}          0.721159   \n",
              "14     {'max_depth': 8, 'n_estimators': 30}          0.755726   \n",
              "17     {'max_depth': 8, 'n_estimators': 60}          0.726644   \n",
              "10     {'max_depth': 6, 'n_estimators': 50}          0.817277   \n",
              "11     {'max_depth': 6, 'n_estimators': 60}          0.813581   \n",
              "22    {'max_depth': 10, 'n_estimators': 50}          0.728285   \n",
              "28  {'max_depth': None, 'n_estimators': 50}          0.729208   \n",
              "23    {'max_depth': 10, 'n_estimators': 60}          0.728455   \n",
              "21    {'max_depth': 10, 'n_estimators': 40}          0.725365   \n",
              "29  {'max_depth': None, 'n_estimators': 60}          0.729336   \n",
              "27  {'max_depth': None, 'n_estimators': 40}          0.726325   \n",
              "9      {'max_depth': 6, 'n_estimators': 40}          0.809018   \n",
              "26  {'max_depth': None, 'n_estimators': 30}          0.769191   \n",
              "20    {'max_depth': 10, 'n_estimators': 30}          0.768250   \n",
              "8      {'max_depth': 6, 'n_estimators': 30}          0.846816   \n",
              "13     {'max_depth': 8, 'n_estimators': 10}          1.022306   \n",
              "7      {'max_depth': 6, 'n_estimators': 10}          1.079691   \n",
              "25  {'max_depth': None, 'n_estimators': 10}          1.046625   \n",
              "19    {'max_depth': 10, 'n_estimators': 10}          1.045205   \n",
              "4      {'max_depth': 4, 'n_estimators': 50}          1.492157   \n",
              "5      {'max_depth': 4, 'n_estimators': 60}          1.492789   \n",
              "3      {'max_depth': 4, 'n_estimators': 40}          1.490591   \n",
              "2      {'max_depth': 4, 'n_estimators': 30}          1.516946   \n",
              "1      {'max_depth': 4, 'n_estimators': 10}          1.731001   \n",
              "12      {'max_depth': 8, 'n_estimators': 3}          1.488352   \n",
              "18     {'max_depth': 10, 'n_estimators': 3}          1.531602   \n",
              "24   {'max_depth': None, 'n_estimators': 3}          1.531602   \n",
              "6       {'max_depth': 6, 'n_estimators': 3}          1.530653   \n",
              "0       {'max_depth': 4, 'n_estimators': 3}          2.130886   \n",
              "\n",
              "    mean_test_score     diff, %  \n",
              "16         1.869988 -157.204062  \n",
              "15         1.870036 -159.309730  \n",
              "14         1.877015 -148.372322  \n",
              "17         1.878468 -158.512730  \n",
              "10         1.881325 -130.194106  \n",
              "11         1.884033 -131.572738  \n",
              "22         1.885685 -158.921368  \n",
              "28         1.886464 -158.700247  \n",
              "23         1.889780 -159.422924  \n",
              "21         1.893043 -160.978032  \n",
              "29         1.893812 -159.662423  \n",
              "27         1.894175 -160.788921  \n",
              "9          1.896756 -134.451711  \n",
              "26         1.909332 -148.226066  \n",
              "20         1.911433 -148.803583  \n",
              "8          1.915793 -126.234861  \n",
              "13         2.069085 -102.393900  \n",
              "7          2.075260  -92.208760  \n",
              "25         2.096492 -100.309788  \n",
              "19         2.097528 -100.681049  \n",
              "4          2.204017  -47.706774  \n",
              "5          2.204879  -47.702000  \n",
              "3          2.205559  -47.965420  \n",
              "2          2.206245  -45.439884  \n",
              "1          2.390237  -38.084070  \n",
              "12         2.411505  -62.025197  \n",
              "18         2.446377  -59.726717  \n",
              "24         2.446377  -59.726717  \n",
              "6          2.510278  -64.000445  \n",
              "0          2.775212  -30.237481  "
            ],
            "text/html": [
              "\n",
              "  <div id=\"df-a6e9b8eb-7693-428c-b78b-21fccb854cd1\">\n",
              "    <div class=\"colab-df-container\">\n",
              "      <div>\n",
              "<style scoped>\n",
              "    .dataframe tbody tr th:only-of-type {\n",
              "        vertical-align: middle;\n",
              "    }\n",
              "\n",
              "    .dataframe tbody tr th {\n",
              "        vertical-align: top;\n",
              "    }\n",
              "\n",
              "    .dataframe thead th {\n",
              "        text-align: right;\n",
              "    }\n",
              "</style>\n",
              "<table border=\"1\" class=\"dataframe\">\n",
              "  <thead>\n",
              "    <tr style=\"text-align: right;\">\n",
              "      <th></th>\n",
              "      <th>params</th>\n",
              "      <th>mean_train_score</th>\n",
              "      <th>mean_test_score</th>\n",
              "      <th>diff, %</th>\n",
              "    </tr>\n",
              "  </thead>\n",
              "  <tbody>\n",
              "    <tr>\n",
              "      <th>16</th>\n",
              "      <td>{'max_depth': 8, 'n_estimators': 50}</td>\n",
              "      <td>0.727044</td>\n",
              "      <td>1.869988</td>\n",
              "      <td>-157.204062</td>\n",
              "    </tr>\n",
              "    <tr>\n",
              "      <th>15</th>\n",
              "      <td>{'max_depth': 8, 'n_estimators': 40}</td>\n",
              "      <td>0.721159</td>\n",
              "      <td>1.870036</td>\n",
              "      <td>-159.309730</td>\n",
              "    </tr>\n",
              "    <tr>\n",
              "      <th>14</th>\n",
              "      <td>{'max_depth': 8, 'n_estimators': 30}</td>\n",
              "      <td>0.755726</td>\n",
              "      <td>1.877015</td>\n",
              "      <td>-148.372322</td>\n",
              "    </tr>\n",
              "    <tr>\n",
              "      <th>17</th>\n",
              "      <td>{'max_depth': 8, 'n_estimators': 60}</td>\n",
              "      <td>0.726644</td>\n",
              "      <td>1.878468</td>\n",
              "      <td>-158.512730</td>\n",
              "    </tr>\n",
              "    <tr>\n",
              "      <th>10</th>\n",
              "      <td>{'max_depth': 6, 'n_estimators': 50}</td>\n",
              "      <td>0.817277</td>\n",
              "      <td>1.881325</td>\n",
              "      <td>-130.194106</td>\n",
              "    </tr>\n",
              "    <tr>\n",
              "      <th>11</th>\n",
              "      <td>{'max_depth': 6, 'n_estimators': 60}</td>\n",
              "      <td>0.813581</td>\n",
              "      <td>1.884033</td>\n",
              "      <td>-131.572738</td>\n",
              "    </tr>\n",
              "    <tr>\n",
              "      <th>22</th>\n",
              "      <td>{'max_depth': 10, 'n_estimators': 50}</td>\n",
              "      <td>0.728285</td>\n",
              "      <td>1.885685</td>\n",
              "      <td>-158.921368</td>\n",
              "    </tr>\n",
              "    <tr>\n",
              "      <th>28</th>\n",
              "      <td>{'max_depth': None, 'n_estimators': 50}</td>\n",
              "      <td>0.729208</td>\n",
              "      <td>1.886464</td>\n",
              "      <td>-158.700247</td>\n",
              "    </tr>\n",
              "    <tr>\n",
              "      <th>23</th>\n",
              "      <td>{'max_depth': 10, 'n_estimators': 60}</td>\n",
              "      <td>0.728455</td>\n",
              "      <td>1.889780</td>\n",
              "      <td>-159.422924</td>\n",
              "    </tr>\n",
              "    <tr>\n",
              "      <th>21</th>\n",
              "      <td>{'max_depth': 10, 'n_estimators': 40}</td>\n",
              "      <td>0.725365</td>\n",
              "      <td>1.893043</td>\n",
              "      <td>-160.978032</td>\n",
              "    </tr>\n",
              "    <tr>\n",
              "      <th>29</th>\n",
              "      <td>{'max_depth': None, 'n_estimators': 60}</td>\n",
              "      <td>0.729336</td>\n",
              "      <td>1.893812</td>\n",
              "      <td>-159.662423</td>\n",
              "    </tr>\n",
              "    <tr>\n",
              "      <th>27</th>\n",
              "      <td>{'max_depth': None, 'n_estimators': 40}</td>\n",
              "      <td>0.726325</td>\n",
              "      <td>1.894175</td>\n",
              "      <td>-160.788921</td>\n",
              "    </tr>\n",
              "    <tr>\n",
              "      <th>9</th>\n",
              "      <td>{'max_depth': 6, 'n_estimators': 40}</td>\n",
              "      <td>0.809018</td>\n",
              "      <td>1.896756</td>\n",
              "      <td>-134.451711</td>\n",
              "    </tr>\n",
              "    <tr>\n",
              "      <th>26</th>\n",
              "      <td>{'max_depth': None, 'n_estimators': 30}</td>\n",
              "      <td>0.769191</td>\n",
              "      <td>1.909332</td>\n",
              "      <td>-148.226066</td>\n",
              "    </tr>\n",
              "    <tr>\n",
              "      <th>20</th>\n",
              "      <td>{'max_depth': 10, 'n_estimators': 30}</td>\n",
              "      <td>0.768250</td>\n",
              "      <td>1.911433</td>\n",
              "      <td>-148.803583</td>\n",
              "    </tr>\n",
              "    <tr>\n",
              "      <th>8</th>\n",
              "      <td>{'max_depth': 6, 'n_estimators': 30}</td>\n",
              "      <td>0.846816</td>\n",
              "      <td>1.915793</td>\n",
              "      <td>-126.234861</td>\n",
              "    </tr>\n",
              "    <tr>\n",
              "      <th>13</th>\n",
              "      <td>{'max_depth': 8, 'n_estimators': 10}</td>\n",
              "      <td>1.022306</td>\n",
              "      <td>2.069085</td>\n",
              "      <td>-102.393900</td>\n",
              "    </tr>\n",
              "    <tr>\n",
              "      <th>7</th>\n",
              "      <td>{'max_depth': 6, 'n_estimators': 10}</td>\n",
              "      <td>1.079691</td>\n",
              "      <td>2.075260</td>\n",
              "      <td>-92.208760</td>\n",
              "    </tr>\n",
              "    <tr>\n",
              "      <th>25</th>\n",
              "      <td>{'max_depth': None, 'n_estimators': 10}</td>\n",
              "      <td>1.046625</td>\n",
              "      <td>2.096492</td>\n",
              "      <td>-100.309788</td>\n",
              "    </tr>\n",
              "    <tr>\n",
              "      <th>19</th>\n",
              "      <td>{'max_depth': 10, 'n_estimators': 10}</td>\n",
              "      <td>1.045205</td>\n",
              "      <td>2.097528</td>\n",
              "      <td>-100.681049</td>\n",
              "    </tr>\n",
              "    <tr>\n",
              "      <th>4</th>\n",
              "      <td>{'max_depth': 4, 'n_estimators': 50}</td>\n",
              "      <td>1.492157</td>\n",
              "      <td>2.204017</td>\n",
              "      <td>-47.706774</td>\n",
              "    </tr>\n",
              "    <tr>\n",
              "      <th>5</th>\n",
              "      <td>{'max_depth': 4, 'n_estimators': 60}</td>\n",
              "      <td>1.492789</td>\n",
              "      <td>2.204879</td>\n",
              "      <td>-47.702000</td>\n",
              "    </tr>\n",
              "    <tr>\n",
              "      <th>3</th>\n",
              "      <td>{'max_depth': 4, 'n_estimators': 40}</td>\n",
              "      <td>1.490591</td>\n",
              "      <td>2.205559</td>\n",
              "      <td>-47.965420</td>\n",
              "    </tr>\n",
              "    <tr>\n",
              "      <th>2</th>\n",
              "      <td>{'max_depth': 4, 'n_estimators': 30}</td>\n",
              "      <td>1.516946</td>\n",
              "      <td>2.206245</td>\n",
              "      <td>-45.439884</td>\n",
              "    </tr>\n",
              "    <tr>\n",
              "      <th>1</th>\n",
              "      <td>{'max_depth': 4, 'n_estimators': 10}</td>\n",
              "      <td>1.731001</td>\n",
              "      <td>2.390237</td>\n",
              "      <td>-38.084070</td>\n",
              "    </tr>\n",
              "    <tr>\n",
              "      <th>12</th>\n",
              "      <td>{'max_depth': 8, 'n_estimators': 3}</td>\n",
              "      <td>1.488352</td>\n",
              "      <td>2.411505</td>\n",
              "      <td>-62.025197</td>\n",
              "    </tr>\n",
              "    <tr>\n",
              "      <th>18</th>\n",
              "      <td>{'max_depth': 10, 'n_estimators': 3}</td>\n",
              "      <td>1.531602</td>\n",
              "      <td>2.446377</td>\n",
              "      <td>-59.726717</td>\n",
              "    </tr>\n",
              "    <tr>\n",
              "      <th>24</th>\n",
              "      <td>{'max_depth': None, 'n_estimators': 3}</td>\n",
              "      <td>1.531602</td>\n",
              "      <td>2.446377</td>\n",
              "      <td>-59.726717</td>\n",
              "    </tr>\n",
              "    <tr>\n",
              "      <th>6</th>\n",
              "      <td>{'max_depth': 6, 'n_estimators': 3}</td>\n",
              "      <td>1.530653</td>\n",
              "      <td>2.510278</td>\n",
              "      <td>-64.000445</td>\n",
              "    </tr>\n",
              "    <tr>\n",
              "      <th>0</th>\n",
              "      <td>{'max_depth': 4, 'n_estimators': 3}</td>\n",
              "      <td>2.130886</td>\n",
              "      <td>2.775212</td>\n",
              "      <td>-30.237481</td>\n",
              "    </tr>\n",
              "  </tbody>\n",
              "</table>\n",
              "</div>\n",
              "      <button class=\"colab-df-convert\" onclick=\"convertToInteractive('df-a6e9b8eb-7693-428c-b78b-21fccb854cd1')\"\n",
              "              title=\"Convert this dataframe to an interactive table.\"\n",
              "              style=\"display:none;\">\n",
              "        \n",
              "  <svg xmlns=\"http://www.w3.org/2000/svg\" height=\"24px\"viewBox=\"0 0 24 24\"\n",
              "       width=\"24px\">\n",
              "    <path d=\"M0 0h24v24H0V0z\" fill=\"none\"/>\n",
              "    <path d=\"M18.56 5.44l.94 2.06.94-2.06 2.06-.94-2.06-.94-.94-2.06-.94 2.06-2.06.94zm-11 1L8.5 8.5l.94-2.06 2.06-.94-2.06-.94L8.5 2.5l-.94 2.06-2.06.94zm10 10l.94 2.06.94-2.06 2.06-.94-2.06-.94-.94-2.06-.94 2.06-2.06.94z\"/><path d=\"M17.41 7.96l-1.37-1.37c-.4-.4-.92-.59-1.43-.59-.52 0-1.04.2-1.43.59L10.3 9.45l-7.72 7.72c-.78.78-.78 2.05 0 2.83L4 21.41c.39.39.9.59 1.41.59.51 0 1.02-.2 1.41-.59l7.78-7.78 2.81-2.81c.8-.78.8-2.07 0-2.86zM5.41 20L4 18.59l7.72-7.72 1.47 1.35L5.41 20z\"/>\n",
              "  </svg>\n",
              "      </button>\n",
              "      \n",
              "  <style>\n",
              "    .colab-df-container {\n",
              "      display:flex;\n",
              "      flex-wrap:wrap;\n",
              "      gap: 12px;\n",
              "    }\n",
              "\n",
              "    .colab-df-convert {\n",
              "      background-color: #E8F0FE;\n",
              "      border: none;\n",
              "      border-radius: 50%;\n",
              "      cursor: pointer;\n",
              "      display: none;\n",
              "      fill: #1967D2;\n",
              "      height: 32px;\n",
              "      padding: 0 0 0 0;\n",
              "      width: 32px;\n",
              "    }\n",
              "\n",
              "    .colab-df-convert:hover {\n",
              "      background-color: #E2EBFA;\n",
              "      box-shadow: 0px 1px 2px rgba(60, 64, 67, 0.3), 0px 1px 3px 1px rgba(60, 64, 67, 0.15);\n",
              "      fill: #174EA6;\n",
              "    }\n",
              "\n",
              "    [theme=dark] .colab-df-convert {\n",
              "      background-color: #3B4455;\n",
              "      fill: #D2E3FC;\n",
              "    }\n",
              "\n",
              "    [theme=dark] .colab-df-convert:hover {\n",
              "      background-color: #434B5C;\n",
              "      box-shadow: 0px 1px 3px 1px rgba(0, 0, 0, 0.15);\n",
              "      filter: drop-shadow(0px 1px 2px rgba(0, 0, 0, 0.3));\n",
              "      fill: #FFFFFF;\n",
              "    }\n",
              "  </style>\n",
              "\n",
              "      <script>\n",
              "        const buttonEl =\n",
              "          document.querySelector('#df-a6e9b8eb-7693-428c-b78b-21fccb854cd1 button.colab-df-convert');\n",
              "        buttonEl.style.display =\n",
              "          google.colab.kernel.accessAllowed ? 'block' : 'none';\n",
              "\n",
              "        async function convertToInteractive(key) {\n",
              "          const element = document.querySelector('#df-a6e9b8eb-7693-428c-b78b-21fccb854cd1');\n",
              "          const dataTable =\n",
              "            await google.colab.kernel.invokeFunction('convertToInteractive',\n",
              "                                                     [key], {});\n",
              "          if (!dataTable) return;\n",
              "\n",
              "          const docLinkHtml = 'Like what you see? Visit the ' +\n",
              "            '<a target=\"_blank\" href=https://colab.research.google.com/notebooks/data_table.ipynb>data table notebook</a>'\n",
              "            + ' to learn more about interactive tables.';\n",
              "          element.innerHTML = '';\n",
              "          dataTable['output_type'] = 'display_data';\n",
              "          await google.colab.output.renderOutput(dataTable, element);\n",
              "          const docLink = document.createElement('div');\n",
              "          docLink.innerHTML = docLinkHtml;\n",
              "          element.appendChild(docLink);\n",
              "        }\n",
              "      </script>\n",
              "    </div>\n",
              "  </div>\n",
              "  "
            ]
          },
          "metadata": {},
          "execution_count": 82
        }
      ],
      "source": [
        "cv_results = pd.DataFrame(grid_search.cv_results_)[['params', 'mean_train_score', 'mean_test_score']]\n",
        "cv_results[\"mean_train_score\"] = -cv_results[\"mean_train_score\"]\n",
        "cv_results[\"mean_test_score\"] = -cv_results[\"mean_test_score\"]\n",
        "cv_results[\"diff, %\"] = 100*(cv_results[\"mean_train_score\"]-cv_results[\"mean_test_score\"]\n",
        "                                                     )/cv_results[\"mean_train_score\"]\n",
        "\n",
        "cv_results.sort_values('mean_test_score')"
      ]
    },
    {
      "cell_type": "code",
      "execution_count": null,
      "metadata": {
        "colab": {
          "base_uri": "https://localhost:8080/"
        },
        "id": "UIxqDkiH0NCY",
        "outputId": "9c031760-a733-4308-9c4d-ad161481fe40"
      },
      "outputs": [
        {
          "output_type": "stream",
          "name": "stdout",
          "text": [
            "Won: 0.449\n",
            "WR: 0.442\n",
            "GD: 0.067\n",
            "Loss: 0.020\n",
            "HP: 0.006\n",
            "HL: 0.002\n",
            "HGF: 0.001\n",
            "HGD: 0.001\n",
            "GA: 0.001\n",
            "AL: 0.001\n",
            "Draw: 0.001\n",
            "AGD: 0.001\n",
            "Tackles: 0.001\n",
            "AP: 0.001\n",
            "ACG: 0.001\n",
            "HW: 0.001\n",
            "YC: 0.001\n",
            "AW: 0.001\n",
            "Shots: 0.000\n",
            "Touches: 0.000\n",
            "Clearances: 0.000\n",
            "AGA: 0.000\n",
            "AD: 0.000\n",
            "Cleansheets: 0.000\n",
            "Passes: 0.000\n",
            "PGR: 0.000\n",
            "SR: 0.000\n",
            "HGA: 0.000\n",
            "RC: 0.000\n",
            "SGR: 0.000\n",
            "PSR: 0.000\n",
            "HD: 0.000\n",
            "Saves: 0.000\n",
            "GF: 0.000\n",
            "AGF: 0.000\n",
            "Owngoal: 0.000\n",
            "PLS: 0.000\n",
            "WIE: 0.000\n"
          ]
        }
      ],
      "source": [
        "# put them into a separate variable for convenience\n",
        "feature_importances = grid_search.best_estimator_.feature_importances_\n",
        "\n",
        "# the order of the features in `feature_importances` is the same as in the Xtrain dataframe,\n",
        "# so we can \"zip\" the two and print in the descending order:\n",
        "\n",
        "for k, v in sorted(zip(feature_importances, Xtest.columns), reverse=True):\n",
        "    print(f\"{v}: {k:.3f}\")"
      ]
    },
    {
      "cell_type": "code",
      "execution_count": null,
      "metadata": {
        "colab": {
          "base_uri": "https://localhost:8080/"
        },
        "id": "5WC_PNbqnB8Y",
        "outputId": "1eccbd1a-a2ee-4331-c25e-ac268ffa5aff"
      },
      "outputs": [
        {
          "output_type": "execute_result",
          "data": {
            "text/plain": [
              "2.3411223443273856"
            ]
          },
          "metadata": {},
          "execution_count": 84
        }
      ],
      "source": [
        "best_model = grid_search.best_estimator_\n",
        "\n",
        "yhat = best_model.predict(Xtest)\n",
        "\n",
        "final_mse = mean_squared_error(ytest, yhat)\n",
        "final_rmse = np.sqrt(final_mse)\n",
        "final_rmse"
      ]
    },
    {
      "cell_type": "markdown",
      "metadata": {
        "id": "FP4R_NBR07in"
      },
      "source": [
        "## Support Vector Machine"
      ]
    },
    {
      "cell_type": "code",
      "execution_count": null,
      "metadata": {
        "id": "5Yqnrm6m1GOW"
      },
      "outputs": [],
      "source": [
        "from sklearn import svm"
      ]
    },
    {
      "cell_type": "code",
      "execution_count": null,
      "metadata": {
        "colab": {
          "base_uri": "https://localhost:8080/"
        },
        "id": "q7LinDj_MoWm",
        "outputId": "ed72bb37-ce6a-48ba-828f-8af64899fc42"
      },
      "outputs": [
        {
          "output_type": "stream",
          "name": "stdout",
          "text": [
            "Fitting 5 folds for each of 4 candidates, totalling 20 fits\n",
            "[CV] END ...............C=0.001, gamma=0.0001, kernel=linear; total time=   2.9s\n",
            "[CV] END ...............C=0.001, gamma=0.0001, kernel=linear; total time=   1.9s\n",
            "[CV] END ...............C=0.001, gamma=0.0001, kernel=linear; total time=   3.2s\n",
            "[CV] END ...............C=0.001, gamma=0.0001, kernel=linear; total time=   1.2s\n",
            "[CV] END ...............C=0.001, gamma=0.0001, kernel=linear; total time=   1.5s\n",
            "[CV] END ................C=0.001, gamma=0.001, kernel=linear; total time=   5.2s\n",
            "[CV] END ................C=0.001, gamma=0.001, kernel=linear; total time=   1.9s\n",
            "[CV] END ................C=0.001, gamma=0.001, kernel=linear; total time=   3.2s\n",
            "[CV] END ................C=0.001, gamma=0.001, kernel=linear; total time=   1.2s\n",
            "[CV] END ................C=0.001, gamma=0.001, kernel=linear; total time=   1.5s\n",
            "[CV] END ................C=0.01, gamma=0.0001, kernel=linear; total time=   7.1s\n",
            "[CV] END ................C=0.01, gamma=0.0001, kernel=linear; total time=  13.3s\n",
            "[CV] END ................C=0.01, gamma=0.0001, kernel=linear; total time=   6.0s\n",
            "[CV] END ................C=0.01, gamma=0.0001, kernel=linear; total time=  13.0s\n",
            "[CV] END ................C=0.01, gamma=0.0001, kernel=linear; total time=   8.2s\n",
            "[CV] END .................C=0.01, gamma=0.001, kernel=linear; total time=   7.1s\n",
            "[CV] END .................C=0.01, gamma=0.001, kernel=linear; total time=  13.1s\n",
            "[CV] END .................C=0.01, gamma=0.001, kernel=linear; total time=   6.0s\n",
            "[CV] END .................C=0.01, gamma=0.001, kernel=linear; total time=  13.1s\n",
            "[CV] END .................C=0.01, gamma=0.001, kernel=linear; total time=   8.2s\n"
          ]
        },
        {
          "output_type": "execute_result",
          "data": {
            "text/plain": [
              "GridSearchCV(cv=5, estimator=SVR(),\n",
              "             param_grid={'C': [0.001, 0.01], 'gamma': [0.0001, 0.001],\n",
              "                         'kernel': ['linear']},\n",
              "             return_train_score=True, scoring='neg_root_mean_squared_error',\n",
              "             verbose=2)"
            ]
          },
          "metadata": {},
          "execution_count": 89
        }
      ],
      "source": [
        "param_grid = {\n",
        "    #'kernel': ['linear', 'poly', 'rbf'],\n",
        "    'kernel': ['linear'],\n",
        "      'C': [0.001, 0.01],\n",
        "    'gamma': [0.0001, 0.001]\n",
        "}\n",
        "\n",
        "svm_reg =svm.SVR(degree = 3)\n",
        "# we'll use 10-fold cross-validation\n",
        "grid_search = GridSearchCV(svm_reg, param_grid, cv=5,\n",
        "                           scoring='neg_root_mean_squared_error', \n",
        "                           return_train_score=True, verbose=2)\n",
        "\n",
        "grid_search.fit(Xtrain, ytrain)"
      ]
    },
    {
      "cell_type": "code",
      "execution_count": null,
      "metadata": {
        "id": "kluXN8G5f-Ow",
        "colab": {
          "base_uri": "https://localhost:8080/"
        },
        "outputId": "eec5a1f4-3ad9-4628-c39a-2fded2e59b43"
      },
      "outputs": [
        {
          "output_type": "execute_result",
          "data": {
            "text/plain": [
              "SVR(C=0.01, gamma=0.0001, kernel='linear')"
            ]
          },
          "metadata": {},
          "execution_count": 90
        }
      ],
      "source": [
        "grid_search.best_estimator_"
      ]
    },
    {
      "cell_type": "code",
      "execution_count": null,
      "metadata": {
        "id": "4oa8Z6dJgQVi",
        "colab": {
          "base_uri": "https://localhost:8080/"
        },
        "outputId": "c9f7f67e-861e-437f-8e5d-ffb838654a32"
      },
      "outputs": [
        {
          "output_type": "execute_result",
          "data": {
            "text/plain": [
              "1.7573433265841267"
            ]
          },
          "metadata": {},
          "execution_count": 91
        }
      ],
      "source": [
        "-grid_search.best_score_"
      ]
    },
    {
      "cell_type": "code",
      "execution_count": null,
      "metadata": {
        "id": "OyGUvuXAiKJW",
        "colab": {
          "base_uri": "https://localhost:8080/",
          "height": 200
        },
        "outputId": "cbab3474-41eb-476f-aa07-a0d437cc498c"
      },
      "outputs": [
        {
          "output_type": "error",
          "ename": "TypeError",
          "evalue": "ignored",
          "traceback": [
            "\u001b[0;31m---------------------------------------------------------------------------\u001b[0m",
            "\u001b[0;31mTypeError\u001b[0m                                 Traceback (most recent call last)",
            "\u001b[0;32m<ipython-input-93-f133bd00277f>\u001b[0m in \u001b[0;36m<module>\u001b[0;34m\u001b[0m\n\u001b[1;32m      6\u001b[0m \u001b[0;34m\u001b[0m\u001b[0m\n\u001b[1;32m      7\u001b[0m \u001b[0;32mfor\u001b[0m \u001b[0mk\u001b[0m\u001b[0;34m,\u001b[0m \u001b[0mv\u001b[0m \u001b[0;32min\u001b[0m \u001b[0msorted\u001b[0m\u001b[0;34m(\u001b[0m\u001b[0mzip\u001b[0m\u001b[0;34m(\u001b[0m\u001b[0mfeature_importances\u001b[0m\u001b[0;34m,\u001b[0m \u001b[0mXtest\u001b[0m\u001b[0;34m.\u001b[0m\u001b[0mcolumns\u001b[0m\u001b[0;34m)\u001b[0m\u001b[0;34m,\u001b[0m \u001b[0mreverse\u001b[0m\u001b[0;34m=\u001b[0m\u001b[0;32mTrue\u001b[0m\u001b[0;34m)\u001b[0m\u001b[0;34m:\u001b[0m\u001b[0;34m\u001b[0m\u001b[0;34m\u001b[0m\u001b[0m\n\u001b[0;32m----> 8\u001b[0;31m     \u001b[0mprint\u001b[0m\u001b[0;34m(\u001b[0m\u001b[0;34mf\"{v}: {k:.3f}\"\u001b[0m\u001b[0;34m)\u001b[0m\u001b[0;34m\u001b[0m\u001b[0;34m\u001b[0m\u001b[0m\n\u001b[0m",
            "\u001b[0;31mTypeError\u001b[0m: unsupported format string passed to numpy.ndarray.__format__"
          ]
        }
      ],
      "source": [
        "# put them into a separate variable for convenience\n",
        "feature_importances = grid_search.best_estimator_.coef_\n",
        "\n",
        "# the order of the features in `feature_importances` is the same as in the Xtrain dataframe,\n",
        "# so we can \"zip\" the two and print in the descending order:\n",
        "\n",
        "for k, v in sorted(zip(feature_importances, Xtest.columns), reverse=True):\n",
        "    print(f\"{v}: {k:.3f}\")"
      ]
    },
    {
      "cell_type": "code",
      "source": [
        "best_model.coef_[0]\n"
      ],
      "metadata": {
        "colab": {
          "base_uri": "https://localhost:8080/"
        },
        "id": "mmb6RKnrJnhD",
        "outputId": "5495df50-c8a2-4bc3-d2f2-36f3aee9c3c5"
      },
      "execution_count": null,
      "outputs": [
        {
          "output_type": "execute_result",
          "data": {
            "text/plain": [
              "array([ 4.60064975e-01, -1.19905975e-01, -3.20159000e-01,  1.18096084e-02,\n",
              "       -4.09548817e-02,  5.27644901e-02,  1.83586204e-01, -3.20262596e-02,\n",
              "       -1.30330739e-01, -5.00532870e-02,  4.35720574e-02,  6.76753479e-02,\n",
              "        5.18946813e-01,  2.06407284e-01, -1.07879715e-01, -9.85275689e-02,\n",
              "       -2.94377969e-02,  1.54730609e-02, -4.49108578e-02,  5.11342137e-01,\n",
              "        5.13904922e-04,  2.91131537e-02,  9.83095049e-02,  6.19341247e-02,\n",
              "        2.28081266e-04, -1.69935695e-02, -1.77987292e-03, -8.89333541e-05,\n",
              "        7.33827798e-02, -7.71224866e-04,  3.61332564e-02,  3.78342741e-02,\n",
              "        1.21069730e-02,  1.19722896e-01, -4.19287435e-03, -1.45710174e-01,\n",
              "        4.21693762e-03,  7.55527094e-03])"
            ]
          },
          "metadata": {},
          "execution_count": 97
        }
      ]
    },
    {
      "cell_type": "code",
      "source": [
        "def f_importances(coef, names, top=-1):\n",
        "    imp = coef\n",
        "    imp, names = zip(*sorted(list(zip(imp, names))))\n",
        "\n",
        "    # Show all features\n",
        "    if top == -1:\n",
        "        top = len(names)\n",
        "\n",
        "    plt.barh(range(top), imp[::-1][0:top], align='center')\n",
        "    plt.yticks(range(top), names[::-1][0:top])\n",
        "    plt.show()\n",
        "features_names = Xtrain.columns\n",
        "f_importances(abs(best_model.coef_[0]), features_names, top=35) "
      ],
      "metadata": {
        "colab": {
          "base_uri": "https://localhost:8080/",
          "height": 265
        },
        "id": "7GUHjegeKNrZ",
        "outputId": "1f2e24db-a0b2-427a-ad24-8b125b42672c"
      },
      "execution_count": null,
      "outputs": [
        {
          "output_type": "display_data",
          "data": {
            "text/plain": [
              "<Figure size 432x288 with 1 Axes>"
            ],
            "image/png": "[encoded data removed]"
          },
          "metadata": {
            "needs_background": "light"
          }
        }
      ]
    },
    {
      "cell_type": "code",
      "source": [
        "def f_importances(coef, names, top=-1):\n",
        "  imp = coef\n",
        "  j = 0 \n",
        "  z = {}\n",
        "  for i in imp:\n",
        "    if i >= 0.05:\n",
        "      z[names[j]]= i\n",
        "      j += 1\n",
        "    # Show all features\n",
        "  return z\n",
        "features_names = Xtrain.columns\n",
        "f_importances(abs(best_model.coef_[0]), features_names, top=20) "
      ],
      "metadata": {
        "colab": {
          "base_uri": "https://localhost:8080/"
        },
        "id": "-ziRw5iTLiZr",
        "outputId": "46fca4a7-c3ba-4a34-ce89-8baf54e08013"
      },
      "execution_count": null,
      "outputs": [
        {
          "output_type": "execute_result",
          "data": {
            "text/plain": [
              "{'Won': 0.46006497484716186,\n",
              " 'Draw': 0.11990597481315103,\n",
              " 'Loss': 0.3201590000339931,\n",
              " 'GF': 0.0527644900981559,\n",
              " 'GA': 0.18358620438469753,\n",
              " 'GD': 0.13033073874191492,\n",
              " 'HW': 0.050053287020442816,\n",
              " 'HD': 0.06767534792584436,\n",
              " 'HL': 0.5189468125035257,\n",
              " 'HGF': 0.20640728414093254,\n",
              " 'HGA': 0.10787971519798639,\n",
              " 'HGD': 0.0985275689429367,\n",
              " 'HP': 0.5113421372248124,\n",
              " 'AW': 0.0983095048782463,\n",
              " 'AD': 0.06193412466180766,\n",
              " 'AL': 0.07338277978442587,\n",
              " 'AGF': 0.11972289567085329,\n",
              " 'AGA': 0.14571017411252107}"
            ]
          },
          "metadata": {},
          "execution_count": 121
        }
      ]
    },
    {
      "cell_type": "code",
      "source": [
        ":best_model = grid_search.best_estimator_\n",
        "\n",
        "yhat = best_model.predict(Xtest)\n",
        "\n",
        "final_mse = mean_squared_error(ytest, yhat)\n",
        "final_rmse = np.sqrt(final_mse)\n",
        "final_rmse"
      ],
      "metadata": {
        "colab": {
          "base_uri": "https://localhost:8080/"
        },
        "id": "_3t7TWvGIFDI",
        "outputId": "22df2af2-445e-4fa2-b269-81a3953fd617"
      },
      "execution_count": null,
      "outputs": [
        {
          "output_type": "execute_result",
          "data": {
            "text/plain": [
              "2.336255155471728"
            ]
          },
          "metadata": {},
          "execution_count": 94
        }
      ]
    },
    {
      "cell_type": "markdown",
      "metadata": {
        "id": "6rBLUYl-uiL5"
      },
      "source": [
        "## XGBoost"
      ]
    },
    {
      "cell_type": "code",
      "execution_count": null,
      "metadata": {
        "id": "ZX9kPd_Av6XO"
      },
      "outputs": [],
      "source": [
        "import xgboost as xgb"
      ]
    },
    {
      "cell_type": "code",
      "execution_count": null,
      "metadata": {
        "id": "6WQ5VKnjvy8O"
      },
      "outputs": [],
      "source": [
        "params_grid = {\n",
        "    'n_estimators': [5, 10, 15, 20, 30, 60],\n",
        "    'colsample_bytree': [0.01,0.1,0.5,0.9, 1],\n",
        "    'learning_rate':[0.01,0.1,0.5,1]\n",
        "}\n",
        "\n",
        "xg_reg = xgb.XGBRegressor(objective ='reg:linear', max_depth = 6, alpha = 10, random_state = 7)\n",
        "# we'll use 10-fold cross-validation\n",
        "grid_search = GridSearchCV(xg_reg, params_grid, cv=5,\n",
        "                           scoring='neg_root_mean_squared_error', \n",
        "                           return_train_score=True, verbose=2)\n",
        "\n",
        "grid_search.fit(Xtrain, ytrain)"
      ]
    },
    {
      "cell_type": "code",
      "source": [
        "grid_search.best_estimator_"
      ],
      "metadata": {
        "colab": {
          "base_uri": "https://localhost:8080/"
        },
        "id": "gF8AkTtFSuvq",
        "outputId": "edbec81c-f9db-4153-c986-3573679c725e"
      },
      "execution_count": null,
      "outputs": [
        {
          "output_type": "execute_result",
          "data": {
            "text/plain": [
              "XGBRegressor(alpha=10, max_depth=6, n_estimators=60, random_state=7)"
            ]
          },
          "metadata": {},
          "execution_count": 151
        }
      ]
    },
    {
      "cell_type": "code",
      "source": [
        "-grid_search.best_score_"
      ],
      "metadata": {
        "colab": {
          "base_uri": "https://localhost:8080/"
        },
        "id": "oAGk5PCjSw4F",
        "outputId": "9fb9edfb-45d2-4826-cad1-331020da1344"
      },
      "execution_count": null,
      "outputs": [
        {
          "output_type": "execute_result",
          "data": {
            "text/plain": [
              "1.2426878747331673"
            ]
          },
          "metadata": {},
          "execution_count": 152
        }
      ]
    },
    {
      "cell_type": "code",
      "source": [
        "cv_results = pd.DataFrame(grid_search.cv_results_)[['params', 'mean_train_score', 'mean_test_score']]\n",
        "cv_results[\"mean_train_score\"] = -cv_results[\"mean_train_score\"]\n",
        "cv_results[\"mean_test_score\"] = -cv_results[\"mean_test_score\"]\n",
        "cv_results[\"diff, %\"] = 100*(cv_results[\"mean_train_score\"]-cv_results[\"mean_test_score\"]\n",
        "                                                     )/cv_results[\"mean_train_score\"]\n",
        "\n",
        "cv_results.sort_values('mean_test_score')"
      ],
      "metadata": {
        "colab": {
          "base_uri": "https://localhost:8080/",
          "height": 424
        },
        "id": "p6sWnb36TNLl",
        "outputId": "c6d6220f-9a08-4d0c-9bd8-7f3060f22362"
      },
      "execution_count": null,
      "outputs": [
        {
          "output_type": "execute_result",
          "data": {
            "text/plain": [
              "                                                params  mean_train_score  \\\n",
              "107  {'colsample_bytree': 1, 'learning_rate': 0.1, ...          0.293619   \n",
              "83   {'colsample_bytree': 0.9, 'learning_rate': 0.1...          0.293876   \n",
              "59   {'colsample_bytree': 0.5, 'learning_rate': 0.1...          0.319628   \n",
              "89   {'colsample_bytree': 0.9, 'learning_rate': 0.5...          0.000519   \n",
              "88   {'colsample_bytree': 0.9, 'learning_rate': 0.5...          0.010732   \n",
              "..                                                 ...               ...   \n",
              "96   {'colsample_bytree': 1, 'learning_rate': 0.01,...         52.642383   \n",
              "72   {'colsample_bytree': 0.9, 'learning_rate': 0.0...         52.642383   \n",
              "48   {'colsample_bytree': 0.5, 'learning_rate': 0.0...         52.646999   \n",
              "24   {'colsample_bytree': 0.1, 'learning_rate': 0.0...         52.676966   \n",
              "0    {'colsample_bytree': 0.01, 'learning_rate': 0....         52.748616   \n",
              "\n",
              "     mean_test_score        diff, %  \n",
              "107         1.242688    -323.231459  \n",
              "83          1.257419    -327.873587  \n",
              "59          1.502144    -369.966068  \n",
              "89          2.226511 -428530.725292  \n",
              "88          2.226645  -20648.467568  \n",
              "..               ...            ...  \n",
              "96         52.588412       0.102525  \n",
              "72         52.588761       0.101860  \n",
              "48         52.602291       0.084920  \n",
              "24         52.633534       0.082448  \n",
              "0          52.712277       0.068890  \n",
              "\n",
              "[120 rows x 4 columns]"
            ],
            "text/html": [
              "\n",
              "  <div id=\"df-2359facc-2ce5-4e2c-af09-24b26fffa7ae\">\n",
              "    <div class=\"colab-df-container\">\n",
              "      <div>\n",
              "<style scoped>\n",
              "    .dataframe tbody tr th:only-of-type {\n",
              "        vertical-align: middle;\n",
              "    }\n",
              "\n",
              "    .dataframe tbody tr th {\n",
              "        vertical-align: top;\n",
              "    }\n",
              "\n",
              "    .dataframe thead th {\n",
              "        text-align: right;\n",
              "    }\n",
              "</style>\n",
              "<table border=\"1\" class=\"dataframe\">\n",
              "  <thead>\n",
              "    <tr style=\"text-align: right;\">\n",
              "      <th></th>\n",
              "      <th>params</th>\n",
              "      <th>mean_train_score</th>\n",
              "      <th>mean_test_score</th>\n",
              "      <th>diff, %</th>\n",
              "    </tr>\n",
              "  </thead>\n",
              "  <tbody>\n",
              "    <tr>\n",
              "      <th>107</th>\n",
              "      <td>{'colsample_bytree': 1, 'learning_rate': 0.1, ...</td>\n",
              "      <td>0.293619</td>\n",
              "      <td>1.242688</td>\n",
              "      <td>-323.231459</td>\n",
              "    </tr>\n",
              "    <tr>\n",
              "      <th>83</th>\n",
              "      <td>{'colsample_bytree': 0.9, 'learning_rate': 0.1...</td>\n",
              "      <td>0.293876</td>\n",
              "      <td>1.257419</td>\n",
              "      <td>-327.873587</td>\n",
              "    </tr>\n",
              "    <tr>\n",
              "      <th>59</th>\n",
              "      <td>{'colsample_bytree': 0.5, 'learning_rate': 0.1...</td>\n",
              "      <td>0.319628</td>\n",
              "      <td>1.502144</td>\n",
              "      <td>-369.966068</td>\n",
              "    </tr>\n",
              "    <tr>\n",
              "      <th>89</th>\n",
              "      <td>{'colsample_bytree': 0.9, 'learning_rate': 0.5...</td>\n",
              "      <td>0.000519</td>\n",
              "      <td>2.226511</td>\n",
              "      <td>-428530.725292</td>\n",
              "    </tr>\n",
              "    <tr>\n",
              "      <th>88</th>\n",
              "      <td>{'colsample_bytree': 0.9, 'learning_rate': 0.5...</td>\n",
              "      <td>0.010732</td>\n",
              "      <td>2.226645</td>\n",
              "      <td>-20648.467568</td>\n",
              "    </tr>\n",
              "    <tr>\n",
              "      <th>...</th>\n",
              "      <td>...</td>\n",
              "      <td>...</td>\n",
              "      <td>...</td>\n",
              "      <td>...</td>\n",
              "    </tr>\n",
              "    <tr>\n",
              "      <th>96</th>\n",
              "      <td>{'colsample_bytree': 1, 'learning_rate': 0.01,...</td>\n",
              "      <td>52.642383</td>\n",
              "      <td>52.588412</td>\n",
              "      <td>0.102525</td>\n",
              "    </tr>\n",
              "    <tr>\n",
              "      <th>72</th>\n",
              "      <td>{'colsample_bytree': 0.9, 'learning_rate': 0.0...</td>\n",
              "      <td>52.642383</td>\n",
              "      <td>52.588761</td>\n",
              "      <td>0.101860</td>\n",
              "    </tr>\n",
              "    <tr>\n",
              "      <th>48</th>\n",
              "      <td>{'colsample_bytree': 0.5, 'learning_rate': 0.0...</td>\n",
              "      <td>52.646999</td>\n",
              "      <td>52.602291</td>\n",
              "      <td>0.084920</td>\n",
              "    </tr>\n",
              "    <tr>\n",
              "      <th>24</th>\n",
              "      <td>{'colsample_bytree': 0.1, 'learning_rate': 0.0...</td>\n",
              "      <td>52.676966</td>\n",
              "      <td>52.633534</td>\n",
              "      <td>0.082448</td>\n",
              "    </tr>\n",
              "    <tr>\n",
              "      <th>0</th>\n",
              "      <td>{'colsample_bytree': 0.01, 'learning_rate': 0....</td>\n",
              "      <td>52.748616</td>\n",
              "      <td>52.712277</td>\n",
              "      <td>0.068890</td>\n",
              "    </tr>\n",
              "  </tbody>\n",
              "</table>\n",
              "<p>120 rows × 4 columns</p>\n",
              "</div>\n",
              "      <button class=\"colab-df-convert\" onclick=\"convertToInteractive('df-2359facc-2ce5-4e2c-af09-24b26fffa7ae')\"\n",
              "              title=\"Convert this dataframe to an interactive table.\"\n",
              "              style=\"display:none;\">\n",
              "        \n",
              "  <svg xmlns=\"http://www.w3.org/2000/svg\" height=\"24px\"viewBox=\"0 0 24 24\"\n",
              "       width=\"24px\">\n",
              "    <path d=\"M0 0h24v24H0V0z\" fill=\"none\"/>\n",
              "    <path d=\"M18.56 5.44l.94 2.06.94-2.06 2.06-.94-2.06-.94-.94-2.06-.94 2.06-2.06.94zm-11 1L8.5 8.5l.94-2.06 2.06-.94-2.06-.94L8.5 2.5l-.94 2.06-2.06.94zm10 10l.94 2.06.94-2.06 2.06-.94-2.06-.94-.94-2.06-.94 2.06-2.06.94z\"/><path d=\"M17.41 7.96l-1.37-1.37c-.4-.4-.92-.59-1.43-.59-.52 0-1.04.2-1.43.59L10.3 9.45l-7.72 7.72c-.78.78-.78 2.05 0 2.83L4 21.41c.39.39.9.59 1.41.59.51 0 1.02-.2 1.41-.59l7.78-7.78 2.81-2.81c.8-.78.8-2.07 0-2.86zM5.41 20L4 18.59l7.72-7.72 1.47 1.35L5.41 20z\"/>\n",
              "  </svg>\n",
              "      </button>\n",
              "      \n",
              "  <style>\n",
              "    .colab-df-container {\n",
              "      display:flex;\n",
              "      flex-wrap:wrap;\n",
              "      gap: 12px;\n",
              "    }\n",
              "\n",
              "    .colab-df-convert {\n",
              "      background-color: #E8F0FE;\n",
              "      border: none;\n",
              "      border-radius: 50%;\n",
              "      cursor: pointer;\n",
              "      display: none;\n",
              "      fill: #1967D2;\n",
              "      height: 32px;\n",
              "      padding: 0 0 0 0;\n",
              "      width: 32px;\n",
              "    }\n",
              "\n",
              "    .colab-df-convert:hover {\n",
              "      background-color: #E2EBFA;\n",
              "      box-shadow: 0px 1px 2px rgba(60, 64, 67, 0.3), 0px 1px 3px 1px rgba(60, 64, 67, 0.15);\n",
              "      fill: #174EA6;\n",
              "    }\n",
              "\n",
              "    [theme=dark] .colab-df-convert {\n",
              "      background-color: #3B4455;\n",
              "      fill: #D2E3FC;\n",
              "    }\n",
              "\n",
              "    [theme=dark] .colab-df-convert:hover {\n",
              "      background-color: #434B5C;\n",
              "      box-shadow: 0px 1px 3px 1px rgba(0, 0, 0, 0.15);\n",
              "      filter: drop-shadow(0px 1px 2px rgba(0, 0, 0, 0.3));\n",
              "      fill: #FFFFFF;\n",
              "    }\n",
              "  </style>\n",
              "\n",
              "      <script>\n",
              "        const buttonEl =\n",
              "          document.querySelector('#df-2359facc-2ce5-4e2c-af09-24b26fffa7ae button.colab-df-convert');\n",
              "        buttonEl.style.display =\n",
              "          google.colab.kernel.accessAllowed ? 'block' : 'none';\n",
              "\n",
              "        async function convertToInteractive(key) {\n",
              "          const element = document.querySelector('#df-2359facc-2ce5-4e2c-af09-24b26fffa7ae');\n",
              "          const dataTable =\n",
              "            await google.colab.kernel.invokeFunction('convertToInteractive',\n",
              "                                                     [key], {});\n",
              "          if (!dataTable) return;\n",
              "\n",
              "          const docLinkHtml = 'Like what you see? Visit the ' +\n",
              "            '<a target=\"_blank\" href=https://colab.research.google.com/notebooks/data_table.ipynb>data table notebook</a>'\n",
              "            + ' to learn more about interactive tables.';\n",
              "          element.innerHTML = '';\n",
              "          dataTable['output_type'] = 'display_data';\n",
              "          await google.colab.output.renderOutput(dataTable, element);\n",
              "          const docLink = document.createElement('div');\n",
              "          docLink.innerHTML = docLinkHtml;\n",
              "          element.appendChild(docLink);\n",
              "        }\n",
              "      </script>\n",
              "    </div>\n",
              "  </div>\n",
              "  "
            ]
          },
          "metadata": {},
          "execution_count": 154
        }
      ]
    },
    {
      "cell_type": "code",
      "source": [
        "# put them into a separate variable for convenience\n",
        "feature_importances = grid_search.best_estimator_.feature_importances_\n",
        "\n",
        "# the order of the features in `feature_importances` is the same as in the Xtrain dataframe,\n",
        "# so we can \"zip\" the two and print in the descending order:\n",
        "\n",
        "for k, v in sorted(zip(feature_importances, Xtest.columns), reverse=True):\n",
        "    print(f\"{v}: {k:.3f}\")"
      ],
      "metadata": {
        "colab": {
          "base_uri": "https://localhost:8080/"
        },
        "id": "P4QxLeRoTYcK",
        "outputId": "62007cf8-1ff0-4005-8582-379d2533b6b8"
      },
      "execution_count": null,
      "outputs": [
        {
          "output_type": "stream",
          "name": "stdout",
          "text": [
            "Won: 0.476\n",
            "GD: 0.293\n",
            "Loss: 0.190\n",
            "HP: 0.019\n",
            "HGD: 0.011\n",
            "Touches: 0.001\n",
            "Clearances: 0.001\n",
            "AP: 0.001\n",
            "GA: 0.001\n",
            "SR: 0.001\n",
            "AW: 0.000\n",
            "AL: 0.000\n",
            "Draw: 0.000\n",
            "HGF: 0.000\n",
            "YC: 0.000\n",
            "AGA: 0.000\n",
            "Passes: 0.000\n",
            "HW: 0.000\n",
            "Owngoal: 0.000\n",
            "HD: 0.000\n",
            "Shots: 0.000\n",
            "HL: 0.000\n",
            "SGR: 0.000\n",
            "Saves: 0.000\n",
            "ACG: 0.000\n",
            "PLS: 0.000\n",
            "PSR: 0.000\n",
            "AGF: 0.000\n",
            "Tackles: 0.000\n",
            "PGR: 0.000\n",
            "GF: 0.000\n",
            "RC: 0.000\n",
            "AD: 0.000\n",
            "Cleansheets: 0.000\n",
            "HGA: 0.000\n",
            "AGD: 0.000\n",
            "WR: 0.000\n",
            "WIE: 0.000\n"
          ]
        }
      ]
    },
    {
      "cell_type": "code",
      "source": [
        "best_model = grid_search.best_estimator_\n",
        "\n",
        "yhat = best_model.predict(Xtest)\n",
        "\n",
        "final_mse = mean_squared_error(ytest, yhat)\n",
        "final_rmse = np.sqrt(final_mse)\n",
        "final_rmse"
      ],
      "metadata": {
        "colab": {
          "base_uri": "https://localhost:8080/"
        },
        "id": "bvnKg_9QTtxR",
        "outputId": "a39da2bd-4bc6-46cf-f7df-ea9dddd17ee5"
      },
      "execution_count": null,
      "outputs": [
        {
          "output_type": "execute_result",
          "data": {
            "text/plain": [
              "1.9038184058115228"
            ]
          },
          "metadata": {},
          "execution_count": 145
        }
      ]
    },
    {
      "cell_type": "code",
      "source": [],
      "metadata": {
        "id": "d1Pcu-qYYJzH"
      },
      "execution_count": null,
      "outputs": []
    }
  ],
  "metadata": {
    "colab": {
      "provenance": [],
      "mount_file_id": "1CJkM-izSVlXoC1WQIlXpPxjeb0j7jnDr",
      "authorship_tag": "ABX9TyMtrrytM9S/E2sAu9GeimM5",
      "include_colab_link": true
    },
    "kernelspec": {
      "display_name": "Python 3",
      "name": "python3"
    },
    "language_info": {
      "name": "python"
    }
  },
  "nbformat": 4,
  "nbformat_minor": 0
}